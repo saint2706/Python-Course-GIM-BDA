{
 "cells": [
  {
   "cell_type": "markdown",
   "id": "ceb54f42",
   "metadata": {},
   "source": [
    "# Categorical Encoding Techniques in Python\n",
    "## Prof. Dnyanesh Khedekar , Big Data Analytics, GIM\n",
    "This notebook demonstrates when and how to use different categorical encoding techniques.\n",
    "Each section includes explanation and code examples."
   ]
  },
  {
   "cell_type": "markdown",
   "id": "fa07e2dc",
   "metadata": {},
   "source": [
    "## 1. Label Encoding\n",
    "Label Encoding converts each category into a unique integer, based on **alphabetical order.**\n",
    "Use when categorical variable is **ordinal** (i.e., there is a natural order to the categories)."
   ]
  },
  {
   "cell_type": "code",
   "execution_count": null,
   "id": "95856e70",
   "metadata": {},
   "outputs": [],
   "source": [
    "# Import pandas for data manipulation and LabelEncoder for encoding.\n",
    "import pandas as pd\n",
    "from sklearn.preprocessing import LabelEncoder\n",
    "\n",
    "# Create a sample DataFrame with a 'Grade' column.\n",
    "df = pd.DataFrame({'Grade': ['A','C','B','F','A','D']})\n",
    "# Initialize the LabelEncoder.\n",
    "le = LabelEncoder()\n",
    "# Fit the encoder to the 'Grade' column and transform it into numerical labels.\n",
    "df['Grade_encoded'] = le.fit_transform(df['Grade'])\n",
    "# Display the DataFrame with the new encoded column.\n",
    "df"
   ]
  },
  {
   "cell_type": "markdown",
   "id": "c13f0b08",
   "metadata": {},
   "source": [
    "Other example for label : Level tags that sort naturally: ['Level1','Level2','Level3','Level4']"
   ]
  },
  {
   "cell_type": "code",
   "execution_count": null,
   "id": "9754cbd0",
   "metadata": {},
   "outputs": [],
   "source": [
    "# Another example of Label Encoding with different quality levels.\n",
    "import pandas as pd\n",
    "from sklearn.preprocessing import LabelEncoder\n",
    "\n",
    "# Sample DataFrame with an ordinal 'Quality' feature.\n",
    "df = pd.DataFrame({'Quality': ['Low', 'Medium', 'High', 'Medium', 'Low']})\n",
    "\n",
    "# Initialize and apply the LabelEncoder.\n",
    "le = LabelEncoder()\n",
    "df['Quality_encoded'] = le.fit_transform(df['Quality'])\n",
    "# Note that the encoding is based on alphabetical order: High (0), Low (1), Medium (2).\n",
    "df"
   ]
  },
  {
   "cell_type": "markdown",
   "id": "0bd42281",
   "metadata": {},
   "source": [
    "## 2. One-Hot Encoding\n",
    "Creates binary columns for each category. Use when variable is **nominal** (no order). ( Problem  : Curse of dimentionality )"
   ]
  },
  {
   "cell_type": "code",
   "execution_count": null,
   "id": "a7d0f3f2",
   "metadata": {},
   "outputs": [],
   "source": [
    "# Create a sample DataFrame with a nominal 'Color' feature.\n",
    "df = pd.DataFrame({'Color': ['Red', 'Blue', 'Green', 'Blue', 'Red']})\n",
    "\n",
    "# Use pandas' get_dummies() function to perform one-hot encoding.\n",
    "# This creates a new column for each color, with 1s and 0s indicating the presence of that color.\n",
    "one_hot_df = pd.get_dummies(df, columns=['Color'])\n",
    "one_hot_df"
   ]
  },
  {
   "cell_type": "markdown",
   "id": "3fb52dae",
   "metadata": {},
   "source": [
    "## 3. Ordinal Encoding\n",
    "Maps categories to integers based on predefined order.\n",
    "Useful for ordered categorical data (e.g., 'Poor' < 'Average' < 'Good')."
   ]
  },
  {
   "cell_type": "code",
   "execution_count": null,
   "id": "94d6c7d0",
   "metadata": {},
   "outputs": [],
   "source": [
    "# Import OrdinalEncoder for custom order encoding.\n",
    "from sklearn.preprocessing import OrdinalEncoder\n",
    "\n",
    "# Define the desired order of the categories.\n",
    "ordinal_map = [['Poor', 'Average', 'Good']]\n",
    "# Create a sample DataFrame.\n",
    "df = pd.DataFrame({'Service': ['Good', 'Poor', 'Average', 'Good', 'Poor']})\n",
    "\n",
    "# Initialize the OrdinalEncoder with the custom order.\n",
    "enc = OrdinalEncoder(categories=ordinal_map)\n",
    "# Apply the encoder to the 'Service' column.\n",
    "df['Service_encoded'] = enc.fit_transform(df[['Service']])\n",
    "df"
   ]
  },
  {
   "cell_type": "markdown",
   "id": "e5f45f7d",
   "metadata": {},
   "source": [
    "## 4. Target Encoding\n",
    "Replaces each category with the mean of the target variable.\n",
    "Use carefully to prevent **data leakage**."
   ]
  },
  {
   "cell_type": "code",
   "execution_count": null,
   "id": "b949cae4",
   "metadata": {},
   "outputs": [],
   "source": [
    "# Create a sample DataFrame with a categorical feature and a numerical target ('Sales').\n",
    "df = pd.DataFrame({'Category': ['A', 'B', 'A', 'C', 'B', 'C', 'A'], 'Sales': [100, 200, 150, 300, 250, 400, 120]})\n",
    "\n",
    "# Calculate the mean of 'Sales' for each category.\n",
    "target_mean = df.groupby('Category')['Sales'].mean().to_dict()\n",
    "# Map the calculated means back to the 'Category' column to create the encoded feature.\n",
    "df['Category_encoded'] = df['Category'].map(target_mean)\n",
    "df"
   ]
  },
  {
   "cell_type": "markdown",
   "id": "696d4ba5",
   "metadata": {},
   "source": [
    "## 5. Frequency Encoding\n",
    "Each category is replaced by its frequency in the dataset.\n",
    "Helps when frequency conveys useful information."
   ]
  },
  {
   "cell_type": "code",
   "execution_count": null,
   "id": "e189a93e",
   "metadata": {},
   "outputs": [],
   "source": [
    "# Create a sample DataFrame with a 'Brand' column.\n",
    "df = pd.DataFrame({'Brand': ['A', 'B', 'A', 'C', 'B', 'A', 'B']})\n",
    "# Calculate the frequency of each brand.\n",
    "freq_enc = df['Brand'].value_counts().to_dict()\n",
    "# Map the frequencies to the 'Brand' column to create the encoded feature.\n",
    "df['Brand_encoded'] = df['Brand'].map(freq_enc)\n",
    "df"
   ]
  },
  {
   "cell_type": "markdown",
   "id": "4cfec171",
   "metadata": {},
   "source": [
    "## 6. Hash Encoding\n",
    "Converts categories into a fixed number of columns using hash function.\n",
    "Useful for **very high-cardinality** data."
   ]
  },
  {
   "cell_type": "code",
   "execution_count": null,
   "id": "63990e6f",
   "metadata": {},
   "outputs": [],
   "source": [
    "# Import the category_encoders library for more advanced encoding techniques.\n",
    "import  category_encoders as ce\n",
    "# Initialize the HashingEncoder with the desired number of output columns (n_components).\n",
    "encoder = ce.HashingEncoder(cols=['City'], n_components=4)\n",
    "# Apply the encoder to the 'City' column.\n",
    "hash_df = encoder.fit_transform(pd.DataFrame({'City': ['Delhi', 'Mumbai', 'Kolkata', 'Delhi', 'Bangalore']}))\n",
    "hash_df"
   ]
  },
  {
   "cell_type": "markdown",
   "id": "838295c9",
   "metadata": {},
   "source": [
    "## Summary Table\n",
    "| Encoding Type | Best Use Case | Example Library |\n",
    "|----------------|----------------|----------------|\n",
    "| Label Encoding | Ordinal data | sklearn.preprocessing.LabelEncoder |\n",
    "| One-Hot Encoding | Nominal data, low cardinality | pandas.get_dummies |\n",
    "| Ordinal Encoding | Ordered categorical | sklearn.preprocessing.OrdinalEncoder |\n",
    "| Target Encoding | Supervised problems with caution | category_encoders.TargetEncoder |\n",
    "| Frequency Encoding | When category frequency is relevant | pandas |\n",
    "| Hash Encoding | Extremely high-cardinality variables | category_encoders.HashingEncoder |\n",
    "\n"
   ]
  }
 ],
 "metadata": {
  "kernelspec": {
   "display_name": "Python 3 (ipykernel)",
   "language": "python",
   "name": "python3"
  },
  "language_info": {
   "codemirror_mode": {
    "name": "ipython",
    "version": 3
   },
   "file_extension": ".py",
   "mimetype": "text/x-python",
   "name": "python",
   "nbconvert_exporter": "python",
   "pygments_lexer": "ipython3",
   "version": "3.11.3"
  }
 },
 "nbformat": 4,
 "nbformat_minor": 5
}
