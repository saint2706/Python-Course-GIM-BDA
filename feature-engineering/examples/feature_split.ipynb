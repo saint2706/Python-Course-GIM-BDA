{
 "cells": [
  {
   "cell_type": "code",
   "execution_count": 1,
   "id": "de10d640",
   "metadata": {},
   "outputs": [],
   "source": [
    "#feature split first way\n",
    "\n",
    "#importing libraries along with date function also\n",
    "import pandas as pd\n",
    "import numpy as np"
   ]
  },
  {
   "cell_type": "code",
   "execution_count": 2,
   "id": "44b84db0",
   "metadata": {},
   "outputs": [],
   "source": [
    "#creating a new data wiht coumn names\n",
    "data = pd.DataFrame({'name':\n",
    "['raja Singh',\n",
    "'sameer Padhi',\n",
    "'ravi Verma',\n",
    "'venkat Reddy',\n",
    "'ramani Priya',\n",
    "]})"
   ]
  },
  {
   "cell_type": "code",
   "execution_count": 3,
   "id": "1cacf29a",
   "metadata": {},
   "outputs": [
    {
     "data": {
      "text/plain": [
       "0      raja\n",
       "1    sameer\n",
       "2      ravi\n",
       "3    venkat\n",
       "4    ramani\n",
       "Name: name, dtype: object"
      ]
     },
     "execution_count": 3,
     "metadata": {},
     "output_type": "execute_result"
    }
   ],
   "source": [
    "#Extracting first names\n",
    "data.name.str.split(\" \").map(lambda x: x[0])"
   ]
  },
  {
   "cell_type": "code",
   "execution_count": 4,
   "id": "c6a9d0df",
   "metadata": {},
   "outputs": [],
   "source": [
    "#Extracting last names and store in df fn\n",
    "fn=data.name.str.split(\" \").map(lambda x: x[-1])"
   ]
  },
  {
   "cell_type": "code",
   "execution_count": 5,
   "id": "ea45c44f",
   "metadata": {},
   "outputs": [
    {
     "data": {
      "text/plain": [
       "0    Singh\n",
       "1    Padhi\n",
       "2    Verma\n",
       "3    Reddy\n",
       "4    Priya\n",
       "Name: name, dtype: object"
      ]
     },
     "execution_count": 5,
     "metadata": {},
     "output_type": "execute_result"
    }
   ],
   "source": [
    "fn"
   ]
  },
  {
   "cell_type": "code",
   "execution_count": 6,
   "id": "c6dd0a57",
   "metadata": {},
   "outputs": [],
   "source": [
    "#feature split second way string extraction\n",
    "\n",
    "data1=pd.DataFrame({\"Title\":\n",
    "['Toy Story (1995)',\n",
    "'Jumanji (1995)',\n",
    "'Grumpier Old Men (1995)',\n",
    "'Waiting to Exhale (1995)',\n",
    "'Father of the Bride Part II (1995)',\n",
    "]})"
   ]
  },
  {
   "cell_type": "markdown",
   "id": "a1c11c36",
   "metadata": {},
   "source": [
    "data1"
   ]
  },
  {
   "cell_type": "code",
   "execution_count": 7,
   "id": "5de0cd3b",
   "metadata": {},
   "outputs": [
    {
     "data": {
      "text/html": [
       "<div>\n",
       "<style scoped>\n",
       "    .dataframe tbody tr th:only-of-type {\n",
       "        vertical-align: middle;\n",
       "    }\n",
       "\n",
       "    .dataframe tbody tr th {\n",
       "        vertical-align: top;\n",
       "    }\n",
       "\n",
       "    .dataframe thead th {\n",
       "        text-align: right;\n",
       "    }\n",
       "</style>\n",
       "<table border=\"1\" class=\"dataframe\">\n",
       "  <thead>\n",
       "    <tr style=\"text-align: right;\">\n",
       "      <th></th>\n",
       "      <th>Title</th>\n",
       "    </tr>\n",
       "  </thead>\n",
       "  <tbody>\n",
       "    <tr>\n",
       "      <th>0</th>\n",
       "      <td>Toy Story (1995)</td>\n",
       "    </tr>\n",
       "    <tr>\n",
       "      <th>1</th>\n",
       "      <td>Jumanji (1995)</td>\n",
       "    </tr>\n",
       "    <tr>\n",
       "      <th>2</th>\n",
       "      <td>Grumpier Old Men (1995)</td>\n",
       "    </tr>\n",
       "    <tr>\n",
       "      <th>3</th>\n",
       "      <td>Waiting to Exhale (1995)</td>\n",
       "    </tr>\n",
       "    <tr>\n",
       "      <th>4</th>\n",
       "      <td>Father of the Bride Part II (1995)</td>\n",
       "    </tr>\n",
       "  </tbody>\n",
       "</table>\n",
       "</div>"
      ],
      "text/plain": [
       "                                Title\n",
       "0                    Toy Story (1995)\n",
       "1                      Jumanji (1995)\n",
       "2             Grumpier Old Men (1995)\n",
       "3            Waiting to Exhale (1995)\n",
       "4  Father of the Bride Part II (1995)"
      ]
     },
     "execution_count": 7,
     "metadata": {},
     "output_type": "execute_result"
    }
   ],
   "source": [
    "data1"
   ]
  },
  {
   "cell_type": "code",
   "execution_count": 8,
   "id": "20f0ec4f",
   "metadata": {},
   "outputs": [
    {
     "data": {
      "text/plain": [
       "0    1995\n",
       "1    1995\n",
       "2    1995\n",
       "3    1995\n",
       "4    1995\n",
       "Name: 0, dtype: object"
      ]
     },
     "execution_count": 8,
     "metadata": {},
     "output_type": "execute_result"
    }
   ],
   "source": [
    "data1.Title.str.split(\"(\", n=1, expand=True)[1].str.split(\")\", n=1, expand=True)[0]"
   ]
  },
  {
   "cell_type": "code",
   "execution_count": 9,
   "id": "d743044e",
   "metadata": {},
   "outputs": [
    {
     "data": {
      "text/html": [
       "<div>\n",
       "<style scoped>\n",
       "    .dataframe tbody tr th:only-of-type {\n",
       "        vertical-align: middle;\n",
       "    }\n",
       "\n",
       "    .dataframe tbody tr th {\n",
       "        vertical-align: top;\n",
       "    }\n",
       "\n",
       "    .dataframe thead th {\n",
       "        text-align: right;\n",
       "    }\n",
       "</style>\n",
       "<table border=\"1\" class=\"dataframe\">\n",
       "  <thead>\n",
       "    <tr style=\"text-align: right;\">\n",
       "      <th></th>\n",
       "      <th>Title</th>\n",
       "    </tr>\n",
       "  </thead>\n",
       "  <tbody>\n",
       "    <tr>\n",
       "      <th>0</th>\n",
       "      <td>Toy Story (1995)</td>\n",
       "    </tr>\n",
       "    <tr>\n",
       "      <th>1</th>\n",
       "      <td>Jumanji (1995)</td>\n",
       "    </tr>\n",
       "    <tr>\n",
       "      <th>2</th>\n",
       "      <td>Grumpier Old Men (1995)</td>\n",
       "    </tr>\n",
       "    <tr>\n",
       "      <th>3</th>\n",
       "      <td>Waiting to Exhale (1995)</td>\n",
       "    </tr>\n",
       "    <tr>\n",
       "      <th>4</th>\n",
       "      <td>Father of the Bride Part II (1995)</td>\n",
       "    </tr>\n",
       "  </tbody>\n",
       "</table>\n",
       "</div>"
      ],
      "text/plain": [
       "                                Title\n",
       "0                    Toy Story (1995)\n",
       "1                      Jumanji (1995)\n",
       "2             Grumpier Old Men (1995)\n",
       "3            Waiting to Exhale (1995)\n",
       "4  Father of the Bride Part II (1995)"
      ]
     },
     "execution_count": 9,
     "metadata": {},
     "output_type": "execute_result"
    }
   ],
   "source": [
    "data1"
   ]
  }
 ],
 "metadata": {
  "kernelspec": {
   "display_name": "Python 3 (ipykernel)",
   "language": "python",
   "name": "python3"
  },
  "language_info": {
   "codemirror_mode": {
    "name": "ipython",
    "version": 3
   },
   "file_extension": ".py",
   "mimetype": "text/x-python",
   "name": "python",
   "nbconvert_exporter": "python",
   "pygments_lexer": "ipython3",
   "version": "3.11.7"
  }
 },
 "nbformat": 4,
 "nbformat_minor": 5
}
