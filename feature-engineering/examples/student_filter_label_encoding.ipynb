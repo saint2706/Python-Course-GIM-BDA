{
 "cells": [
  {
   "cell_type": "code",
   "execution_count": 2,
   "id": "de71b8fe-92c5-4f4e-bc11-95c62923717c",
   "metadata": {},
   "outputs": [
    {
     "name": "stdout",
     "output_type": "stream",
     "text": [
      "   Student_id  Age  Gender      Grade Employed  Employed_flag  Grade_numeric  \\\n",
      "0           1   19    Male  1st Class      yes              1              1   \n",
      "1           2   20  Female  2nd Class       no              0              2   \n",
      "2           3   18    Male  1st Class       no              0              1   \n",
      "3           4   21  Female  2nd Class       no              0              2   \n",
      "4           5   19    Male  1st Class       no              0              1   \n",
      "\n",
      "     Age_group  \n",
      "0  Young Adult  \n",
      "1  Young Adult  \n",
      "2         Teen  \n",
      "3        Adult  \n",
      "4  Young Adult  \n"
     ]
    }
   ],
   "source": [
    "# Filter and Label Encoding - Student Data Version\n",
    "\n",
    "# Import required libraries\n",
    "import pandas as pd\n",
    "# Import required libraries\n",
    "from sklearn.preprocessing import LabelEncoder\n",
    "\n",
    "# Load the dataset with extracted features\n",
    "df = pd.read_csv(\"student_feature_extraction.csv\")\n",
    "\n",
    "# Preview data\n",
    "print(df.head())"
   ]
  },
  {
   "cell_type": "code",
   "execution_count": 3,
   "id": "06e0c488-fce5-4801-8038-afbcd4e42b62",
   "metadata": {},
   "outputs": [],
   "source": [
    "# Initialize encoders\n",
    "le_gender = LabelEncoder()\n",
    "# Initialize label encoder for categorical variables\n",
    "le_age_group = LabelEncoder()\n",
    "\n",
    "# Encode 'Gender' and 'Age_group'\n",
    "df['Gender_encoded'] = le_gender.fit_transform(df['Gender'])\n",
    "# Fit and transform data in one step\n",
    "df['Age_group_encoded'] = le_age_group.fit_transform(df['Age_group'].astype(str))"
   ]
  },
  {
   "cell_type": "code",
   "execution_count": 4,
   "id": "6a66dd9c-16c4-4157-ad73-7c7cfb4e2428",
   "metadata": {},
   "outputs": [
    {
     "name": "stdout",
     "output_type": "stream",
     "text": [
      "   Gender  Gender_encoded    Age_group  Age_group_encoded\n",
      "0    Male               1  Young Adult                  2\n",
      "1  Female               0  Young Adult                  2\n",
      "2    Male               1         Teen                  1\n",
      "3  Female               0        Adult                  0\n",
      "4    Male               1  Young Adult                  2\n"
     ]
    }
   ],
   "source": [
    "# Display first few rows of the dataset\n",
    "print(df[['Gender', 'Gender_encoded', 'Age_group', 'Age_group_encoded']].head())"
   ]
  },
  {
   "cell_type": "code",
   "execution_count": 5,
   "id": "33d7deb9-a466-4154-b4bf-7bc403c30b83",
   "metadata": {},
   "outputs": [],
   "source": [
    "# Export data to CSV file\n",
    "df.to_csv(\"student_label_encoded.csv\", index=False)"
   ]
  }
 ],
 "metadata": {
  "kernelspec": {
   "display_name": "Python 3 (ipykernel)",
   "language": "python",
   "name": "python3"
  },
  "language_info": {
   "codemirror_mode": {
    "name": "ipython",
    "version": 3
   },
   "file_extension": ".py",
   "mimetype": "text/x-python",
   "name": "python",
   "nbconvert_exporter": "python",
   "pygments_lexer": "ipython3",
   "version": "3.11.7"
  }
 },
 "nbformat": 4,
 "nbformat_minor": 5
}