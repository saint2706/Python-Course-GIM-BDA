{
 "cells": [
  {
   "cell_type": "code",
   "execution_count": 1,
   "id": "fc0e6ede-702d-48d1-bc68-33b3af6f8e8c",
   "metadata": {},
   "outputs": [
    {
     "name": "stdout",
     "output_type": "stream",
     "text": [
      "   Student_id  Age  Gender      Grade Employed  Employed_flag\n",
      "0           1   19    Male  1st Class      yes              1\n",
      "1           2   20  Female  2nd Class       no              0\n",
      "2           3   18    Male  1st Class       no              0\n",
      "3           4   21  Female  2nd Class       no              0\n",
      "4           5   19    Male  1st Class       no              0\n"
     ]
    }
   ],
   "source": [
    "# This notebook demonstrates feature extraction techniques on a student dataset.\n",
    "\n",
    "# Import the pandas library for data manipulation.\n",
    "import pandas as pd\n",
    "\n",
    "# Load the dataset that was processed in the previous feature splitting step.\n",
    "df = pd.read_csv(\"student_feature_split.csv\")\n",
    "\n",
    "# Display the first few rows of the DataFrame to get a quick look at the data.\n",
    "print(df.head())"
   ]
  },
  {
   "cell_type": "code",
   "execution_count": 2,
   "id": "6154bf26-8409-4484-9261-54852ec6f8db",
   "metadata": {},
   "outputs": [],
   "source": [
    "# Create a mapping for the 'Grade' column to convert it to a numerical format.\n",
    "# This is a form of ordinal encoding, where the order of the grades is preserved.\n",
    "grade_map = {\"1st Class\": 1, \"2nd Class\": 2, \"3rd Class\": 3}\n",
    "df['Grade_numeric'] = df['Grade'].map(grade_map)"
   ]
  },
  {
   "cell_type": "code",
   "execution_count": 3,
   "id": "299392c5-9ec0-4f0e-b2e6-37ad7c9d2bb2",
   "metadata": {},
   "outputs": [],
   "source": [
    "# Bin the 'Age' column into different age groups.\n",
    "# 'pd.cut' is used to segment and sort data values into bins.\n",
    "df['Age_group'] = pd.cut(df['Age'], bins=[0, 18, 20, 100], labels=['Teen', 'Young Adult', 'Adult'])"
   ]
  },
  {
   "cell_type": "code",
   "execution_count": 4,
   "id": "2f660446-c912-45f9-9e09-908e287cdd8d",
   "metadata": {},
   "outputs": [
    {
     "name": "stdout",
     "output_type": "stream",
     "text": [
      "   Age    Age_group      Grade  Grade_numeric\n",
      "0   19  Young Adult  1st Class              1\n",
      "1   20  Young Adult  2nd Class              2\n",
      "2   18         Teen  1st Class              1\n",
      "3   21        Adult  2nd Class              2\n",
      "4   19  Young Adult  1st Class              1\n"
     ]
    }
   ],
   "source": [
    "# Display the 'Age', 'Age_group', 'Grade', and 'Grade_numeric' columns to see the results of the feature extraction.\n",
    "print(df[['Age', 'Age_group', 'Grade', 'Grade_numeric']].head())"
   ]
  },
  {
   "cell_type": "code",
   "execution_count": 5,
   "id": "164f4de4-02a7-493c-8d12-f55b5e69f8d3",
   "metadata": {},
   "outputs": [],
   "source": [
    "# Export the DataFrame with the new features to a CSV file.\n",
    "# The index is excluded from the output file.\n",
    "df.to_csv(\"student_feature_extraction.csv\", index=False)"
   ]
  }
 ],
 "metadata": {
  "kernelspec": {
   "display_name": "Python 3 (ipykernel)",
   "language": "python",
   "name": "python3"
  },
  "language_info": {
   "codemirror_mode": {
    "name": "ipython",
    "version": 3
   },
   "file_extension": ".py",
   "mimetype": "text/x-python",
   "name": "python",
   "nbconvert_exporter": "python",
   "pygments_lexer": "ipython3",
   "version": "3.11.7"
  }
 },
 "nbformat": 4,
 "nbformat_minor": 5
}
