{
 "cells": [
  {
   "cell_type": "code",
   "execution_count": 5,
   "id": "89880c83-fac6-4d97-81fb-3b79f80cf688",
   "metadata": {},
   "outputs": [
    {
     "name": "stdout",
     "output_type": "stream",
     "text": [
      "   Student_id  Age  Gender      Grade Employed\n",
      "0           1   19    Male  1st Class      yes\n",
      "1           2   20  Female  2nd Class       no\n",
      "2           3   18    Male  1st Class       no\n",
      "3           4   21  Female  2nd Class       no\n",
      "4           5   19    Male  1st Class       no\n"
     ]
    }
   ],
   "source": [
    "# This notebook demonstrates how to split a categorical feature into a binary flag.\n",
    "\n",
    "# Import the pandas library for data manipulation.\n",
    "import pandas as pd\n",
    "\n",
    "# Load the student dataset from a CSV file.\n",
    "df = pd.read_csv(\"student.csv\")\n",
    "\n",
    "# Display the first 5 rows of the DataFrame to get a quick overview of the data.\n",
    "print(df.head())"
   ]
  },
  {
   "cell_type": "code",
   "execution_count": 6,
   "id": "07a0ad99-5437-4c5e-93f5-ef4f263267fb",
   "metadata": {},
   "outputs": [],
   "source": [
    "# It's a good practice to strip any leading/trailing whitespace from column names.\n",
    "df.columns = df.columns.str.strip()"
   ]
  },
  {
   "cell_type": "code",
   "execution_count": 7,
   "id": "3865e2ca-74b5-400c-abe0-f6689d7a294d",
   "metadata": {},
   "outputs": [],
   "source": [
    "# Convert the 'Employed' column to a binary format (1 for 'yes', 0 for 'no').\n",
    "# This is done by converting the column to lowercase and then mapping the values.\n",
    "df['Employed_flag'] = df['Employed'].str.lower().map({'yes': 1, 'no': 0})"
   ]
  },
  {
   "cell_type": "code",
   "execution_count": 8,
   "id": "76486cd9-7d1a-4f27-8c71-50ae4d2cbfa9",
   "metadata": {},
   "outputs": [
    {
     "name": "stdout",
     "output_type": "stream",
     "text": [
      "  Employed  Employed_flag\n",
      "0      yes              1\n",
      "1       no              0\n",
      "2       no              0\n",
      "3       no              0\n",
      "4       no              0\n"
     ]
    }
   ],
   "source": [
    "# Display the original 'Employed' column and the new 'Employed_flag' column to verify the conversion.\n",
    "print(df[['Employed', 'Employed_flag']].head())"
   ]
  },
  {
   "cell_type": "code",
   "execution_count": 9,
   "id": "35510216-a579-475a-a90c-5628ebbf2864",
   "metadata": {},
   "outputs": [],
   "source": [
    "# Export the modified DataFrame to a new CSV file.\n",
    "# The index is not included in the output file.\n",
    "df.to_csv(\"student_feature_split.csv\", index=False)"
   ]
  }
 ],
 "metadata": {
  "kernelspec": {
   "display_name": "Python 3 (ipykernel)",
   "language": "python",
   "name": "python3"
  },
  "language_info": {
   "codemirror_mode": {
    "name": "ipython",
    "version": 3
   },
   "file_extension": ".py",
   "mimetype": "text/x-python",
   "name": "python",
   "nbconvert_exporter": "python",
   "pygments_lexer": "ipython3",
   "version": "3.11.7"
  }
 },
 "nbformat": 4,
 "nbformat_minor": 5
}
