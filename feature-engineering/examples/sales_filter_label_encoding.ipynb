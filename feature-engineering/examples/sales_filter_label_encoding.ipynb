{
 "cells": [
  {
   "cell_type": "code",
   "execution_count": 1,
   "id": "49979731-085c-4862-960e-9557aa11f698",
   "metadata": {},
   "outputs": [],
   "source": [
    "import pandas as pd\n",
    "from sklearn.preprocessing import LabelEncoder\n",
    "\n",
    "# Load and view data\n",
    "df = pd.read_csv(\"sales.csv\")\n",
    "df = df.dropna(subset=['Gender', 'Customer type', 'Payment'])  # Drop NaNs used for encoding"
   ]
  },
  {
   "cell_type": "code",
   "execution_count": 2,
   "id": "0bed90e1-3f61-4cde-a7c6-d34d38b5c916",
   "metadata": {},
   "outputs": [],
   "source": [
    "le_gender = LabelEncoder()\n",
    "le_customer = LabelEncoder()\n",
    "le_payment = LabelEncoder()\n",
    "\n",
    "df['Gender_encoded'] = le_gender.fit_transform(df['Gender'])\n",
    "df['Customer_encoded'] = le_customer.fit_transform(df['Customer type'])\n",
    "df['Payment_encoded'] = le_payment.fit_transform(df['Payment'])"
   ]
  },
  {
   "cell_type": "code",
   "execution_count": 3,
   "id": "b574402d-23f1-4764-a567-d930f34a3ecf",
   "metadata": {},
   "outputs": [
    {
     "data": {
      "text/html": [
       "<div>\n",
       "<style scoped>\n",
       "    .dataframe tbody tr th:only-of-type {\n",
       "        vertical-align: middle;\n",
       "    }\n",
       "\n",
       "    .dataframe tbody tr th {\n",
       "        vertical-align: top;\n",
       "    }\n",
       "\n",
       "    .dataframe thead th {\n",
       "        text-align: right;\n",
       "    }\n",
       "</style>\n",
       "<table border=\"1\" class=\"dataframe\">\n",
       "  <thead>\n",
       "    <tr style=\"text-align: right;\">\n",
       "      <th></th>\n",
       "      <th>Gender</th>\n",
       "      <th>Gender_encoded</th>\n",
       "      <th>Customer type</th>\n",
       "      <th>Customer_encoded</th>\n",
       "      <th>Payment</th>\n",
       "      <th>Payment_encoded</th>\n",
       "    </tr>\n",
       "  </thead>\n",
       "  <tbody>\n",
       "    <tr>\n",
       "      <th>0</th>\n",
       "      <td>Female</td>\n",
       "      <td>0</td>\n",
       "      <td>Member</td>\n",
       "      <td>0</td>\n",
       "      <td>Ewallet</td>\n",
       "      <td>2</td>\n",
       "    </tr>\n",
       "    <tr>\n",
       "      <th>1</th>\n",
       "      <td>Female</td>\n",
       "      <td>0</td>\n",
       "      <td>Normal</td>\n",
       "      <td>1</td>\n",
       "      <td>Cash</td>\n",
       "      <td>0</td>\n",
       "    </tr>\n",
       "    <tr>\n",
       "      <th>2</th>\n",
       "      <td>Male</td>\n",
       "      <td>1</td>\n",
       "      <td>Normal</td>\n",
       "      <td>1</td>\n",
       "      <td>Credit card</td>\n",
       "      <td>1</td>\n",
       "    </tr>\n",
       "    <tr>\n",
       "      <th>3</th>\n",
       "      <td>Male</td>\n",
       "      <td>1</td>\n",
       "      <td>Member</td>\n",
       "      <td>0</td>\n",
       "      <td>Ewallet</td>\n",
       "      <td>2</td>\n",
       "    </tr>\n",
       "    <tr>\n",
       "      <th>5</th>\n",
       "      <td>Male</td>\n",
       "      <td>1</td>\n",
       "      <td>Normal</td>\n",
       "      <td>1</td>\n",
       "      <td>Ewallet</td>\n",
       "      <td>2</td>\n",
       "    </tr>\n",
       "  </tbody>\n",
       "</table>\n",
       "</div>"
      ],
      "text/plain": [
       "   Gender  Gender_encoded Customer type  Customer_encoded      Payment  \\\n",
       "0  Female               0        Member                 0      Ewallet   \n",
       "1  Female               0        Normal                 1         Cash   \n",
       "2    Male               1        Normal                 1  Credit card   \n",
       "3    Male               1        Member                 0      Ewallet   \n",
       "5    Male               1        Normal                 1      Ewallet   \n",
       "\n",
       "   Payment_encoded  \n",
       "0                2  \n",
       "1                0  \n",
       "2                1  \n",
       "3                2  \n",
       "5                2  "
      ]
     },
     "execution_count": 3,
     "metadata": {},
     "output_type": "execute_result"
    }
   ],
   "source": [
    "df[['Gender', 'Gender_encoded', 'Customer type', 'Customer_encoded', 'Payment', 'Payment_encoded']].head()"
   ]
  },
  {
   "cell_type": "code",
   "execution_count": 4,
   "id": "2d26079d-e426-4cf5-941e-e326a193ef6a",
   "metadata": {},
   "outputs": [],
   "source": [
    "df.to_csv(\"sales_label_encoded.csv\", index=False)"
   ]
  }
 ],
 "metadata": {
  "kernelspec": {
   "display_name": "Python 3 (ipykernel)",
   "language": "python",
   "name": "python3"
  },
  "language_info": {
   "codemirror_mode": {
    "name": "ipython",
    "version": 3
   },
   "file_extension": ".py",
   "mimetype": "text/x-python",
   "name": "python",
   "nbconvert_exporter": "python",
   "pygments_lexer": "ipython3",
   "version": "3.11.7"
  }
 },
 "nbformat": 4,
 "nbformat_minor": 5
}
