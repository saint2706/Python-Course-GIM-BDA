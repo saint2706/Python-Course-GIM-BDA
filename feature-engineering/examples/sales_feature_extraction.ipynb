{
 "cells": [
  {
   "cell_type": "code",
   "execution_count": 1,
   "id": "42ea4725-aa81-49d8-a968-a05fe17437cc",
   "metadata": {},
   "outputs": [],
   "source": [
    "# Import required libraries\n",
    "import pandas as pd\n",
    "# Import required libraries\n",
    "from datetime import date\n",
    "\n",
    "# Load the CSV\n",
    "df = pd.read_csv(\"sales.csv\")\n",
    "df['date_visited'] = pd.to_datetime(df['date_visited'], format='%d-%m-%Y', errors='coerce')"
   ]
  },
  {
   "cell_type": "code",
   "execution_count": 2,
   "id": "ac442dfa-aaf4-41d5-8546-98249a2688cf",
   "metadata": {},
   "outputs": [],
   "source": [
    "df['year'] = df['date_visited'].dt.year\n",
    "df['month'] = df['date_visited'].dt.month\n",
    "df['day_name'] = df['date_visited'].dt.day_name()"
   ]
  },
  {
   "cell_type": "code",
   "execution_count": 3,
   "id": "9f6a88de-c7f4-48c9-b5d9-f33dcd05e797",
   "metadata": {},
   "outputs": [],
   "source": [
    "df['passed_years'] = date.today().year - df['date_visited'].dt.year\n",
    "df['passed_months'] = (date.today().year - df['date_visited'].dt.year) * 12 + (date.today().month - df['date_visited'].dt.month)"
   ]
  },
  {
   "cell_type": "code",
   "execution_count": 4,
   "id": "c00ca9b4-0334-4611-9fa2-f7b9b97c062c",
   "metadata": {},
   "outputs": [
    {
     "data": {
      "text/html": [
       "<div>\n",
       "<style scoped>\n",
       "    .dataframe tbody tr th:only-of-type {\n",
       "        vertical-align: middle;\n",
       "    }\n",
       "\n",
       "    .dataframe tbody tr th {\n",
       "        vertical-align: top;\n",
       "    }\n",
       "\n",
       "    .dataframe thead th {\n",
       "        text-align: right;\n",
       "    }\n",
       "</style>\n",
       "<table border=\"1\" class=\"dataframe\">\n",
       "  <thead>\n",
       "    <tr style=\"text-align: right;\">\n",
       "      <th></th>\n",
       "      <th>date_visited</th>\n",
       "      <th>year</th>\n",
       "      <th>month</th>\n",
       "      <th>day_name</th>\n",
       "      <th>passed_years</th>\n",
       "      <th>passed_months</th>\n",
       "    </tr>\n",
       "  </thead>\n",
       "  <tbody>\n",
       "    <tr>\n",
       "      <th>0</th>\n",
       "      <td>2016-10-02</td>\n",
       "      <td>2016</td>\n",
       "      <td>10</td>\n",
       "      <td>Sunday</td>\n",
       "      <td>9</td>\n",
       "      <td>105</td>\n",
       "    </tr>\n",
       "    <tr>\n",
       "      <th>1</th>\n",
       "      <td>2018-08-26</td>\n",
       "      <td>2018</td>\n",
       "      <td>8</td>\n",
       "      <td>Sunday</td>\n",
       "      <td>7</td>\n",
       "      <td>83</td>\n",
       "    </tr>\n",
       "    <tr>\n",
       "      <th>2</th>\n",
       "      <td>2020-09-14</td>\n",
       "      <td>2020</td>\n",
       "      <td>9</td>\n",
       "      <td>Monday</td>\n",
       "      <td>5</td>\n",
       "      <td>58</td>\n",
       "    </tr>\n",
       "    <tr>\n",
       "      <th>3</th>\n",
       "      <td>2022-10-10</td>\n",
       "      <td>2022</td>\n",
       "      <td>10</td>\n",
       "      <td>Monday</td>\n",
       "      <td>3</td>\n",
       "      <td>33</td>\n",
       "    </tr>\n",
       "    <tr>\n",
       "      <th>4</th>\n",
       "      <td>2019-09-28</td>\n",
       "      <td>2019</td>\n",
       "      <td>9</td>\n",
       "      <td>Saturday</td>\n",
       "      <td>6</td>\n",
       "      <td>70</td>\n",
       "    </tr>\n",
       "  </tbody>\n",
       "</table>\n",
       "</div>"
      ],
      "text/plain": [
       "  date_visited  year  month  day_name  passed_years  passed_months\n",
       "0   2016-10-02  2016     10    Sunday             9            105\n",
       "1   2018-08-26  2018      8    Sunday             7             83\n",
       "2   2020-09-14  2020      9    Monday             5             58\n",
       "3   2022-10-10  2022     10    Monday             3             33\n",
       "4   2019-09-28  2019      9  Saturday             6             70"
      ]
     },
     "execution_count": 4,
     "metadata": {},
     "output_type": "execute_result"
    }
   ],
   "source": [
    "# Display first few rows of the dataset\n",
    "df[['date_visited', 'year', 'month', 'day_name', 'passed_years', 'passed_months']].head()"
   ]
  },
  {
   "cell_type": "code",
   "execution_count": 5,
   "id": "d8c44103-167c-451d-a2ca-638252ddbd56",
   "metadata": {},
   "outputs": [],
   "source": [
    "# Export data to CSV file\n",
    "df.to_csv(\"sales_feature_extraction.csv\", index=False)"
   ]
  }
 ],
 "metadata": {
  "kernelspec": {
   "display_name": "Python 3 (ipykernel)",
   "language": "python",
   "name": "python3"
  },
  "language_info": {
   "codemirror_mode": {
    "name": "ipython",
    "version": 3
   },
   "file_extension": ".py",
   "mimetype": "text/x-python",
   "name": "python",
   "nbconvert_exporter": "python",
   "pygments_lexer": "ipython3",
   "version": "3.11.7"
  }
 },
 "nbformat": 4,
 "nbformat_minor": 5
}