{
 "cells": [
  {
   "cell_type": "markdown",
   "id": "354de88a",
   "metadata": {},
   "source": [
    "## All the questions in this notebook are to be solved with the help of  control flow statements : if , if else , elif , for , while etc."
   ]
  },
  {
   "cell_type": "markdown",
   "id": "cc800f24",
   "metadata": {},
   "source": [
    "**Q1. How can you check if monthly sales 120000 exceed the target 100000 and print 'Target Achieved'??**"
   ]
  },
  {
   "cell_type": "code",
   "execution_count": null,
   "id": "c10e3ab6",
   "metadata": {},
   "outputs": [],
   "source": []
  },
  {
   "cell_type": "markdown",
   "id": "be917629",
   "metadata": {},
   "source": [
    "**Q2. Given a variable `profit=25000`, how can you check if profit is greater than 20000 and print 'Good Performance' else print 'Needs Improvement'??**"
   ]
  },
  {
   "cell_type": "code",
   "execution_count": null,
   "id": "79e9be4e",
   "metadata": {},
   "outputs": [],
   "source": []
  },
  {
   "cell_type": "markdown",
   "id": "632b69a6",
   "metadata": {},
   "source": [
    "**Q3. How can you check if discount=15 is greater than 20, equal to 20, or less than 20 and print messages accordingly??**"
   ]
  },
  {
   "cell_type": "code",
   "execution_count": null,
   "id": "8c3dee4d",
   "metadata": {},
   "outputs": [],
   "source": []
  },
  {
   "cell_type": "markdown",
   "id": "d96ff4e9",
   "metadata": {},
   "source": [
    "**Q4. How can you check if an employee's age=45 is between 30 and 50 inclusive??**"
   ]
  },
  {
   "cell_type": "code",
   "execution_count": null,
   "id": "43380d78",
   "metadata": {},
   "outputs": [],
   "source": []
  },
  {
   "cell_type": "markdown",
   "id": "ebc6f003",
   "metadata": {},
   "source": [
    "**Q5. If `inventory=0`, how can you check and print 'Out of Stock' else print 'Available'??**"
   ]
  },
  {
   "cell_type": "code",
   "execution_count": null,
   "id": "fa41dc65",
   "metadata": {},
   "outputs": [],
   "source": []
  },
  {
   "cell_type": "markdown",
   "id": "f7f453ec",
   "metadata": {},
   "source": [
    "**Q6. How can you check if revenue=80000 and cost=50000, print 'Profit' if revenue>cost else 'Loss'??**"
   ]
  },
  {
   "cell_type": "code",
   "execution_count": null,
   "id": "b42d2148",
   "metadata": {},
   "outputs": [],
   "source": []
  },
  {
   "cell_type": "markdown",
   "id": "be2414d6",
   "metadata": {},
   "source": [
    "**Q7. How can you write nested if to check if grade=85, print 'A' if >=80, else if >=60 print 'B', else print 'C'??**"
   ]
  },
  {
   "cell_type": "code",
   "execution_count": null,
   "id": "841eb3b9",
   "metadata": {},
   "outputs": [],
   "source": []
  },
  {
   "cell_type": "markdown",
   "id": "8599099e",
   "metadata": {},
   "source": [
    "**Q8. How can you check if a client type is 'Premium', 'Standard', or 'Basic' and print benefits accordingly??**"
   ]
  },
  {
   "cell_type": "code",
   "execution_count": null,
   "id": "35342cf0",
   "metadata": {},
   "outputs": [],
   "source": []
  },
  {
   "cell_type": "markdown",
   "id": "12322d63",
   "metadata": {},
   "source": [
    "**Q9. How can you check if temperature=34 is above 35 print 'Hot', if between 25-35 print 'Moderate', else 'Cool'??**"
   ]
  },
  {
   "cell_type": "code",
   "execution_count": null,
   "id": "c175ba11",
   "metadata": {},
   "outputs": [],
   "source": []
  },
  {
   "cell_type": "markdown",
   "id": "c6cc0e26",
   "metadata": {},
   "source": [
    "**Q10. How can you use nested if to check if balance=5000, if >0 then also check if balance>=10000 print 'High Balance' else 'Low Balance'??**"
   ]
  },
  {
   "cell_type": "code",
   "execution_count": null,
   "id": "d8ef0f8c",
   "metadata": {},
   "outputs": [],
   "source": []
  },
  {
   "cell_type": "markdown",
   "id": "3a035bb2",
   "metadata": {},
   "source": [
    "**Q11. How can you iterate over a list of departments `['HR','Finance','Sales']` and print each??**"
   ]
  },
  {
   "cell_type": "code",
   "execution_count": null,
   "id": "5eba84bb",
   "metadata": {},
   "outputs": [],
   "source": []
  },
  {
   "cell_type": "markdown",
   "id": "e4716cd8",
   "metadata": {},
   "source": [
    "**Q12. How can you iterate through order IDs `[101,102,103]` and print 'Processed: <id>'??**"
   ]
  },
  {
   "cell_type": "code",
   "execution_count": null,
   "id": "69ca6da5",
   "metadata": {},
   "outputs": [],
   "source": []
  },
  {
   "cell_type": "markdown",
   "id": "114a6e84",
   "metadata": {},
   "source": [
    "**Q13. How can you calculate the total of sales `[1200,1500,1800]` using a for loop??**"
   ]
  },
  {
   "cell_type": "code",
   "execution_count": null,
   "id": "9c204e72",
   "metadata": {},
   "outputs": [],
   "source": []
  },
  {
   "cell_type": "markdown",
   "id": "5c6195ba",
   "metadata": {},
   "source": [
    "**Q14. How can you iterate through product list `['Mobile','Laptop','Tablet']` and print length of each product??**"
   ]
  },
  {
   "cell_type": "code",
   "execution_count": null,
   "id": "1f55a6f4",
   "metadata": {},
   "outputs": [],
   "source": []
  },
  {
   "cell_type": "markdown",
   "id": "9586abe2",
   "metadata": {},
   "source": [
    "**Q15. How can you print numbers from 1 to 5 using a for loop??**"
   ]
  },
  {
   "cell_type": "code",
   "execution_count": null,
   "id": "c174a2d8",
   "metadata": {},
   "outputs": [],
   "source": []
  },
  {
   "cell_type": "markdown",
   "id": "a99b98dc",
   "metadata": {},
   "source": [
    "**Q16. How can you use while loop to keep reducing stock=10 until it reaches 0??**"
   ]
  },
  {
   "cell_type": "code",
   "execution_count": null,
   "id": "b6f72753",
   "metadata": {},
   "outputs": [],
   "source": []
  },
  {
   "cell_type": "markdown",
   "id": "2791707f",
   "metadata": {},
   "source": [
    "**Q17. How can you use while loop with flag=True to process tasks until task_count=5??**"
   ]
  },
  {
   "cell_type": "code",
   "execution_count": null,
   "id": "484af2c7",
   "metadata": {},
   "outputs": [],
   "source": []
  },
  {
   "cell_type": "markdown",
   "id": "ca562d92",
   "metadata": {},
   "source": [
    "**Q18. How can you simulate while loop where balance=100 keeps reducing by 20 until balance <=0??**"
   ]
  },
  {
   "cell_type": "code",
   "execution_count": null,
   "id": "16cc4542",
   "metadata": {},
   "outputs": [],
   "source": []
  },
  {
   "cell_type": "markdown",
   "id": "69d9a96e",
   "metadata": {},
   "source": [
    "**Q19. How can you use while loop with user input simulation `n=3` to print countdown??**"
   ]
  },
  {
   "cell_type": "code",
   "execution_count": null,
   "id": "b5e07ea6",
   "metadata": {},
   "outputs": [],
   "source": []
  },
  {
   "cell_type": "markdown",
   "id": "7f6da2b4",
   "metadata": {},
   "source": [
    "**Q20. How can you use while loop with flag to print 'Running' three times and then stop??**"
   ]
  },
  {
   "cell_type": "code",
   "execution_count": null,
   "id": "4da4561a",
   "metadata": {},
   "outputs": [],
   "source": []
  },
  {
   "cell_type": "markdown",
   "id": "b73d1f16",
   "metadata": {},
   "source": [
    "**Q21. How can you check if sales list `[120,250,90]` has values above 200 and count them using for loop??**"
   ]
  },
  {
   "cell_type": "code",
   "execution_count": null,
   "id": "f42fcc53",
   "metadata": {},
   "outputs": [],
   "source": []
  },
  {
   "cell_type": "markdown",
   "id": "b8d6afaf",
   "metadata": {},
   "source": [
    "**Q22. How can you use for loop with if condition to print only even numbers from `[1,2,3,4,5,6]`??**"
   ]
  },
  {
   "cell_type": "code",
   "execution_count": null,
   "id": "bda1baa6",
   "metadata": {},
   "outputs": [],
   "source": []
  },
  {
   "cell_type": "markdown",
   "id": "668bea63",
   "metadata": {},
   "source": [
    "**Q23. How can you use nested if inside for loop to classify marks `[45,65,85]` into Pass/Good/Excellent??**"
   ]
  },
  {
   "cell_type": "code",
   "execution_count": null,
   "id": "0a0526fc",
   "metadata": {},
   "outputs": [],
   "source": []
  },
  {
   "cell_type": "markdown",
   "id": "61df2481",
   "metadata": {},
   "source": [
    "**Q24. How can you use while loop to accumulate sum until it exceeds 100 starting from num=10??**"
   ]
  },
  {
   "cell_type": "code",
   "execution_count": null,
   "id": "ef8cb133",
   "metadata": {},
   "outputs": [],
   "source": []
  },
  {
   "cell_type": "markdown",
   "id": "8b28b2a4",
   "metadata": {},
   "source": [
    "**Q25. How can you iterate over dictionary `{'HR':5,'Finance':3}` and print key and value??**"
   ]
  },
  {
   "cell_type": "code",
   "execution_count": null,
   "id": "9d4bd26c",
   "metadata": {},
   "outputs": [],
   "source": []
  },
  {
   "cell_type": "markdown",
   "id": "48ff8a7e",
   "metadata": {},
   "source": [
    "**Q26. How can you use for loop with range to print multiples of 3 from 3 to 15??**"
   ]
  },
  {
   "cell_type": "code",
   "execution_count": null,
   "id": "0ab39d34",
   "metadata": {},
   "outputs": [],
   "source": []
  },
  {
   "cell_type": "markdown",
   "id": "2a277794",
   "metadata": {},
   "source": [
    "**Q27. How can you use if condition in loop to find the first negative number in `[10,-5,20,-8]`??**"
   ]
  },
  {
   "cell_type": "code",
   "execution_count": null,
   "id": "3f73b4a2",
   "metadata": {},
   "outputs": [],
   "source": []
  },
  {
   "cell_type": "markdown",
   "id": "ba8b8ccf",
   "metadata": {},
   "source": [
    "**Q28. How can you use nested if to check if region='North' and sales>500 then print 'Bonus Eligible'??**"
   ]
  },
  {
   "cell_type": "code",
   "execution_count": null,
   "id": "3465cd66",
   "metadata": {},
   "outputs": [],
   "source": []
  },
  {
   "cell_type": "markdown",
   "id": "b2b88549",
   "metadata": {},
   "source": [
    "**Q29. How can you use while loop to double an investment=1000 until it exceeds 10000??**"
   ]
  },
  {
   "cell_type": "code",
   "execution_count": null,
   "id": "c5b17c75",
   "metadata": {},
   "outputs": [],
   "source": []
  },
  {
   "cell_type": "markdown",
   "id": "3ea25cdd",
   "metadata": {},
   "source": [
    "**Q30. How can you combine for loop and if to print only words longer than 5 characters from `['data','analysis','reporting']`??**"
   ]
  },
  {
   "cell_type": "code",
   "execution_count": null,
   "id": "ce3724ec",
   "metadata": {},
   "outputs": [],
   "source": []
  }
 ],
 "metadata": {
  "kernelspec": {
   "display_name": "Python 3 (ipykernel)",
   "language": "python",
   "name": "python3"
  },
  "language_info": {
   "codemirror_mode": {
    "name": "ipython",
    "version": 3
   },
   "file_extension": ".py",
   "mimetype": "text/x-python",
   "name": "python",
   "nbconvert_exporter": "python",
   "pygments_lexer": "ipython3",
   "version": "3.11.3"
  }
 },
 "nbformat": 4,
 "nbformat_minor": 5
}
