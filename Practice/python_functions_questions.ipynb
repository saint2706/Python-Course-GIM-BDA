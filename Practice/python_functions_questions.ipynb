{
 "cells": [
  {
   "cell_type": "markdown",
   "id": "9cb7cb19",
   "metadata": {},
   "source": [
    "**Q1. Write a function `greet_customer(name)` that returns a greeting string like `Welcome, <name>!` ??**"
   ]
  },
  {
   "cell_type": "code",
   "execution_count": null,
   "id": "ebd7263b",
   "metadata": {},
   "outputs": [],
   "source": []
  },
  {
   "cell_type": "markdown",
   "id": "b11cf69c",
   "metadata": {},
   "source": [
    "**Q2. Write a function `total_cost(price, qty)` that returns `price * qty` for an order amount??**"
   ]
  },
  {
   "cell_type": "code",
   "execution_count": null,
   "id": "3c7bd37a",
   "metadata": {},
   "outputs": [],
   "source": []
  },
  {
   "cell_type": "markdown",
   "id": "f28f9835",
   "metadata": {},
   "source": [
    "**Q3. Write a function `apply_gst(amount, rate=0.18)` that returns the amount including GST using a default rate if not provided??**"
   ]
  },
  {
   "cell_type": "code",
   "execution_count": null,
   "id": "6da1bc15",
   "metadata": {},
   "outputs": [],
   "source": []
  },
  {
   "cell_type": "markdown",
   "id": "243ff6b6",
   "metadata": {},
   "source": [
    "**Q4. Write a function `is_target_met(sales, target)` that returns True if sales >= target, else False??**"
   ]
  },
  {
   "cell_type": "code",
   "execution_count": null,
   "id": "681b2b1a",
   "metadata": {},
   "outputs": [],
   "source": []
  },
  {
   "cell_type": "markdown",
   "id": "ace3479b",
   "metadata": {},
   "source": [
    "**Q5. Write a function `full_email(first, last, domain='company.com')` that builds `<first>.<last>@<domain>` in lowercase??**"
   ]
  },
  {
   "cell_type": "code",
   "execution_count": null,
   "id": "4b151be8",
   "metadata": {},
   "outputs": [],
   "source": []
  },
  {
   "cell_type": "markdown",
   "id": "692e0e85",
   "metadata": {},
   "source": [
    "**Q6. Write a function `avg_rating(*ratings)` that returns the average of any number of numeric ratings??**"
   ]
  },
  {
   "cell_type": "code",
   "execution_count": null,
   "id": "eceb33e7",
   "metadata": {},
   "outputs": [],
   "source": []
  },
  {
   "cell_type": "markdown",
   "id": "d960c9ea",
   "metadata": {},
   "source": [
    "**Q7. Write a function `format_invoice(**fields)` that returns a string like `INV:<id> - <client> - <amount>` using keys `id`, `client`, `amount` from kwargs??**"
   ]
  },
  {
   "cell_type": "code",
   "execution_count": null,
   "id": "883b544e",
   "metadata": {},
   "outputs": [],
   "source": []
  },
  {
   "cell_type": "markdown",
   "id": "e80b73bf",
   "metadata": {},
   "source": [
    "**Q8. Write a function `percent_change(old, new)` that returns percentage change rounded to 2 decimals (positive or negative)??**"
   ]
  },
  {
   "cell_type": "code",
   "execution_count": null,
   "id": "e56d881d",
   "metadata": {},
   "outputs": [],
   "source": []
  },
  {
   "cell_type": "markdown",
   "id": "a56098c9",
   "metadata": {},
   "source": [
    "**Q9. Write a function `sanitize_sku(sku)` that trims spaces and converts the SKU to uppercase??**"
   ]
  },
  {
   "cell_type": "code",
   "execution_count": null,
   "id": "938566ef",
   "metadata": {},
   "outputs": [],
   "source": []
  },
  {
   "cell_type": "markdown",
   "id": "0fb6d427",
   "metadata": {},
   "source": [
    "**Q10. Write a function `cap_words(text)` that returns the sentence with each word capitalized (don’t use external libraries)??**"
   ]
  },
  {
   "cell_type": "code",
   "execution_count": null,
   "id": "968fc87f",
   "metadata": {},
   "outputs": [],
   "source": []
  },
  {
   "cell_type": "markdown",
   "id": "32ee14c1",
   "metadata": {},
   "source": [
    "**Q11. Write a function `top_sellers(sales_dict, n)` that takes a dict like `{'A':1200,'B':900,'C':1500}` and returns a list of the top `n` product IDs by sales (highest first)??**"
   ]
  },
  {
   "cell_type": "code",
   "execution_count": null,
   "id": "c5ecfcd5",
   "metadata": {},
   "outputs": [],
   "source": []
  },
  {
   "cell_type": "markdown",
   "id": "147f47bc",
   "metadata": {},
   "source": [
    "**Q12. Write a function `filter_high_value(orders, threshold)` where `orders` is a list of amounts; return only amounts strictly above `threshold`??**"
   ]
  },
  {
   "cell_type": "code",
   "execution_count": null,
   "id": "0a72d779",
   "metadata": {},
   "outputs": [],
   "source": []
  },
  {
   "cell_type": "markdown",
   "id": "a839c04b",
   "metadata": {},
   "source": [
    "**Q13. Write a function `tag_discounts(prices, cutoff)` that returns `['HIGH' if p>=cutoff else 'LOW' for each price]` without using list comprehensions (use a loop)??**"
   ]
  },
  {
   "cell_type": "code",
   "execution_count": null,
   "id": "6d55eeb9",
   "metadata": {},
   "outputs": [],
   "source": []
  },
  {
   "cell_type": "markdown",
   "id": "b5c613d4",
   "metadata": {},
   "source": [
    "**Q14. Write a function `merge_stocks(main, incoming)` that merges two dictionaries of stocks by summing counts for matching keys and keeping non-overlapping ones??**"
   ]
  },
  {
   "cell_type": "code",
   "execution_count": null,
   "id": "8b62e470",
   "metadata": {},
   "outputs": [],
   "source": []
  },
  {
   "cell_type": "markdown",
   "id": "26afd3b7",
   "metadata": {},
   "source": [
    "**Q15. Write a function `unique_clients(records)` that takes a list of client names (with duplicates and varying cases) and returns a sorted list of unique names in title case??**"
   ]
  },
  {
   "cell_type": "code",
   "execution_count": null,
   "id": "8a4f3480",
   "metadata": {},
   "outputs": [],
   "source": []
  },
  {
   "cell_type": "markdown",
   "id": "60a6aa56",
   "metadata": {},
   "source": [
    "**Q16. Write a recursive function `factorial(n)` that returns n! and raises `ValueError` if `n` is negative??**"
   ]
  },
  {
   "cell_type": "code",
   "execution_count": null,
   "id": "1d7c9813",
   "metadata": {},
   "outputs": [],
   "source": []
  },
  {
   "cell_type": "markdown",
   "id": "d323c69a",
   "metadata": {},
   "source": [
    "**Q17. Write a recursive function `flatten(nested)` that flattens a list like `[[1,2],[3,[4]]]` into `[1,2,3,4]`??**"
   ]
  },
  {
   "cell_type": "code",
   "execution_count": null,
   "id": "d34a59f6",
   "metadata": {},
   "outputs": [],
   "source": []
  },
  {
   "cell_type": "markdown",
   "id": "cb20298a",
   "metadata": {},
   "source": [
    "**Q18. Write a function `make_incrementer(step)` that returns a new function which, when called with `x`, returns `x + step` (closure)??**"
   ]
  },
  {
   "cell_type": "code",
   "execution_count": null,
   "id": "1b601261",
   "metadata": {},
   "outputs": [],
   "source": []
  },
  {
   "cell_type": "markdown",
   "id": "fc8d45b9",
   "metadata": {},
   "source": [
    "**Q19. Write a function `safe_div(a, b)` that returns `a/b` but returns `None` if `b==0` instead of raising an error??**"
   ]
  },
  {
   "cell_type": "code",
   "execution_count": null,
   "id": "a36963be",
   "metadata": {},
   "outputs": [],
   "source": []
  },
  {
   "cell_type": "markdown",
   "id": "0b85458f",
   "metadata": {},
   "source": [
    "**Q20. Write a function `readable_currency(amount)` that returns a string with thousands separators (e.g., `1,234,567.89`) without using external libraries??**"
   ]
  },
  {
   "cell_type": "code",
   "execution_count": null,
   "id": "6877f6fc",
   "metadata": {},
   "outputs": [],
   "source": []
  }
 ],
 "metadata": {
  "kernelspec": {
   "display_name": "Python 3 (ipykernel)",
   "language": "python",
   "name": "python3"
  },
  "language_info": {
   "codemirror_mode": {
    "name": "ipython",
    "version": 3
   },
   "file_extension": ".py",
   "mimetype": "text/x-python",
   "name": "python",
   "nbconvert_exporter": "python",
   "pygments_lexer": "ipython3",
   "version": "3.11.3"
  }
 },
 "nbformat": 4,
 "nbformat_minor": 5
}
