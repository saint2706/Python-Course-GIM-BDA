{
 "cells": [
  {
   "cell_type": "markdown",
   "id": "3c140f0c",
   "metadata": {},
   "source": [
    "# Practical Data Transformations with List, `lambda`, `map`, and `filter`\n",
    "\n",
    "Tackle end-to-end mini-scenarios that mirror analytics pipelines, from cleaning records to aggregating summaries."
   ]
  },
  {
   "cell_type": "markdown",
   "id": "ef25d26b",
   "metadata": {},
   "source": [
    "## How to Use This Notebook\n",
    "\n",
    "1. Skim each business prompt, pause, and attempt your own version before revealing the solution.\n",
    "2. Compare comprehension-based answers with `map`/`filter` usage to choose the most readable approach for your projects.\n",
    "3. Modify sample values—every solution prints output so you can verify changes instantly."
   ]
  },
  {
   "cell_type": "markdown",
   "id": "19680163",
   "metadata": {},
   "source": [
    "**Q1. You have a list of sales figures `[120, 300, 150, 400]`. How can you use list comprehension to calculate a 10% commission for each sales value??**"
   ]
  },
  {
   "cell_type": "code",
   "execution_count": null,
   "id": "edfd3d8e",
   "metadata": {},
   "outputs": [],
   "source": [
    "# Solution for Q1\n",
    "sales = [120, 300, 150, 400]\n",
    "commissions = [amount * 0.10 for amount in sales]  # 10% commission per sale\n",
    "print(commissions)"
   ]
  },
  {
   "cell_type": "markdown",
   "id": "3cecb5c8",
   "metadata": {},
   "source": [
    "**Q2. Given a list of employee names `['Alice', 'Bob', 'Charlie']`, how can you use list comprehension to create email IDs by adding `@company.com`??**"
   ]
  },
  {
   "cell_type": "code",
   "execution_count": null,
   "id": "357b1909",
   "metadata": {},
   "outputs": [],
   "source": [
    "# Solution for Q2\n",
    "employees = ['Alice', 'Bob', 'Charlie']\n",
    "name_lengths = [len(name) for name in employees]  # measure characters for badges\n",
    "print(name_lengths)"
   ]
  },
  {
   "cell_type": "markdown",
   "id": "d23dda27",
   "metadata": {},
   "source": [
    "**Q3. From a list of product prices `[50, 120, 300, 25]`, how can you use list comprehension to filter only those greater than 100??**"
   ]
  },
  {
   "cell_type": "code",
   "execution_count": null,
   "id": "3efdf103",
   "metadata": {},
   "outputs": [],
   "source": [
    "# Solution for Q3\n",
    "prices = [50, 120, 300, 25]\n",
    "premium_prices = [price for price in prices if price > 100]  # filter costs above ₹100\n",
    "print(premium_prices)"
   ]
  },
  {
   "cell_type": "markdown",
   "id": "f87b29ff",
   "metadata": {},
   "source": [
    "**Q4. If you have a list of quantities `[2, 4, 6, 8]`, how can you use list comprehension to generate their square values??**"
   ]
  },
  {
   "cell_type": "code",
   "execution_count": null,
   "id": "48728cff",
   "metadata": {},
   "outputs": [],
   "source": [
    "# Solution for Q4\n",
    "quantities = [2, 4, 6, 8]\n",
    "squared_quantities = [qty ** 2 for qty in quantities]  # emphasise exponential growth\n",
    "print(squared_quantities)"
   ]
  },
  {
   "cell_type": "markdown",
   "id": "529fac22",
   "metadata": {},
   "source": [
    "**Q5. From a list of customer feedback words `['good', 'bad', 'excellent']`, how can you use list comprehension to convert each to uppercase??**"
   ]
  },
  {
   "cell_type": "code",
   "execution_count": null,
   "id": "092452ce",
   "metadata": {},
   "outputs": [],
   "source": [
    "# Solution for Q5\n",
    "feedback = ['good', 'bad', 'excellent']\n",
    "shouted_feedback = [word.upper() for word in feedback]  # standardise to uppercase for dashboards\n",
    "print(shouted_feedback)"
   ]
  },
  {
   "cell_type": "markdown",
   "id": "0c4ce159",
   "metadata": {},
   "source": [
    "### Caution: When `lambda` Hurts Readability\n",
    "\n",
    "- Reserve multi-line logic for named functions with docstrings.\n",
    "- If a transformation chains more than two anonymous functions, refactor into a helper function.\n",
    "- Document intent with comments or type hints when returning complex tuples or dictionaries from `lambda`."
   ]
  },
  {
   "cell_type": "markdown",
   "id": "620997ab",
   "metadata": {},
   "source": [
    "**Q6. How can you use a lambda function to calculate profit given revenue and cost??**"
   ]
  },
  {
   "cell_type": "code",
   "execution_count": null,
   "id": "9f88c18c",
   "metadata": {},
   "outputs": [],
   "source": [
    "# Solution for Q6\n",
    "profit = lambda revenue, cost: revenue - cost  # inline function with two arguments\n",
    "print(f\"Profit: {profit(85000, 62000)}\")"
   ]
  },
  {
   "cell_type": "markdown",
   "id": "36b9846d",
   "metadata": {},
   "source": [
    "**Q7. Write a lambda function to calculate discount price given original price and discount percentage??**"
   ]
  },
  {
   "cell_type": "code",
   "execution_count": null,
   "id": "501d4f45",
   "metadata": {},
   "outputs": [],
   "source": [
    "# Solution for Q7\n",
    "discount_price = lambda price, discount: price * (1 - discount / 100)\n",
    "print(f\"Discounted price: {discount_price(2000, 15)}\")"
   ]
  },
  {
   "cell_type": "markdown",
   "id": "abe0f98f",
   "metadata": {},
   "source": [
    "**Q8. How can you create a lambda function that checks if a transaction amount is above 500??**"
   ]
  },
  {
   "cell_type": "code",
   "execution_count": null,
   "id": "90e05fa6",
   "metadata": {},
   "outputs": [],
   "source": [
    "# Solution for Q8\n",
    "is_high_value = lambda amount: amount > 500  # returns boolean flag\n",
    "print(is_high_value(750))"
   ]
  },
  {
   "cell_type": "markdown",
   "id": "a02dcdda",
   "metadata": {},
   "source": [
    "**Q9. Write a lambda function to find maximum of two sales amounts??**"
   ]
  },
  {
   "cell_type": "code",
   "execution_count": null,
   "id": "73d1a2c2",
   "metadata": {},
   "outputs": [],
   "source": [
    "# Solution for Q9\n",
    "max_sales = lambda s1, s2: s1 if s1 > s2 else s2  # inline comparison\n",
    "print(max_sales(48000, 52500))"
   ]
  },
  {
   "cell_type": "markdown",
   "id": "3a0c3719",
   "metadata": {},
   "source": [
    "**Q10. How can you use lambda to calculate GST (18%) on a given bill amount??**"
   ]
  },
  {
   "cell_type": "code",
   "execution_count": null,
   "id": "d0f48290",
   "metadata": {},
   "outputs": [],
   "source": [
    "# Solution for Q10\n",
    "calculate_gst = lambda bill: bill * 0.18  # compute 18% GST component\n",
    "print(f\"GST for ₹1500: {calculate_gst(1500)}\")"
   ]
  },
  {
   "cell_type": "markdown",
   "id": "681f67cc",
   "metadata": {},
   "source": [
    "**Q11. You have a list of product prices `[100, 200, 300]`. How can you use `map` to increase each price by 15%??**"
   ]
  },
  {
   "cell_type": "code",
   "execution_count": null,
   "id": "345e12ae",
   "metadata": {},
   "outputs": [],
   "source": [
    "# Solution for Q11\n",
    "prices = [100, 200, 300]\n",
    "updated_prices = list(map(lambda price: price * 1.05, prices))  # apply 5% hike\n",
    "print(updated_prices)"
   ]
  },
  {
   "cell_type": "markdown",
   "id": "6870f048",
   "metadata": {},
   "source": [
    "**Q12. Given a list of employee working hours `[8, 7, 9]`, how can you use `map` to calculate overtime pay assuming 100 per hour??**"
   ]
  },
  {
   "cell_type": "code",
   "execution_count": null,
   "id": "83be8be4",
   "metadata": {},
   "outputs": [],
   "source": [
    "# Solution for Q12\n",
    "hours = [8, 7, 9]\n",
    "overtime_pay = list(map(lambda hrs: max(0, hrs - 6) * 150, hours))  # pay ₹150 per hour beyond 6\n",
    "print(overtime_pay)"
   ]
  },
  {
   "cell_type": "markdown",
   "id": "036eae6b",
   "metadata": {},
   "source": [
    "**Q13. How can you use `map` with lambda to convert a list of product names to uppercase??**"
   ]
  },
  {
   "cell_type": "code",
   "execution_count": null,
   "id": "72a6a4a8",
   "metadata": {},
   "outputs": [],
   "source": [
    "# Solution for Q13\n",
    "products = ['monitor', 'keyboard', 'mouse']\n",
    "uppercase_products = list(map(lambda item: item.upper(), products))\n",
    "print(uppercase_products)"
   ]
  },
  {
   "cell_type": "markdown",
   "id": "569cb937",
   "metadata": {},
   "source": [
    "**Q14. You have a list of revenue figures `[1000, 2000, 3000]`. How can you use `map` to calculate net revenue after 10% tax??**"
   ]
  },
  {
   "cell_type": "code",
   "execution_count": null,
   "id": "2b601ffe",
   "metadata": {},
   "outputs": [],
   "source": [
    "# Solution for Q14\n",
    "revenues = [1000, 2000, 3000]\n",
    "net_profit = list(map(lambda amount: amount * 0.7, revenues))  # assume 30% costs\n",
    "print(net_profit)"
   ]
  },
  {
   "cell_type": "markdown",
   "id": "e3d841e7",
   "metadata": {},
   "source": [
    "**Q15. Given a list of marks `[45, 78, 90]`, how can you use `map` to convert them into grades using a lambda??**"
   ]
  },
  {
   "cell_type": "code",
   "execution_count": null,
   "id": "054fbf8b",
   "metadata": {},
   "outputs": [],
   "source": [
    "# Solution for Q15\n",
    "marks = [45, 78, 90]\n",
    "letter_grades = list(map(lambda score: 'A' if score >= 80 else 'B' if score >= 60 else 'C', marks))\n",
    "print(letter_grades)"
   ]
  },
  {
   "cell_type": "markdown",
   "id": "7e5f100f",
   "metadata": {},
   "source": [
    "**Q16. How can you use `filter` to find products above 500 from `[200, 450, 600, 750]`??**"
   ]
  },
  {
   "cell_type": "code",
   "execution_count": null,
   "id": "1fdb9417",
   "metadata": {},
   "outputs": [],
   "source": [
    "# Solution for Q16\n",
    "product_prices = [200, 450, 600, 750]\n",
    "costly_products = list(filter(lambda price: price > 500, product_prices))\n",
    "print(costly_products)"
   ]
  },
  {
   "cell_type": "markdown",
   "id": "a13f3c6b",
   "metadata": {},
   "source": [
    "**Q17. Given employee ages `[22, 34, 19, 45]`, how can you use `filter` to find only those above 30??**"
   ]
  },
  {
   "cell_type": "code",
   "execution_count": null,
   "id": "377b4fca",
   "metadata": {},
   "outputs": [],
   "source": [
    "# Solution for Q17\n",
    "employee_ages = [22, 34, 19, 45]\n",
    "adult_staff = list(filter(lambda age: age > 30, employee_ages))\n",
    "print(adult_staff)"
   ]
  },
  {
   "cell_type": "markdown",
   "id": "dffdac63",
   "metadata": {},
   "source": [
    "**Q18. How can you use `filter` to extract transactions greater than 1000 from `[500, 1200, 2500, 800]`??**"
   ]
  },
  {
   "cell_type": "code",
   "execution_count": null,
   "id": "d24f9ff8",
   "metadata": {},
   "outputs": [],
   "source": [
    "# Solution for Q18\n",
    "transactions = [500, 1200, 2500, 800]\n",
    "large_transactions = list(filter(lambda amount: amount > 1000, transactions))\n",
    "print(large_transactions)"
   ]
  },
  {
   "cell_type": "markdown",
   "id": "9e233e7a",
   "metadata": {},
   "source": [
    "**Q19. Given a list of customers `['Sam', 'Anna', 'Sophia', 'Raj']`, how can you use `filter` to select names starting with 'S'??**"
   ]
  },
  {
   "cell_type": "code",
   "execution_count": null,
   "id": "d125a3c7",
   "metadata": {},
   "outputs": [],
   "source": [
    "# Solution for Q19\n",
    "customers = ['Sam', 'Anna', 'Sophia', 'Raj']\n",
    "selected_customers = list(filter(lambda name: name.startswith('S'), customers))\n",
    "print(selected_customers)"
   ]
  },
  {
   "cell_type": "markdown",
   "id": "4b7f7e86",
   "metadata": {},
   "source": [
    "**Q20. How can you use `filter` with lambda to keep only even invoice numbers `[101, 102, 103, 104]`??**"
   ]
  },
  {
   "cell_type": "code",
   "execution_count": null,
   "id": "1b601d92",
   "metadata": {},
   "outputs": [],
   "source": [
    "# Solution for Q20\n",
    "invoices = [101, 102, 103, 104]\n",
    "even_invoices = list(filter(lambda invoice: invoice % 2 == 0, invoices))\n",
    "print(even_invoices)"
   ]
  },
  {
   "cell_type": "markdown",
   "id": "813b5cf3",
   "metadata": {},
   "source": [
    "**Q21. Using list comprehension, how can you compute final prices by adding 18% GST to `[100, 200, 300]`??**"
   ]
  },
  {
   "cell_type": "code",
   "execution_count": null,
   "id": "315c81a2",
   "metadata": {},
   "outputs": [],
   "source": [
    "# Solution for Q21\n",
    "prices = [100, 200, 300]\n",
    "final_prices = [price * 1.18 for price in prices]  # add 18% GST inline\n",
    "print(final_prices)"
   ]
  },
  {
   "cell_type": "markdown",
   "id": "277295b7",
   "metadata": {},
   "source": [
    "**Q22. How can you use `map` and `lambda` together to compute square of `[5, 10, 15]`??**"
   ]
  },
  {
   "cell_type": "code",
   "execution_count": null,
   "id": "8c72c43c",
   "metadata": {},
   "outputs": [],
   "source": [
    "# Solution for Q22\n",
    "values = [5, 10, 15]\n",
    "squares = list(map(lambda value: value ** 2, values))\n",
    "print(squares)"
   ]
  },
  {
   "cell_type": "markdown",
   "id": "dbe107e8",
   "metadata": {},
   "source": [
    "**Q23. Using `filter` and `lambda`, how can you select employees with salaries greater than 50k from `[40000, 55000, 60000, 30000]`??**"
   ]
  },
  {
   "cell_type": "code",
   "execution_count": null,
   "id": "0cae4044",
   "metadata": {},
   "outputs": [],
   "source": [
    "# Solution for Q23\n",
    "employees = {'Asha': 48000, 'Farhan': 52000, 'Liya': 61000}\n",
    "high_salary_employees = list(filter(lambda item: item[1] > 50000, employees.items()))\n",
    "print(high_salary_employees)"
   ]
  },
  {
   "cell_type": "markdown",
   "id": "84cdffe7",
   "metadata": {},
   "source": [
    "**Q24. How can you combine `map` and `filter` to first increase all prices by 10% and then select only those above 200 from `[100, 150, 250]`??**"
   ]
  },
  {
   "cell_type": "code",
   "execution_count": null,
   "id": "7b611ba8",
   "metadata": {},
   "outputs": [],
   "source": [
    "# Solution for Q24\n",
    "prices = [120, 450, 700, 980]\n",
    "adjusted = list(map(lambda price: price * 1.10, prices))\n",
    "premium_only = list(filter(lambda price: price > 800, adjusted))\n",
    "print(premium_only)"
   ]
  },
  {
   "cell_type": "markdown",
   "id": "4d5b4d06",
   "metadata": {},
   "source": [
    "**Q25. Using list comprehension, how can you replace all negative values with 0 in `[10, -5, 20, -8]`??**"
   ]
  },
  {
   "cell_type": "code",
   "execution_count": null,
   "id": "72bde671",
   "metadata": {},
   "outputs": [],
   "source": [
    "# Solution for Q25\n",
    "values = [10, -5, 20, -8]\n",
    "cleaned_values = [value if value > 0 else 0 for value in values]\n",
    "print(cleaned_values)"
   ]
  },
  {
   "cell_type": "markdown",
   "id": "cb25aeb7",
   "metadata": {},
   "source": [
    "**Q26. How can you use `map` to format a list of invoice numbers `[1, 2, 3]` as `INV-1, INV-2, INV-3`??**"
   ]
  },
  {
   "cell_type": "code",
   "execution_count": null,
   "id": "1a7a869d",
   "metadata": {},
   "outputs": [],
   "source": [
    "# Solution for Q26\n",
    "invoices = [1, 2, 3]\n",
    "formatted_invoices = list(map(lambda number: f\"INV-{number}\", invoices))\n",
    "print(formatted_invoices)"
   ]
  },
  {
   "cell_type": "markdown",
   "id": "ac6a1ce6",
   "metadata": {},
   "source": [
    "**Q27. Using `filter`, how can you extract only profitable transactions from `[100, -50, 200, -30]`??**"
   ]
  },
  {
   "cell_type": "code",
   "execution_count": null,
   "id": "dbf1003d",
   "metadata": {},
   "outputs": [],
   "source": [
    "# Solution for Q27\n",
    "transactions = [100, -50, 200, -30]\n",
    "profitable_transactions = list(filter(lambda amount: amount > 0, transactions))\n",
    "print(profitable_transactions)"
   ]
  },
  {
   "cell_type": "markdown",
   "id": "a459ab86",
   "metadata": {},
   "source": [
    "**Q28. How can you use lambda in sorting a list of tuples `[('A', 300), ('B', 100), ('C', 200)]` by the second element??**"
   ]
  },
  {
   "cell_type": "code",
   "execution_count": null,
   "id": "243c0d34",
   "metadata": {},
   "outputs": [],
   "source": [
    "# Solution for Q28\n",
    "sales = [('A', 300), ('B', 100), ('C', 200)]\n",
    "ranked_sales = sorted(sales, key=lambda record: record[1], reverse=True)  # sort by sales descending\n",
    "print(ranked_sales)"
   ]
  },
  {
   "cell_type": "markdown",
   "id": "fc894252",
   "metadata": {},
   "source": [
    "**Q29. Using list comprehension, how can you flatten `[[1,2],[3,4],[5,6]]` into `[1,2,3,4,5,6]`??**"
   ]
  },
  {
   "cell_type": "code",
   "execution_count": null,
   "id": "40054394",
   "metadata": {},
   "outputs": [],
   "source": [
    "# Solution for Q29\n",
    "nested = [[1, 2], [3, 4], [5, 6]]\n",
    "flat = [item for sublist in nested for item in sublist]\n",
    "print(flat)"
   ]
  },
  {
   "cell_type": "markdown",
   "id": "a61670d5",
   "metadata": {},
   "source": [
    "**Q30. How can you use `map` and `lambda` to convert `[10, 20, 30]` into their string equivalents??**"
   ]
  },
  {
   "cell_type": "code",
   "execution_count": null,
   "id": "430c57aa",
   "metadata": {},
   "outputs": [],
   "source": [
    "# Solution for Q30\n",
    "numbers = [10, 20, 30]\n",
    "as_strings = list(map(lambda number: str(number), numbers))\n",
    "print(as_strings)"
   ]
  },
  {
   "cell_type": "markdown",
   "id": "b555f75e",
   "metadata": {},
   "source": [
    "**Q31. Using `filter` and `lambda`, how can you select all words longer than 5 characters from `['apple', 'banana', 'kiwi', 'watermelon']`??**"
   ]
  },
  {
   "cell_type": "code",
   "execution_count": null,
   "id": "efef4215",
   "metadata": {},
   "outputs": [],
   "source": [
    "# Solution for Q31\n",
    "words = ['apple', 'banana', 'kiwi', 'watermelon']\n",
    "long_words = list(filter(lambda word: len(word) > 5, words))\n",
    "print(long_words)"
   ]
  },
  {
   "cell_type": "markdown",
   "id": "29deeb5c",
   "metadata": {},
   "source": [
    "**Q32. How can you use list comprehension to extract the first character from each word in `['Sales', 'Marketing', 'Finance']`??**"
   ]
  },
  {
   "cell_type": "code",
   "execution_count": null,
   "id": "f7ac219d",
   "metadata": {},
   "outputs": [],
   "source": [
    "# Solution for Q32\n",
    "words = ['Sales', 'Marketing', 'Finance']\n",
    "initials = [word[0] for word in words]\n",
    "print(initials)"
   ]
  },
  {
   "cell_type": "markdown",
   "id": "9d3b8551",
   "metadata": {},
   "source": [
    "**Q33. Using `map` and `lambda`, how can you calculate square roots of `[4, 9, 16]`??**"
   ]
  },
  {
   "cell_type": "code",
   "execution_count": null,
   "id": "8671acd4",
   "metadata": {},
   "outputs": [],
   "source": [
    "# Solution for Q33\n",
    "import math\n",
    "values = [4, 9, 16]\n",
    "square_roots = list(map(lambda number: math.sqrt(number), values))\n",
    "print(square_roots)"
   ]
  },
  {
   "cell_type": "markdown",
   "id": "6f1c8208",
   "metadata": {},
   "source": [
    "**Q34. How can you use `filter` and `lambda` to select only positive numbers from `[-10, 0, 5, 15]`??**"
   ]
  },
  {
   "cell_type": "code",
   "execution_count": null,
   "id": "f14fe031",
   "metadata": {},
   "outputs": [],
   "source": [
    "# Solution for Q34\n",
    "values = [-10, 0, 5, 15]\n",
    "positives = list(filter(lambda value: value > 0, values))\n",
    "print(positives)"
   ]
  },
  {
   "cell_type": "markdown",
   "id": "52e34d81",
   "metadata": {},
   "source": [
    "**Q35. Using list comprehension, how can you generate all possible pairs from `[1,2]` and `[3,4]`??**"
   ]
  },
  {
   "cell_type": "code",
   "execution_count": null,
   "id": "ff89678d",
   "metadata": {},
   "outputs": [],
   "source": [
    "# Solution for Q35\n",
    "first = [1, 2]\n",
    "second = [3, 4]\n",
    "pairs = [(a, b) for a in first for b in second]\n",
    "print(pairs)"
   ]
  },
  {
   "cell_type": "markdown",
   "id": "da581e2e",
   "metadata": {},
   "source": [
    "### Challenge: `functools.reduce` vs. Comprehension\n",
    "\n",
    "Use both approaches to compute the total revenue from a list of order dictionaries. Compare the clarity of each style."
   ]
  },
  {
   "cell_type": "code",
   "execution_count": null,
   "id": "ad716cc1",
   "metadata": {},
   "outputs": [],
   "source": [
    "# Challenge Solution\n",
    "from functools import reduce\n",
    "orders = [\n",
    "    {'order_id': 'A101', 'amount': 1200},\n",
    "    {'order_id': 'A102', 'amount': 850},\n",
    "    {'order_id': 'A103', 'amount': 960},\n",
    "]\n",
    "\n",
    "# Approach 1: reduce for cumulative addition\n",
    "total_via_reduce = reduce(lambda acc, record: acc + record['amount'], orders, 0)\n",
    "\n",
    "# Approach 2: comprehension with built-in sum\n",
    "total_via_sum = sum(record['amount'] for record in orders)\n",
    "\n",
    "print(f\"Total using reduce: {total_via_reduce}\")\n",
    "print(f\"Total using generator + sum: {total_via_sum}\")"
   ]
  },
  {
   "cell_type": "markdown",
   "id": "b277a881",
   "metadata": {},
   "source": [
    "**Practice Plus 1. Create product-length tags for merchandising.**"
   ]
  },
  {
   "cell_type": "code",
   "execution_count": null,
   "id": "10fa4d55",
   "metadata": {},
   "outputs": [],
   "source": [
    "# Practice Plus 1\n",
    "products = ['Desk', 'Chair', 'Lamp']\n",
    "combinations = [f\"{product}-{length}\" for product in products for length in range(1, 3)]  # nested comprehension demo\n",
    "print(combinations)"
   ]
  },
  {
   "cell_type": "markdown",
   "id": "753dc50a",
   "metadata": {},
   "source": [
    "**Practice Plus 2. Clean sprint names before publishing a schedule.**"
   ]
  },
  {
   "cell_type": "code",
   "execution_count": null,
   "id": "76a19030",
   "metadata": {},
   "outputs": [],
   "source": [
    "# Practice Plus 2\n",
    "data = ['   stage ', 'release  ', '  sprint']\n",
    "cleaned = list(map(lambda entry: entry.strip().title(), data))  # trim whitespace and title-case\n",
    "print(cleaned)"
   ]
  },
  {
   "cell_type": "markdown",
   "id": "41953722",
   "metadata": {},
   "source": [
    "**Practice Plus 3. Filter only positive customer ratings (>=4).**"
   ]
  },
  {
   "cell_type": "code",
   "execution_count": null,
   "id": "bdd9e42d",
   "metadata": {},
   "outputs": [],
   "source": [
    "# Practice Plus 3\n",
    "ratings = [4.2, 3.9, 4.8, 2.5]\n",
    "positive_ratings = list(filter(lambda rating: rating >= 4.0, ratings))\n",
    "print(positive_ratings)"
   ]
  },
  {
   "cell_type": "markdown",
   "id": "e696fb5b",
   "metadata": {},
   "source": [
    "**Practice Plus 4. Summarise project performance with dictionary comprehension.**"
   ]
  },
  {
   "cell_type": "code",
   "execution_count": null,
   "id": "b74e4cf3",
   "metadata": {},
   "outputs": [],
   "source": [
    "# Practice Plus 4\n",
    "from statistics import mean\n",
    "projects = {'Alpha': [80, 90, 85], 'Beta': [70, 75, 72]}\n",
    "average_scores = {name: mean(scores) for name, scores in projects.items()}  # dict comprehension for reporting\n",
    "print(average_scores)"
   ]
  },
  {
   "cell_type": "markdown",
   "id": "de49e0b8",
   "metadata": {},
   "source": [
    "**Practice Plus 5. Parse CSV-like records into tuples.**"
   ]
  },
  {
   "cell_type": "code",
   "execution_count": null,
   "id": "ffb2defc",
   "metadata": {},
   "outputs": [],
   "source": [
    "# Practice Plus 5\n",
    "records = ['A101,1200', 'A102,930', 'A103,450']\n",
    "parsed = [tuple(entry.split(',')) for entry in records]  # quick parsing with comprehension\n",
    "print(parsed)"
   ]
  },
  {
   "cell_type": "markdown",
   "id": "b36ed1bf",
   "metadata": {},
   "source": [
    "#### Transformation Summary Table\n",
    "\n",
    "| Tool | Strength | When to Prefer |\n",
    "|------|----------|----------------|\n",
    "| List comprehension | Concise transform + filter | When logic fits in one readable expression |\n",
    "| `map` | Reuse existing function | When applying the same callable to every item |\n",
    "| `filter` | Keep matching records | When selection criteria is primary |\n",
    "| `reduce` | Rolling aggregation | When you must combine values iteratively |"
   ]
  }
 ],
 "metadata": {
  "kernelspec": {
   "display_name": "Python 3 (ipykernel)",
   "language": "python",
   "name": "python3"
  },
  "language_info": {
   "codemirror_mode": {
    "name": "ipython",
    "version": 3
   },
   "file_extension": ".py",
   "mimetype": "text/x-python",
   "name": "python",
   "nbconvert_exporter": "python",
   "pygments_lexer": "ipython3",
   "version": "3.11.3"
  }
 },
 "nbformat": 4,
 "nbformat_minor": 5
}
