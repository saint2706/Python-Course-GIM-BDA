{
 "cells": [
  {
   "cell_type": "markdown",
   "id": "a1ecf2c9",
   "metadata": {},
   "source": [
    "**Q1. You have a list of sales figures `[120, 300, 150, 400]`. How can you use list comprehension to calculate a 10% commission for each sales value??**"
   ]
  },
  {
   "cell_type": "code",
   "execution_count": null,
   "id": "7a3e19d7",
   "metadata": {},
   "outputs": [],
   "source": []
  },
  {
   "cell_type": "markdown",
   "id": "8cdfed17",
   "metadata": {},
   "source": [
    "**Q2. Given a list of employee names `['Alice', 'Bob', 'Charlie']`, how can you use list comprehension to create email IDs by adding `@company.com`??**"
   ]
  },
  {
   "cell_type": "code",
   "execution_count": null,
   "id": "0605e399",
   "metadata": {},
   "outputs": [],
   "source": []
  },
  {
   "cell_type": "markdown",
   "id": "73257ced",
   "metadata": {},
   "source": [
    "**Q3. From a list of product prices `[50, 120, 300, 25]`, how can you use list comprehension to filter only those greater than 100??**"
   ]
  },
  {
   "cell_type": "code",
   "execution_count": null,
   "id": "cf08d294",
   "metadata": {},
   "outputs": [],
   "source": []
  },
  {
   "cell_type": "markdown",
   "id": "3375f876",
   "metadata": {},
   "source": [
    "**Q4. If you have a list of quantities `[2, 4, 6, 8]`, how can you use list comprehension to generate their square values??**"
   ]
  },
  {
   "cell_type": "code",
   "execution_count": null,
   "id": "6f3abd30",
   "metadata": {},
   "outputs": [],
   "source": []
  },
  {
   "cell_type": "markdown",
   "id": "022185d2",
   "metadata": {},
   "source": [
    "**Q5. From a list of customer feedback words `['good', 'bad', 'excellent']`, how can you use list comprehension to convert each to uppercase??**"
   ]
  },
  {
   "cell_type": "code",
   "execution_count": null,
   "id": "cbf5cc0a",
   "metadata": {},
   "outputs": [],
   "source": []
  },
  {
   "cell_type": "markdown",
   "id": "8660b1db",
   "metadata": {},
   "source": [
    "**Q6. How can you use a lambda function to calculate profit given revenue and cost??**"
   ]
  },
  {
   "cell_type": "code",
   "execution_count": null,
   "id": "bfc26c33",
   "metadata": {},
   "outputs": [],
   "source": []
  },
  {
   "cell_type": "markdown",
   "id": "1163b28d",
   "metadata": {},
   "source": [
    "**Q7. Write a lambda function to calculate discount price given original price and discount percentage??**"
   ]
  },
  {
   "cell_type": "code",
   "execution_count": null,
   "id": "c7acd904",
   "metadata": {},
   "outputs": [],
   "source": []
  },
  {
   "cell_type": "markdown",
   "id": "f281e7bd",
   "metadata": {},
   "source": [
    "**Q8. How can you create a lambda function that checks if a transaction amount is above 500??**"
   ]
  },
  {
   "cell_type": "code",
   "execution_count": null,
   "id": "dccd60d7",
   "metadata": {},
   "outputs": [],
   "source": []
  },
  {
   "cell_type": "markdown",
   "id": "026f5709",
   "metadata": {},
   "source": [
    "**Q9. Write a lambda function to find maximum of two sales amounts??**"
   ]
  },
  {
   "cell_type": "code",
   "execution_count": null,
   "id": "f8694b7d",
   "metadata": {},
   "outputs": [],
   "source": []
  },
  {
   "cell_type": "markdown",
   "id": "a918ebd6",
   "metadata": {},
   "source": [
    "**Q10. How can you use lambda to calculate GST (18%) on a given bill amount??**"
   ]
  },
  {
   "cell_type": "code",
   "execution_count": null,
   "id": "06236dbc",
   "metadata": {},
   "outputs": [],
   "source": []
  },
  {
   "cell_type": "markdown",
   "id": "2acc7615",
   "metadata": {},
   "source": [
    "**Q11. You have a list of product prices `[100, 200, 300]`. How can you use `map` to increase each price by 15%??**"
   ]
  },
  {
   "cell_type": "code",
   "execution_count": null,
   "id": "6a7eb7c8",
   "metadata": {},
   "outputs": [],
   "source": []
  },
  {
   "cell_type": "markdown",
   "id": "8f696c30",
   "metadata": {},
   "source": [
    "**Q12. Given a list of employee working hours `[8, 7, 9]`, how can you use `map` to calculate overtime pay assuming 100 per hour??**"
   ]
  },
  {
   "cell_type": "code",
   "execution_count": null,
   "id": "e639d3f5",
   "metadata": {},
   "outputs": [],
   "source": []
  },
  {
   "cell_type": "markdown",
   "id": "04c0c315",
   "metadata": {},
   "source": [
    "**Q13. How can you use `map` with lambda to convert a list of product names to uppercase??**"
   ]
  },
  {
   "cell_type": "code",
   "execution_count": null,
   "id": "59fc7faf",
   "metadata": {},
   "outputs": [],
   "source": []
  },
  {
   "cell_type": "markdown",
   "id": "08a6cee0",
   "metadata": {},
   "source": [
    "**Q14. You have a list of revenue figures `[1000, 2000, 3000]`. How can you use `map` to calculate net revenue after 10% tax??**"
   ]
  },
  {
   "cell_type": "code",
   "execution_count": null,
   "id": "61568857",
   "metadata": {},
   "outputs": [],
   "source": []
  },
  {
   "cell_type": "markdown",
   "id": "46d706c4",
   "metadata": {},
   "source": [
    "**Q15. Given a list of marks `[45, 78, 90]`, how can you use `map` to convert them into grades using a lambda??**"
   ]
  },
  {
   "cell_type": "code",
   "execution_count": null,
   "id": "ddedbe85",
   "metadata": {},
   "outputs": [],
   "source": []
  },
  {
   "cell_type": "markdown",
   "id": "82f091f7",
   "metadata": {},
   "source": [
    "**Q16. How can you use `filter` to find products above 500 from `[200, 450, 600, 750]`??**"
   ]
  },
  {
   "cell_type": "code",
   "execution_count": null,
   "id": "777ec2ac",
   "metadata": {},
   "outputs": [],
   "source": []
  },
  {
   "cell_type": "markdown",
   "id": "699c50d7",
   "metadata": {},
   "source": [
    "**Q17. Given employee ages `[22, 34, 19, 45]`, how can you use `filter` to find only those above 30??**"
   ]
  },
  {
   "cell_type": "code",
   "execution_count": null,
   "id": "c6369dff",
   "metadata": {},
   "outputs": [],
   "source": []
  },
  {
   "cell_type": "markdown",
   "id": "c3485cb1",
   "metadata": {},
   "source": [
    "**Q18. How can you use `filter` to extract transactions greater than 1000 from `[500, 1200, 2500, 800]`??**"
   ]
  },
  {
   "cell_type": "code",
   "execution_count": null,
   "id": "f14663a7",
   "metadata": {},
   "outputs": [],
   "source": []
  },
  {
   "cell_type": "markdown",
   "id": "7b27bb90",
   "metadata": {},
   "source": [
    "**Q19. Given a list of customers `['Sam', 'Anna', 'Sophia', 'Raj']`, how can you use `filter` to select names starting with 'S'??**"
   ]
  },
  {
   "cell_type": "code",
   "execution_count": null,
   "id": "ef44c255",
   "metadata": {},
   "outputs": [],
   "source": []
  },
  {
   "cell_type": "markdown",
   "id": "3e34c928",
   "metadata": {},
   "source": [
    "**Q20. How can you use `filter` with lambda to keep only even invoice numbers `[101, 102, 103, 104]`??**"
   ]
  },
  {
   "cell_type": "code",
   "execution_count": null,
   "id": "a81ce2c6",
   "metadata": {},
   "outputs": [],
   "source": []
  },
  {
   "cell_type": "markdown",
   "id": "05d0be64",
   "metadata": {},
   "source": [
    "**Q21. Using list comprehension, how can you compute final prices by adding 18% GST to `[100, 200, 300]`??**"
   ]
  },
  {
   "cell_type": "code",
   "execution_count": null,
   "id": "fe456de5",
   "metadata": {},
   "outputs": [],
   "source": []
  },
  {
   "cell_type": "markdown",
   "id": "0e03110d",
   "metadata": {},
   "source": [
    "**Q22. How can you use `map` and `lambda` together to compute square of `[5, 10, 15]`??**"
   ]
  },
  {
   "cell_type": "code",
   "execution_count": null,
   "id": "cafa2ed0",
   "metadata": {},
   "outputs": [],
   "source": []
  },
  {
   "cell_type": "markdown",
   "id": "a79dd1c6",
   "metadata": {},
   "source": [
    "**Q23. Using `filter` and `lambda`, how can you select employees with salaries greater than 50k from `[40000, 55000, 60000, 30000]`??**"
   ]
  },
  {
   "cell_type": "code",
   "execution_count": null,
   "id": "019ac979",
   "metadata": {},
   "outputs": [],
   "source": []
  },
  {
   "cell_type": "markdown",
   "id": "b8e9f1aa",
   "metadata": {},
   "source": [
    "**Q24. How can you combine `map` and `filter` to first increase all prices by 10% and then select only those above 200 from `[100, 150, 250]`??**"
   ]
  },
  {
   "cell_type": "code",
   "execution_count": null,
   "id": "7fa55e47",
   "metadata": {},
   "outputs": [],
   "source": []
  },
  {
   "cell_type": "markdown",
   "id": "80a82261",
   "metadata": {},
   "source": [
    "**Q25. Using list comprehension, how can you replace all negative values with 0 in `[10, -5, 20, -8]`??**"
   ]
  },
  {
   "cell_type": "code",
   "execution_count": null,
   "id": "1898510c",
   "metadata": {},
   "outputs": [],
   "source": []
  },
  {
   "cell_type": "markdown",
   "id": "c9a35feb",
   "metadata": {},
   "source": [
    "**Q26. How can you use `map` to format a list of invoice numbers `[1, 2, 3]` as `INV-1, INV-2, INV-3`??**"
   ]
  },
  {
   "cell_type": "code",
   "execution_count": null,
   "id": "bafe1ba2",
   "metadata": {},
   "outputs": [],
   "source": []
  },
  {
   "cell_type": "markdown",
   "id": "92cd3284",
   "metadata": {},
   "source": [
    "**Q27. Using `filter`, how can you extract only profitable transactions from `[100, -50, 200, -30]`??**"
   ]
  },
  {
   "cell_type": "code",
   "execution_count": null,
   "id": "e2142d0c",
   "metadata": {},
   "outputs": [],
   "source": []
  },
  {
   "cell_type": "markdown",
   "id": "bcda4c1f",
   "metadata": {},
   "source": [
    "**Q28. How can you use lambda in sorting a list of tuples `[('A', 300), ('B', 100), ('C', 200)]` by the second element??**"
   ]
  },
  {
   "cell_type": "code",
   "execution_count": null,
   "id": "33a4325f",
   "metadata": {},
   "outputs": [],
   "source": []
  },
  {
   "cell_type": "markdown",
   "id": "82799cfa",
   "metadata": {},
   "source": [
    "**Q29. Using list comprehension, how can you flatten `[[1,2],[3,4],[5,6]]` into `[1,2,3,4,5,6]`??**"
   ]
  },
  {
   "cell_type": "code",
   "execution_count": null,
   "id": "aedea650",
   "metadata": {},
   "outputs": [],
   "source": []
  },
  {
   "cell_type": "markdown",
   "id": "2c6634fb",
   "metadata": {},
   "source": [
    "**Q30. How can you use `map` and `lambda` to convert `[10, 20, 30]` into their string equivalents??**"
   ]
  },
  {
   "cell_type": "code",
   "execution_count": null,
   "id": "589c2b8d",
   "metadata": {},
   "outputs": [],
   "source": []
  },
  {
   "cell_type": "markdown",
   "id": "64d5789a",
   "metadata": {},
   "source": [
    "**Q31. Using `filter` and `lambda`, how can you select all words longer than 5 characters from `['apple', 'banana', 'kiwi', 'watermelon']`??**"
   ]
  },
  {
   "cell_type": "code",
   "execution_count": null,
   "id": "377e0af6",
   "metadata": {},
   "outputs": [],
   "source": []
  },
  {
   "cell_type": "markdown",
   "id": "bde85113",
   "metadata": {},
   "source": [
    "**Q32. How can you use list comprehension to extract the first character from each word in `['Sales', 'Marketing', 'Finance']`??**"
   ]
  },
  {
   "cell_type": "code",
   "execution_count": null,
   "id": "bf7fb348",
   "metadata": {},
   "outputs": [],
   "source": []
  },
  {
   "cell_type": "markdown",
   "id": "f04127be",
   "metadata": {},
   "source": [
    "**Q33. Using `map` and `lambda`, how can you calculate square roots of `[4, 9, 16]`??**"
   ]
  },
  {
   "cell_type": "code",
   "execution_count": null,
   "id": "16530bd5",
   "metadata": {},
   "outputs": [],
   "source": []
  },
  {
   "cell_type": "markdown",
   "id": "5d1a41be",
   "metadata": {},
   "source": [
    "**Q34. How can you use `filter` and `lambda` to select only positive numbers from `[-10, 0, 5, 15]`??**"
   ]
  },
  {
   "cell_type": "code",
   "execution_count": null,
   "id": "8fd22bf6",
   "metadata": {},
   "outputs": [],
   "source": []
  },
  {
   "cell_type": "markdown",
   "id": "08189d63",
   "metadata": {},
   "source": [
    "**Q35. Using list comprehension, how can you generate all possible pairs from `[1,2]` and `[3,4]`??**"
   ]
  },
  {
   "cell_type": "code",
   "execution_count": null,
   "id": "6d77ab4b",
   "metadata": {},
   "outputs": [],
   "source": []
  }
 ],
 "metadata": {
  "kernelspec": {
   "display_name": "Python 3 (ipykernel)",
   "language": "python",
   "name": "python3"
  },
  "language_info": {
   "codemirror_mode": {
    "name": "ipython",
    "version": 3
   },
   "file_extension": ".py",
   "mimetype": "text/x-python",
   "name": "python",
   "nbconvert_exporter": "python",
   "pygments_lexer": "ipython3",
   "version": "3.11.3"
  }
 },
 "nbformat": 4,
 "nbformat_minor": 5
}
