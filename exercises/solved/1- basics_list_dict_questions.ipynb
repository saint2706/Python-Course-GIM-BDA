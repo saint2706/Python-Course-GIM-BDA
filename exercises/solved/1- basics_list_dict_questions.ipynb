{
 "cells": [
  {
   "cell_type": "markdown",
   "id": "a08f5cf1",
   "metadata": {
    "id": "a08f5cf1"
   },
   "source": [
    "## All the questions here are basics : variables , operations and lists"
   ]
  },
  {
   "cell_type": "markdown",
   "id": "266c6205",
   "metadata": {
    "id": "266c6205"
   },
   "source": [
    "**Q1. How can you calculate the total cost if a product price is 250 and shipping charge is 40??**"
   ]
  },
  {
   "cell_type": "code",
   "execution_count": 1,
   "id": "e5a1016f",
   "metadata": {
    "colab": {
     "base_uri": "https://localhost:8080/"
    },
    "executionInfo": {
     "elapsed": 9,
     "status": "ok",
     "timestamp": 1761394598228,
     "user": {
      "displayName": "Anmol Agarwal",
      "userId": "08013987210768969151"
     },
     "user_tz": -330
    },
    "id": "e5a1016f",
    "outputId": "1c449ca6-083f-4bee-d92e-2605ab34a7dc"
   },
   "outputs": [
    {
     "name": "stdout",
     "output_type": "stream",
     "text": [
      "290\n"
     ]
    }
   ],
   "source": [
    "price = 250\n",
    "ship = 40\n",
    "total_price = price + ship\n",
    "print(total_price)"
   ]
  },
  {
   "cell_type": "markdown",
   "id": "8826656a",
   "metadata": {
    "id": "8826656a"
   },
   "source": [
    "**Q2. How can you find the remainder when total sales 1234 are divided equally among 12 salespeople??**"
   ]
  },
  {
   "cell_type": "code",
   "execution_count": 7,
   "id": "3c899f27",
   "metadata": {
    "id": "3c899f27"
   },
   "outputs": [
    {
     "name": "stdout",
     "output_type": "stream",
     "text": [
      "Remainder: 10\n"
     ]
    }
   ],
   "source": [
    "total_sales = 1234\n",
    "salespeople = 12\n",
    "\n",
    "remainder = total_sales % salespeople\n",
    "print(\"Remainder:\", remainder)"
   ]
  },
  {
   "cell_type": "markdown",
   "id": "1d30e340",
   "metadata": {
    "id": "1d30e340"
   },
   "source": [
    "**Q3. What is the Python expression to calculate 7 raised to the power of 4 for forecasting growth??**"
   ]
  },
  {
   "cell_type": "code",
   "execution_count": 8,
   "id": "eff25f79",
   "metadata": {
    "colab": {
     "base_uri": "https://localhost:8080/"
    },
    "executionInfo": {
     "elapsed": 15,
     "status": "ok",
     "timestamp": 1761394642198,
     "user": {
      "displayName": "Anmol Agarwal",
      "userId": "08013987210768969151"
     },
     "user_tz": -330
    },
    "id": "eff25f79",
    "outputId": "ed5d2459-c467-4388-8efd-5bd3a9d81367"
   },
   "outputs": [
    {
     "data": {
      "text/plain": [
       "2401"
      ]
     },
     "execution_count": 8,
     "metadata": {},
     "output_type": "execute_result"
    }
   ],
   "source": [
    "7 ** 4"
   ]
  },
  {
   "cell_type": "markdown",
   "id": "2f12aff7",
   "metadata": {
    "id": "2f12aff7"
   },
   "source": [
    "**Q4. How can you check if two budgets `budget1=50000` and `budget2=75000` are equal??**"
   ]
  },
  {
   "cell_type": "code",
   "execution_count": 9,
   "id": "5af3bd6b",
   "metadata": {
    "id": "5af3bd6b"
   },
   "outputs": [
    {
     "name": "stdout",
     "output_type": "stream",
     "text": [
      "Are the budgets equal? False\n"
     ]
    }
   ],
   "source": [
    "budget1 = 50000\n",
    "budget2 = 75000\n",
    "\n",
    "are_equal = budget1 == budget2\n",
    "print(\"Are the budgets equal?\", are_equal)"
   ]
  },
  {
   "cell_type": "markdown",
   "id": "ba046ea2",
   "metadata": {
    "id": "ba046ea2"
   },
   "source": [
    "**Q5. How can you find the maximum revenue between two branches with revenues 85000 and 92000??**"
   ]
  },
  {
   "cell_type": "code",
   "execution_count": 10,
   "id": "a6bf1542",
   "metadata": {
    "id": "a6bf1542"
   },
   "outputs": [
    {
     "name": "stdout",
     "output_type": "stream",
     "text": [
      "Maximum revenue: 92000\n"
     ]
    }
   ],
   "source": [
    "branch1 = 85000\n",
    "branch2 = 92000\n",
    "\n",
    "max_revenue = max(branch1, branch2)\n",
    "print(\"Maximum revenue:\", max_revenue)"
   ]
  },
  {
   "cell_type": "markdown",
   "id": "e867220e",
   "metadata": {
    "id": "e867220e"
   },
   "source": [
    "**Q6. How can you check if a stock quantity 360 is divisible by carton size 12??**"
   ]
  },
  {
   "cell_type": "code",
   "execution_count": 11,
   "id": "fcb04603",
   "metadata": {
    "id": "fcb04603"
   },
   "outputs": [
    {
     "name": "stdout",
     "output_type": "stream",
     "text": [
      "Is the stock divisible by carton size? True\n"
     ]
    }
   ],
   "source": [
    "stock_quantity = 360\n",
    "carton_size = 12\n",
    "\n",
    "is_divisible = stock_quantity % carton_size == 0\n",
    "print(\"Is the stock divisible by carton size?\", is_divisible)"
   ]
  },
  {
   "cell_type": "markdown",
   "id": "d7f27be5",
   "metadata": {
    "id": "d7f27be5"
   },
   "source": [
    "**Q7. How can you round the monthly expense 4578.678 to the nearest integer??**"
   ]
  },
  {
   "cell_type": "code",
   "execution_count": 12,
   "id": "9deb4ab2",
   "metadata": {
    "id": "9deb4ab2"
   },
   "outputs": [
    {
     "name": "stdout",
     "output_type": "stream",
     "text": [
      "Rounded monthly expense: 4579\n"
     ]
    }
   ],
   "source": [
    "monthly_expense = 4578.678\n",
    "\n",
    "rounded_expense = round(monthly_expense)\n",
    "print(\"Rounded monthly expense:\", rounded_expense)"
   ]
  },
  {
   "cell_type": "markdown",
   "id": "ab149296",
   "metadata": {
    "id": "ab149296"
   },
   "source": [
    "**Q8. How can you compute the average customer rating from `[4.2, 3.8, 4.5, 4.0]`??**"
   ]
  },
  {
   "cell_type": "code",
   "execution_count": 13,
   "id": "0ea24e80",
   "metadata": {
    "id": "0ea24e80"
   },
   "outputs": [
    {
     "name": "stdout",
     "output_type": "stream",
     "text": [
      "Average customer rating: 4.125\n"
     ]
    }
   ],
   "source": [
    "ratings = [4.2, 3.8, 4.5, 4.0]\n",
    "\n",
    "average_rating = sum(ratings) / len(ratings)\n",
    "print(\"Average customer rating:\", average_rating)"
   ]
  },
  {
   "cell_type": "markdown",
   "id": "24f431f5-01e3-41d1-b3f9-1ab7e3adb1bd",
   "metadata": {
    "id": "7f7af5cf"
   },
   "source": [
    "**Q9. How can you swap values of two department budgets `deptA=120000` and `deptB=80000`??"
   ]
  },
  {
   "cell_type": "code",
   "execution_count": 14,
   "id": "05650a8b",
   "metadata": {
    "colab": {
     "base_uri": "https://localhost:8080/"
    },
    "executionInfo": {
     "elapsed": 13,
     "status": "ok",
     "timestamp": 1761394749755,
     "user": {
      "displayName": "Anmol Agarwal",
      "userId": "08013987210768969151"
     },
     "user_tz": -330
    },
    "id": "05650a8b",
    "outputId": "01dcf129-1a2c-4efc-dec7-50884c91ffd4"
   },
   "outputs": [
    {
     "name": "stdout",
     "output_type": "stream",
     "text": [
      "Department A budget: 80000\n",
      "Department B budget: 120000\n"
     ]
    }
   ],
   "source": [
    "deptA = 120000\n",
    "deptB = 80000\n",
    "\n",
    "deptA, deptB = deptB, deptA\n",
    "print(\"Department A budget:\", deptA)\n",
    "print(\"Department B budget:\", deptB)"
   ]
  },
  {
   "cell_type": "markdown",
   "id": "85c83dad",
   "metadata": {
    "id": "85c83dad"
   },
   "source": [
    "**Q10. How can you check the data type of `invoice_id='INV1023'`??**"
   ]
  },
  {
   "cell_type": "code",
   "execution_count": 15,
   "id": "43f1a6da",
   "metadata": {
    "colab": {
     "base_uri": "https://localhost:8080/"
    },
    "executionInfo": {
     "elapsed": 6,
     "status": "ok",
     "timestamp": 1761394795583,
     "user": {
      "displayName": "Anmol Agarwal",
      "userId": "08013987210768969151"
     },
     "user_tz": -330
    },
    "id": "43f1a6da",
    "outputId": "a08695ea-daf6-4703-d091-8452f7e32d2a"
   },
   "outputs": [
    {
     "name": "stdout",
     "output_type": "stream",
     "text": [
      "<class 'str'>\n"
     ]
    }
   ],
   "source": [
    "Invoice_id = 'INV1023'\n",
    "print(type(Invoice_id))"
   ]
  },
  {
   "cell_type": "markdown",
   "id": "0d1b9616",
   "metadata": {
    "id": "0d1b9616"
   },
   "source": [
    "**Q11. Given the list of clients `clients=['Tata','Infosys','Reliance','Adani']`, how can you access the second element??**"
   ]
  },
  {
   "cell_type": "code",
   "execution_count": 16,
   "id": "8d1e2d49",
   "metadata": {
    "id": "8d1e2d49"
   },
   "outputs": [
    {
     "name": "stdout",
     "output_type": "stream",
     "text": [
      "Infosys\n"
     ]
    }
   ],
   "source": [
    "clients = ['Tata', 'Infosys', 'Reliance', 'Adani']\n",
    "second_client = clients[1]\n",
    "print(second_client)"
   ]
  },
  {
   "cell_type": "markdown",
   "id": "509d9e41",
   "metadata": {
    "id": "509d9e41"
   },
   "source": [
    "**Q12. How can you get the last order from the list `orders=['ORD1','ORD2','ORD3','ORD4']` using negative indexing??**"
   ]
  },
  {
   "cell_type": "code",
   "execution_count": 17,
   "id": "4b326513",
   "metadata": {
    "id": "4b326513"
   },
   "outputs": [
    {
     "name": "stdout",
     "output_type": "stream",
     "text": [
      "ORD4\n"
     ]
    }
   ],
   "source": [
    "orders = ['ORD1', 'ORD2', 'ORD3', 'ORD4']\n",
    "last_order = orders[-1]\n",
    "print(last_order)"
   ]
  },
  {
   "cell_type": "markdown",
   "id": "42575789",
   "metadata": {
    "id": "42575789"
   },
   "source": [
    "**Q13. How can you retrieve items from index 2 to 4 in the list `inventory=[100,200,300,400,500]`??**"
   ]
  },
  {
   "cell_type": "code",
   "execution_count": 18,
   "id": "a72f418e",
   "metadata": {
    "colab": {
     "base_uri": "https://localhost:8080/"
    },
    "executionInfo": {
     "elapsed": 15,
     "status": "ok",
     "timestamp": 1761394979949,
     "user": {
      "displayName": "Anmol Agarwal",
      "userId": "08013987210768969151"
     },
     "user_tz": -330
    },
    "id": "a72f418e",
    "outputId": "433b359b-19b3-41ca-d1e9-4aae782d7f0c"
   },
   "outputs": [
    {
     "name": "stdout",
     "output_type": "stream",
     "text": [
      "[300, 400, 500]\n"
     ]
    }
   ],
   "source": [
    "inventory = [100, 200, 300, 400, 500]\n",
    "subset = inventory[2:5]  # indices 2, 3, 4\n",
    "print(subset)"
   ]
  },
  {
   "cell_type": "markdown",
   "id": "dbf5c257",
   "metadata": {
    "id": "dbf5c257"
   },
   "source": [
    "**Q14. How can you update the third element in `departments=['HR','Finance','Sales']` to 'Marketing'??**"
   ]
  },
  {
   "cell_type": "code",
   "execution_count": 19,
   "id": "a50dbe0b",
   "metadata": {
    "colab": {
     "base_uri": "https://localhost:8080/"
    },
    "executionInfo": {
     "elapsed": 11,
     "status": "ok",
     "timestamp": 1761395012074,
     "user": {
      "displayName": "Anmol Agarwal",
      "userId": "08013987210768969151"
     },
     "user_tz": -330
    },
    "id": "a50dbe0b",
    "outputId": "9f72ce1d-629e-4b8d-bc46-961a88470294"
   },
   "outputs": [
    {
     "name": "stdout",
     "output_type": "stream",
     "text": [
      "['HR', 'Finance', 'Marketing']\n"
     ]
    }
   ],
   "source": [
    "departments=['HR','Finance','Sales']\n",
    "departments[2] = 'Marketing'\n",
    "print(departments)"
   ]
  },
  {
   "cell_type": "markdown",
   "id": "da187173",
   "metadata": {
    "id": "da187173"
   },
   "source": [
    "**Q15. How can you add a new product 'Laptop' to the list `products=['Mouse','Keyboard']`??**"
   ]
  },
  {
   "cell_type": "code",
   "execution_count": 20,
   "id": "e0865e9b",
   "metadata": {
    "id": "e0865e9b"
   },
   "outputs": [
    {
     "name": "stdout",
     "output_type": "stream",
     "text": [
      "['Mouse', 'Keyboard', 'Laptop']\n"
     ]
    }
   ],
   "source": [
    "products = ['Mouse', 'Keyboard']\n",
    "products.append('Laptop')\n",
    "print(products)"
   ]
  },
  {
   "cell_type": "markdown",
   "id": "b170c23a",
   "metadata": {
    "id": "b170c23a"
   },
   "source": [
    "**Q16. How can you remove 'Keyboard' from `products=['Mouse','Keyboard','Monitor']`??**"
   ]
  },
  {
   "cell_type": "code",
   "execution_count": 6,
   "id": "e5ONKyxtUzV6",
   "metadata": {
    "colab": {
     "base_uri": "https://localhost:8080/"
    },
    "executionInfo": {
     "elapsed": 12,
     "status": "ok",
     "timestamp": 1761395066368,
     "user": {
      "displayName": "Anmol Agarwal",
      "userId": "08013987210768969151"
     },
     "user_tz": -330
    },
    "id": "e5ONKyxtUzV6",
    "outputId": "b2ff1f59-c04b-455e-e578-6fce9294878c"
   },
   "outputs": [
    {
     "name": "stdout",
     "output_type": "stream",
     "text": [
      "['Mouse', 'Monitor']\n"
     ]
    }
   ],
   "source": [
    "products = ['Mouse', 'Keyboard', 'Monitor']\n",
    "products.remove('Keyboard')\n",
    "\n",
    "print(products)"
   ]
  },
  {
   "cell_type": "markdown",
   "id": "96b218cb",
   "metadata": {
    "id": "96b218cb"
   },
   "source": [
    "**Q17. How can you calculate the number of employees in the list `employees=['John','Priya','Ali','Meera']`??**"
   ]
  },
  {
   "cell_type": "code",
   "execution_count": 21,
   "id": "f488b9be",
   "metadata": {
    "colab": {
     "base_uri": "https://localhost:8080/"
    },
    "executionInfo": {
     "elapsed": 13,
     "status": "ok",
     "timestamp": 1761395148317,
     "user": {
      "displayName": "Anmol Agarwal",
      "userId": "08013987210768969151"
     },
     "user_tz": -330
    },
    "id": "f488b9be",
    "outputId": "f037e9b1-eabe-4c2d-fd41-1f04ee70afda"
   },
   "outputs": [
    {
     "name": "stdout",
     "output_type": "stream",
     "text": [
      "4\n"
     ]
    }
   ],
   "source": [
    "employees=['John','Priya','Ali','Meera']\n",
    "print(len(employees))"
   ]
  },
  {
   "cell_type": "markdown",
   "id": "43ced13c",
   "metadata": {
    "id": "43ced13c"
   },
   "source": [
    "**Q18. How can you reverse the order of `transactions=[1000,2000,3000,4000]`??**"
   ]
  },
  {
   "cell_type": "code",
   "execution_count": 22,
   "id": "7cc70487",
   "metadata": {
    "colab": {
     "base_uri": "https://localhost:8080/"
    },
    "executionInfo": {
     "elapsed": 54,
     "status": "ok",
     "timestamp": 1761395171536,
     "user": {
      "displayName": "Anmol Agarwal",
      "userId": "08013987210768969151"
     },
     "user_tz": -330
    },
    "id": "7cc70487",
    "outputId": "2453f915-c6e8-4758-ed59-3bf864b6b560"
   },
   "outputs": [
    {
     "name": "stdout",
     "output_type": "stream",
     "text": [
      "[4000, 3000, 2000, 1000]\n"
     ]
    }
   ],
   "source": [
    "transactions=[1000,2000,3000,4000]\n",
    "transactions.reverse()\n",
    "print(transactions)"
   ]
  },
  {
   "cell_type": "markdown",
   "id": "1742fa4c",
   "metadata": {
    "id": "1742fa4c"
   },
   "source": [
    "**Q19. How can you check if 'Infosys' exists in the list `clients=['Tata','Infosys','Reliance']`??**"
   ]
  },
  {
   "cell_type": "code",
   "execution_count": 23,
   "id": "148ab5e4",
   "metadata": {
    "colab": {
     "base_uri": "https://localhost:8080/"
    },
    "executionInfo": {
     "elapsed": 18,
     "status": "ok",
     "timestamp": 1761395200889,
     "user": {
      "displayName": "Anmol Agarwal",
      "userId": "08013987210768969151"
     },
     "user_tz": -330
    },
    "id": "148ab5e4",
    "outputId": "cfd3f5f4-6c75-455a-97ff-3ae7b521c5f1"
   },
   "outputs": [
    {
     "name": "stdout",
     "output_type": "stream",
     "text": [
      "True\n"
     ]
    }
   ],
   "source": [
    "clients=['Tata','Infosys','Reliance']\n",
    "print('Infosys' in clients)"
   ]
  },
  {
   "cell_type": "markdown",
   "id": "baae9a95",
   "metadata": {
    "id": "baae9a95"
   },
   "source": [
    "**Q20. How can you generate a list of invoice numbers from 101 to 110 using `range`??**"
   ]
  },
  {
   "cell_type": "code",
   "execution_count": 24,
   "id": "1c86d489",
   "metadata": {
    "colab": {
     "base_uri": "https://localhost:8080/"
    },
    "executionInfo": {
     "elapsed": 13,
     "status": "ok",
     "timestamp": 1761395414128,
     "user": {
      "displayName": "Anmol Agarwal",
      "userId": "08013987210768969151"
     },
     "user_tz": -330
    },
    "id": "1c86d489",
    "outputId": "f020ae53-543c-4330-f10d-a77185300801"
   },
   "outputs": [
    {
     "name": "stdout",
     "output_type": "stream",
     "text": [
      "[101, 102, 103, 104, 105, 106, 107, 108, 109, 110]\n"
     ]
    }
   ],
   "source": [
    "invoice_numbers = list(range(101, 111))\n",
    "print(invoice_numbers)"
   ]
  },
  {
   "cell_type": "markdown",
   "id": "a6d04b1a",
   "metadata": {
    "id": "a6d04b1a"
   },
   "source": [
    "**Q21. How can you create a dictionary for a supplier with keys 'name','location' and values 'ABC Ltd','Mumbai'??**"
   ]
  },
  {
   "cell_type": "code",
   "execution_count": null,
   "id": "11e41876",
   "metadata": {
    "colab": {
     "base_uri": "https://localhost:8080/"
    },
    "executionInfo": {
     "elapsed": 12,
     "status": "ok",
     "timestamp": 1761395455068,
     "user": {
      "displayName": "Anmol Agarwal",
      "userId": "08013987210768969151"
     },
     "user_tz": -330
    },
    "id": "11e41876",
    "outputId": "55d34e29-a670-427c-eb97-6a425e6ad2ff"
   },
   "outputs": [
    {
     "name": "stdout",
     "output_type": "stream",
     "text": [
      "{'name': 'ABC Ltd', 'location': 'Mumbai'}\n"
     ]
    }
   ],
   "source": [
    "supplier = {'name': 'ABC Ltd', 'location': 'Mumbai'}\n",
    "print(supplier)"
   ]
  },
  {
   "cell_type": "markdown",
   "id": "81f1cb7c",
   "metadata": {
    "id": "81f1cb7c"
   },
   "source": [
    "**Q22. How can you access the 'location' value from dictionary `supplier={'name':'ABC Ltd','location':'Mumbai'}`??**"
   ]
  },
  {
   "cell_type": "code",
   "execution_count": null,
   "id": "c146a7b4",
   "metadata": {
    "colab": {
     "base_uri": "https://localhost:8080/"
    },
    "executionInfo": {
     "elapsed": 18,
     "status": "ok",
     "timestamp": 1761395495109,
     "user": {
      "displayName": "Anmol Agarwal",
      "userId": "08013987210768969151"
     },
     "user_tz": -330
    },
    "id": "c146a7b4",
    "outputId": "dd255041-5b98-4327-b4d1-aaff8182257d"
   },
   "outputs": [
    {
     "name": "stdout",
     "output_type": "stream",
     "text": [
      "Mumbai\n"
     ]
    }
   ],
   "source": [
    "supplier={'name':'ABC Ltd','location':'Mumbai'}\n",
    "print(supplier['location'])"
   ]
  },
  {
   "cell_type": "markdown",
   "id": "d8571b1e",
   "metadata": {
    "id": "d8571b1e"
   },
   "source": [
    "**Q23. How can you add a new key 'rating' with value 4.5 in dictionary `supplier={'name':'ABC Ltd','location':'Mumbai'}`??**"
   ]
  },
  {
   "cell_type": "code",
   "execution_count": null,
   "id": "be888da7",
   "metadata": {
    "colab": {
     "base_uri": "https://localhost:8080/"
    },
    "executionInfo": {
     "elapsed": 13,
     "status": "ok",
     "timestamp": 1761395516713,
     "user": {
      "displayName": "Anmol Agarwal",
      "userId": "08013987210768969151"
     },
     "user_tz": -330
    },
    "id": "be888da7",
    "outputId": "8295d3e4-2367-4ec4-8f8c-f084cd333fa1"
   },
   "outputs": [
    {
     "name": "stdout",
     "output_type": "stream",
     "text": [
      "{'name': 'ABC Ltd', 'location': 'Mumbai', 'rating': 4.5}\n"
     ]
    }
   ],
   "source": [
    "supplier={'name':'ABC Ltd','location':'Mumbai'}\n",
    "supplier['rating'] = 4.5\n",
    "print(supplier)"
   ]
  },
  {
   "cell_type": "markdown",
   "id": "210029db",
   "metadata": {
    "id": "210029db"
   },
   "source": [
    "**Q24. How can you update the value of 'location' to 'Delhi' in dictionary `supplier={'name':'ABC Ltd','location':'Mumbai'}`??**"
   ]
  },
  {
   "cell_type": "code",
   "execution_count": 25,
   "id": "5e53b58f",
   "metadata": {
    "id": "5e53b58f"
   },
   "outputs": [
    {
     "name": "stdout",
     "output_type": "stream",
     "text": [
      "{'name': 'ABC Ltd', 'location': 'Delhi'}\n"
     ]
    }
   ],
   "source": [
    "supplier = {'name': 'ABC Ltd', 'location': 'Mumbai'}\n",
    "\n",
    "# Update location\n",
    "supplier['location'] = 'Delhi'\n",
    "\n",
    "print(supplier)"
   ]
  },
  {
   "cell_type": "markdown",
   "id": "8e89c8e8",
   "metadata": {
    "id": "8e89c8e8"
   },
   "source": [
    "**Q25. How can you remove the key 'location' from dictionary `supplier={'name':'ABC Ltd','location':'Mumbai'}`??**"
   ]
  },
  {
   "cell_type": "code",
   "execution_count": null,
   "id": "7ec02528",
   "metadata": {
    "colab": {
     "base_uri": "https://localhost:8080/"
    },
    "executionInfo": {
     "elapsed": 17,
     "status": "ok",
     "timestamp": 1761397393941,
     "user": {
      "displayName": "Anmol Agarwal",
      "userId": "08013987210768969151"
     },
     "user_tz": -330
    },
    "id": "7ec02528",
    "outputId": "61a7a48a-d11a-414c-ab81-4251abaf74bf"
   },
   "outputs": [
    {
     "name": "stdout",
     "output_type": "stream",
     "text": [
      "{'name': 'ABC Ltd'}\n"
     ]
    }
   ],
   "source": [
    "supplier={'name':'ABC Ltd','location':'Mumbai'}\n",
    "del supplier['location']\n",
    "print(supplier)"
   ]
  },
  {
   "cell_type": "markdown",
   "id": "513c584f",
   "metadata": {
    "id": "513c584f"
   },
   "source": [
    "**Q26. How can you get all the keys from dictionary `supplier={'name':'ABC Ltd','location':'Mumbai'}`??**"
   ]
  },
  {
   "cell_type": "code",
   "execution_count": null,
   "id": "7fe93f46",
   "metadata": {
    "colab": {
     "base_uri": "https://localhost:8080/"
    },
    "executionInfo": {
     "elapsed": 15,
     "status": "ok",
     "timestamp": 1761397426149,
     "user": {
      "displayName": "Anmol Agarwal",
      "userId": "08013987210768969151"
     },
     "user_tz": -330
    },
    "id": "7fe93f46",
    "outputId": "39b9aa09-7ccc-4130-9850-8fa8b1e79685"
   },
   "outputs": [
    {
     "name": "stdout",
     "output_type": "stream",
     "text": [
      "dict_keys(['name', 'location'])\n"
     ]
    }
   ],
   "source": [
    "supplier={'name':'ABC Ltd','location':'Mumbai'}\n",
    "print(supplier.keys())"
   ]
  },
  {
   "cell_type": "markdown",
   "id": "5f2a356e",
   "metadata": {
    "id": "5f2a356e"
   },
   "source": [
    "**Q27. How can you get all the values from dictionary `supplier={'name':'ABC Ltd','location':'Mumbai'}`??**"
   ]
  },
  {
   "cell_type": "code",
   "execution_count": null,
   "id": "7362b079",
   "metadata": {
    "colab": {
     "base_uri": "https://localhost:8080/"
    },
    "executionInfo": {
     "elapsed": 10,
     "status": "ok",
     "timestamp": 1761397450696,
     "user": {
      "displayName": "Anmol Agarwal",
      "userId": "08013987210768969151"
     },
     "user_tz": -330
    },
    "id": "7362b079",
    "outputId": "b6c425c1-5aa6-4d49-b316-3305e857f990"
   },
   "outputs": [
    {
     "name": "stdout",
     "output_type": "stream",
     "text": [
      "dict_values(['ABC Ltd', 'Mumbai'])\n"
     ]
    }
   ],
   "source": [
    "supplier={'name':'ABC Ltd','location':'Mumbai'}\n",
    "print(supplier.values())"
   ]
  },
  {
   "cell_type": "markdown",
   "id": "e0e93310",
   "metadata": {
    "id": "e0e93310"
   },
   "source": [
    "**Q28. How can you check if key 'rating' exists in dictionary `supplier={'name':'ABC Ltd','location':'Mumbai'}`??**"
   ]
  },
  {
   "cell_type": "code",
   "execution_count": null,
   "id": "2043f53c",
   "metadata": {
    "colab": {
     "base_uri": "https://localhost:8080/"
    },
    "executionInfo": {
     "elapsed": 11,
     "status": "ok",
     "timestamp": 1761397519174,
     "user": {
      "displayName": "Anmol Agarwal",
      "userId": "08013987210768969151"
     },
     "user_tz": -330
    },
    "id": "2043f53c",
    "outputId": "4f4faa04-aec4-490f-e841-99433245d544"
   },
   "outputs": [
    {
     "name": "stdout",
     "output_type": "stream",
     "text": [
      "True\n"
     ]
    }
   ],
   "source": [
    "supplier={'name':'ABC Ltd','location':'Mumbai', 'rating':5}\n",
    "print(\"rating\" in supplier)"
   ]
  },
  {
   "cell_type": "markdown",
   "id": "35f12da2",
   "metadata": {
    "id": "35f12da2"
   },
   "source": [
    "**Q29. How can you loop through both keys and values of dictionary `supplier={'name':'ABC Ltd','location':'Mumbai'}`??**"
   ]
  },
  {
   "cell_type": "code",
   "execution_count": null,
   "id": "fd352968",
   "metadata": {
    "colab": {
     "base_uri": "https://localhost:8080/"
    },
    "executionInfo": {
     "elapsed": 18,
     "status": "ok",
     "timestamp": 1761397625987,
     "user": {
      "displayName": "Anmol Agarwal",
      "userId": "08013987210768969151"
     },
     "user_tz": -330
    },
    "id": "fd352968",
    "outputId": "7c77465f-4170-4388-89db-7a263c5647b1"
   },
   "outputs": [
    {
     "name": "stdout",
     "output_type": "stream",
     "text": [
      "dict_items([('name', 'ABC Ltd'), ('location', 'Mumbai')])\n"
     ]
    }
   ],
   "source": [
    "supplier ={'name':'ABC Ltd','location':'Mumbai'}\n",
    "print(supplier.items())"
   ]
  },
  {
   "cell_type": "markdown",
   "id": "c779ba78",
   "metadata": {
    "id": "c779ba78"
   },
   "source": [
    "**Q30. How can you create a dictionary mapping product codes `['P01','P02']` to stock counts `[150,300]`??**"
   ]
  },
  {
   "cell_type": "code",
   "execution_count": 27,
   "id": "88d15373",
   "metadata": {
    "id": "88d15373"
   },
   "outputs": [
    {
     "name": "stdout",
     "output_type": "stream",
     "text": [
      "{'P01': 150, 'P02': 300}\n"
     ]
    }
   ],
   "source": [
    "product_codes = ['P01', 'P02']\n",
    "stock_counts = [150, 300]\n",
    "\n",
    "inventory = dict(zip(product_codes, stock_counts))\n",
    "print(inventory)"
   ]
  }
 ],
 "metadata": {
  "colab": {
   "provenance": []
  },
  "kernelspec": {
   "display_name": "Python 3 (ipykernel)",
   "language": "python",
   "name": "python3"
  },
  "language_info": {
   "codemirror_mode": {
    "name": "ipython",
    "version": 3
   },
   "file_extension": ".py",
   "mimetype": "text/x-python",
   "name": "python",
   "nbconvert_exporter": "python",
   "pygments_lexer": "ipython3",
   "version": "3.13.5"
  }
 },
 "nbformat": 4,
 "nbformat_minor": 5
}
