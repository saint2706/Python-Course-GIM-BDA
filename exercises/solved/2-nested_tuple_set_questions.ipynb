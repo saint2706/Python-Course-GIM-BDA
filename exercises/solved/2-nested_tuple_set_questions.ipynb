{
 "cells": [
  {
   "cell_type": "markdown",
   "id": "960d88f5",
   "metadata": {
    "id": "960d88f5"
   },
   "source": [
    "**Q1. Given a nested list of quarterly sales `sales=[[1200,1300],[1400,1500],[1600,1700]]`, how can you access the first quarter of the second year??**"
   ]
  },
  {
   "cell_type": "code",
   "execution_count": 1,
   "id": "aa928d13",
   "metadata": {
    "colab": {
     "base_uri": "https://localhost:8080/"
    },
    "executionInfo": {
     "elapsed": 10,
     "status": "ok",
     "timestamp": 1761397887536,
     "user": {
      "displayName": "Anmol Agarwal",
      "userId": "08013987210768969151"
     },
     "user_tz": -330
    },
    "id": "aa928d13",
    "outputId": "5570ac79-5e51-4baf-8dfc-922a68260e43"
   },
   "outputs": [
    {
     "name": "stdout",
     "output_type": "stream",
     "text": [
      "1400\n"
     ]
    }
   ],
   "source": [
    "sales=[[1200,1300],[1400,1500],[1600,1700]]\n",
    "print(sales[1][0])"
   ]
  },
  {
   "cell_type": "markdown",
   "id": "13debaa7",
   "metadata": {
    "id": "13debaa7"
   },
   "source": [
    "**Q2. How can you update the value 1500 to 1550 in the nested list `sales=[[1200,1300],[1400,1500],[1600,1700]]`??**"
   ]
  },
  {
   "cell_type": "code",
   "execution_count": 2,
   "id": "136ee21e",
   "metadata": {
    "colab": {
     "base_uri": "https://localhost:8080/"
    },
    "executionInfo": {
     "elapsed": 11,
     "status": "ok",
     "timestamp": 1761398246632,
     "user": {
      "displayName": "Anmol Agarwal",
      "userId": "08013987210768969151"
     },
     "user_tz": -330
    },
    "id": "136ee21e",
    "outputId": "114a583a-e241-4179-f51a-796d81e3bf72"
   },
   "outputs": [
    {
     "name": "stdout",
     "output_type": "stream",
     "text": [
      "[[1200, 1300], [1400, 1550], [1600, 1700]]\n"
     ]
    }
   ],
   "source": [
    "sales=[[1200,1300],[1400,1500],[1600,1700]]\n",
    "sales[1][1]=1550\n",
    "print(sales)"
   ]
  },
  {
   "cell_type": "markdown",
   "id": "f22603c7",
   "metadata": {
    "id": "f22603c7"
   },
   "source": [
    "**Q3. How can you flatten the nested list `orders=[[101,102],[103,104],[105]]` into a single list??**"
   ]
  },
  {
   "cell_type": "code",
   "execution_count": 3,
   "id": "92d1fb6a",
   "metadata": {
    "id": "92d1fb6a"
   },
   "outputs": [
    {
     "name": "stdout",
     "output_type": "stream",
     "text": [
      "[101, 102, 103, 104, 105]\n"
     ]
    }
   ],
   "source": [
    "orders=[[101,102],[103,104],[105]]\n",
    "flat_list = [item for sublist in orders for item in sublist]\n",
    "print(flat_list)\n"
   ]
  },
  {
   "cell_type": "markdown",
   "id": "72456a04",
   "metadata": {
    "id": "72456a04"
   },
   "source": [
    "**Q4. How can you access the 'city' of employee in dictionary `employee={'id':101,'details':{'name':'Anita','city':'Pune'}}`??**"
   ]
  },
  {
   "cell_type": "code",
   "execution_count": 4,
   "id": "e0635f16",
   "metadata": {
    "colab": {
     "base_uri": "https://localhost:8080/"
    },
    "executionInfo": {
     "elapsed": 45,
     "status": "ok",
     "timestamp": 1761398232488,
     "user": {
      "displayName": "Anmol Agarwal",
      "userId": "08013987210768969151"
     },
     "user_tz": -330
    },
    "id": "e0635f16",
    "outputId": "a3dcdb22-fb2b-4e50-d068-6ebd9113d8e5"
   },
   "outputs": [
    {
     "name": "stdout",
     "output_type": "stream",
     "text": [
      "Pune\n"
     ]
    }
   ],
   "source": [
    "employee={'id':101,'details':{'name':'Anita','city':'Pune'}}\n",
    "print(employee['details']['city'])"
   ]
  },
  {
   "cell_type": "markdown",
   "id": "ce40eead",
   "metadata": {
    "id": "ce40eead"
   },
   "source": [
    "**Q5. How can you add a new key 'department':'HR' under 'details' in dictionary `employee={'id':101,'details':{'name':'Anita','city':'Pune'}}`??**"
   ]
  },
  {
   "cell_type": "code",
   "execution_count": 5,
   "id": "e1925a9a",
   "metadata": {
    "colab": {
     "base_uri": "https://localhost:8080/"
    },
    "executionInfo": {
     "elapsed": 11,
     "status": "ok",
     "timestamp": 1761398021707,
     "user": {
      "displayName": "Anmol Agarwal",
      "userId": "08013987210768969151"
     },
     "user_tz": -330
    },
    "id": "e1925a9a",
    "outputId": "45fcda9b-e7e5-462e-9cf1-fa2020b5833e"
   },
   "outputs": [
    {
     "name": "stdout",
     "output_type": "stream",
     "text": [
      "{'id': 101, 'details': {'name': 'Anita', 'city': 'Pune', 'department': 'HR'}}\n"
     ]
    }
   ],
   "source": [
    "employee={'id':101,'details':{'name':'Anita','city':'Pune'}}\n",
    "employee['details']['department']='HR'\n",
    "print(employee)"
   ]
  },
  {
   "cell_type": "markdown",
   "id": "bc7e78ae",
   "metadata": {
    "id": "bc7e78ae"
   },
   "source": [
    "**Q6. How can you update the 'city' from 'Pune' to 'Mumbai' in nested dictionary `employee={'id':101,'details':{'name':'Anita','city':'Pune'}}`??**"
   ]
  },
  {
   "cell_type": "code",
   "execution_count": 6,
   "id": "659be65f",
   "metadata": {
    "colab": {
     "base_uri": "https://localhost:8080/"
    },
    "executionInfo": {
     "elapsed": 42,
     "status": "ok",
     "timestamp": 1761398037660,
     "user": {
      "displayName": "Anmol Agarwal",
      "userId": "08013987210768969151"
     },
     "user_tz": -330
    },
    "id": "659be65f",
    "outputId": "efba54e5-c8df-4ff0-fe3e-35396401c208"
   },
   "outputs": [
    {
     "name": "stdout",
     "output_type": "stream",
     "text": [
      "{'id': 101, 'details': {'name': 'Anita', 'city': 'Mumbai'}}\n"
     ]
    }
   ],
   "source": [
    "employee={'id':101,'details':{'name':'Anita','city':'Pune'}}\n",
    "employee['details']['city']='Mumbai'\n",
    "print(employee)"
   ]
  },
  {
   "cell_type": "markdown",
   "id": "62afb92e",
   "metadata": {
    "id": "62afb92e"
   },
   "source": [
    "**Q7. Given a tuple of stock prices `prices=(250,275,290,310)`, how can you access the last price??**"
   ]
  },
  {
   "cell_type": "code",
   "execution_count": 7,
   "id": "b848cbc7",
   "metadata": {
    "colab": {
     "base_uri": "https://localhost:8080/"
    },
    "executionInfo": {
     "elapsed": 10,
     "status": "ok",
     "timestamp": 1761398066891,
     "user": {
      "displayName": "Anmol Agarwal",
      "userId": "08013987210768969151"
     },
     "user_tz": -330
    },
    "id": "b848cbc7",
    "outputId": "cd2562b0-0dfa-4c1e-ba5d-0b96ecf6c774"
   },
   "outputs": [
    {
     "name": "stdout",
     "output_type": "stream",
     "text": [
      "310\n"
     ]
    }
   ],
   "source": [
    "prices=(250,275,290,310)\n",
    "print(prices[-1])"
   ]
  },
  {
   "cell_type": "markdown",
   "id": "f4fb9277",
   "metadata": {
    "id": "f4fb9277"
   },
   "source": [
    "**Q8. How can you unpack the tuple `branch=('Delhi',250000)` into two separate variables??**"
   ]
  },
  {
   "cell_type": "code",
   "execution_count": 8,
   "id": "93e333eb",
   "metadata": {
    "colab": {
     "base_uri": "https://localhost:8080/"
    },
    "executionInfo": {
     "elapsed": 10,
     "status": "ok",
     "timestamp": 1761398111321,
     "user": {
      "displayName": "Anmol Agarwal",
      "userId": "08013987210768969151"
     },
     "user_tz": -330
    },
    "id": "93e333eb",
    "outputId": "e47eea46-b92d-49cb-e7d1-8bad4ff04017"
   },
   "outputs": [
    {
     "name": "stdout",
     "output_type": "stream",
     "text": [
      "Delhi\n",
      "250000\n"
     ]
    }
   ],
   "source": [
    "branch=('Delhi',250000)\n",
    "city,population=branch\n",
    "print(city)\n",
    "print(population)"
   ]
  },
  {
   "cell_type": "markdown",
   "id": "ecdb1ddd",
   "metadata": {
    "id": "ecdb1ddd"
   },
   "source": [
    "**Q9. Given two sets of customers `setA={'Ravi','Meera','John'}` and `setB={'John','Ali','Kiran'}`, how can you find the common customers??**"
   ]
  },
  {
   "cell_type": "code",
   "execution_count": 9,
   "id": "7171abf2",
   "metadata": {
    "colab": {
     "base_uri": "https://localhost:8080/"
    },
    "executionInfo": {
     "elapsed": 13,
     "status": "ok",
     "timestamp": 1761398172876,
     "user": {
      "displayName": "Anmol Agarwal",
      "userId": "08013987210768969151"
     },
     "user_tz": -330
    },
    "id": "7171abf2",
    "outputId": "09f7b44d-bfb0-44eb-95d3-5218da290a10"
   },
   "outputs": [
    {
     "name": "stdout",
     "output_type": "stream",
     "text": [
      "{'John'}\n"
     ]
    }
   ],
   "source": [
    "setA={'Ravi','Meera','John'}\n",
    "setB={'John','Ali','Kiran'}\n",
    "print(setA.intersection(setB))"
   ]
  },
  {
   "cell_type": "markdown",
   "id": "ecbe84b6",
   "metadata": {
    "id": "ecbe84b6"
   },
   "source": [
    "**Q10. How can you add a new supplier 'GlobalCorp' to the set `suppliers={'TCS','Infosys','Wipro'}`??**"
   ]
  },
  {
   "cell_type": "code",
   "execution_count": 10,
   "id": "8c81d7c4",
   "metadata": {
    "colab": {
     "base_uri": "https://localhost:8080/"
    },
    "executionInfo": {
     "elapsed": 8,
     "status": "ok",
     "timestamp": 1761398186606,
     "user": {
      "displayName": "Anmol Agarwal",
      "userId": "08013987210768969151"
     },
     "user_tz": -330
    },
    "id": "8c81d7c4",
    "outputId": "ca2f653d-8575-46f5-ad0b-70b78a44525e"
   },
   "outputs": [
    {
     "name": "stdout",
     "output_type": "stream",
     "text": [
      "{'GlobalCorp', 'TCS', 'Infosys', 'Wipro'}\n"
     ]
    }
   ],
   "source": [
    "suppliers={'TCS','Infosys','Wipro'}\n",
    "suppliers.add('GlobalCorp')\n",
    "print(suppliers)"
   ]
  }
 ],
 "metadata": {
  "colab": {
   "provenance": []
  },
  "kernelspec": {
   "display_name": "Python 3 (ipykernel)",
   "language": "python",
   "name": "python3"
  },
  "language_info": {
   "codemirror_mode": {
    "name": "ipython",
    "version": 3
   },
   "file_extension": ".py",
   "mimetype": "text/x-python",
   "name": "python",
   "nbconvert_exporter": "python",
   "pygments_lexer": "ipython3",
   "version": "3.13.5"
  }
 },
 "nbformat": 4,
 "nbformat_minor": 5
}
