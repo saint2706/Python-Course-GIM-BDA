{
 "cells": [
  {
   "cell_type": "markdown",
   "id": "c446d526",
   "metadata": {},
   "source": [
    "# Mastering Python Basics: Variables, Lists, and Dictionaries\n",
    "\n",
    "This notebook now opens with a quick roadmap so that learners understand what skills they will practise.\n",
    "\n",
    "- **Learning objectives:** Manipulate numeric values, manage list-based datasets, and organise information with dictionaries.\n",
    "- **Prerequisites:** A working Python installation, familiarity with running notebook cells, and knowledge of arithmetic symbols.\n",
    "- **Estimated time:** 35\u201345 minutes including reflection checkpoints."
   ]
  },
  {
   "cell_type": "markdown",
   "id": "c58efd15",
   "metadata": {},
   "source": [
    "## How to Use This Notebook\n",
    "\n",
    "1. Run each cell from top to bottom so variables defined earlier are available in later examples.\n",
    "2. Try to predict the output before executing a solution cell, then compare your expectation with the printed result.\n",
    "3. Modify the inputs after running the provided answer to explore *what-if* scenarios (e.g., change prices or inventory levels).\n",
    "4. Use the summary and checkpoint prompts to discuss concepts with peers or jot down your own explanations."
   ]
  },
  {
   "cell_type": "markdown",
   "id": "a08f5cf1",
   "metadata": {},
   "source": [
    "## All the questions here are basics : variables , operations and lists"
   ]
  },
  {
   "cell_type": "markdown",
   "id": "266c6205",
   "metadata": {},
   "source": [
    "**Q1. How can you calculate the total cost if a product price is 250 and shipping charge is 40??**"
   ]
  },
  {
   "cell_type": "code",
   "execution_count": null,
   "id": "e5a1016f",
   "metadata": {},
   "outputs": [],
   "source": [
    "# Solution for Q1\n",
    "product_price = 250  # base selling price of the product\n",
    "shipping_charge = 40  # flat logistics fee\n",
    "total_cost = product_price + shipping_charge  # combine fixed and variable components\n",
    "print(f\"Total payable amount: \u20b9{total_cost}\")"
   ]
  },
  {
   "cell_type": "markdown",
   "id": "8826656a",
   "metadata": {},
   "source": [
    "**Q2. How can you find the remainder when total sales 1234 are divided equally among 12 salespeople??**"
   ]
  },
  {
   "cell_type": "code",
   "execution_count": null,
   "id": "3c899f27",
   "metadata": {},
   "outputs": [],
   "source": [
    "# Solution for Q2\n",
    "total_sales = 1234  # overall revenue collected\n",
    "salespeople = 12  # number of staff to split among\n",
    "remainder = total_sales % salespeople  # modulus captures the leftover amount\n",
    "print(f\"Remainder after equal split: {remainder}\")"
   ]
  },
  {
   "cell_type": "markdown",
   "id": "1d30e340",
   "metadata": {},
   "source": [
    "**Q3. What is the Python expression to calculate 7 raised to the power of 4 for forecasting growth??**"
   ]
  },
  {
   "cell_type": "code",
   "execution_count": null,
   "id": "eff25f79",
   "metadata": {},
   "outputs": [],
   "source": [
    "# Solution for Q3\n",
    "base = 7\n",
    "exponent = 4\n",
    "forecasted_growth = base ** exponent  # exponentiation operator models repeated multiplication\n",
    "print(f\"7 raised to the power of 4 = {forecasted_growth}\")"
   ]
  },
  {
   "cell_type": "markdown",
   "id": "2f12aff7",
   "metadata": {},
   "source": [
    "**Q4. How can you check if two budgets `budget1=50000` and `budget2=75000` are equal??**"
   ]
  },
  {
   "cell_type": "code",
   "execution_count": null,
   "id": "5af3bd6b",
   "metadata": {},
   "outputs": [],
   "source": [
    "# Solution for Q4\n",
    "budget1 = 50000\n",
    "budget2 = 75000\n",
    "are_equal = budget1 == budget2  # equality comparison returns a boolean\n",
    "print(f\"Budgets equal? {are_equal}\")"
   ]
  },
  {
   "cell_type": "markdown",
   "id": "ba046ea2",
   "metadata": {},
   "source": [
    "**Q5. How can you find the maximum revenue between two branches with revenues 85000 and 92000??**"
   ]
  },
  {
   "cell_type": "code",
   "execution_count": null,
   "id": "a6bf1542",
   "metadata": {},
   "outputs": [],
   "source": [
    "# Solution for Q5\n",
    "branch_a = 85000\n",
    "branch_b = 92000\n",
    "max_revenue = max(branch_a, branch_b)  # `max` selects the higher value\n",
    "print(f\"Highest branch revenue: \u20b9{max_revenue}\")"
   ]
  },
  {
   "cell_type": "markdown",
   "id": "e867220e",
   "metadata": {},
   "source": [
    "**Q6. How can you check if a stock quantity 360 is divisible by carton size 12??**"
   ]
  },
  {
   "cell_type": "code",
   "execution_count": null,
   "id": "fcb04603",
   "metadata": {},
   "outputs": [],
   "source": [
    "# Solution for Q6\n",
    "stock_quantity = 360\n",
    "carton_size = 12\n",
    "is_divisible = stock_quantity % carton_size == 0  # divisible when no remainder exists\n",
    "print(f\"Can stock be evenly boxed? {is_divisible}\")"
   ]
  },
  {
   "cell_type": "markdown",
   "id": "d7f27be5",
   "metadata": {},
   "source": [
    "**Q7. How can you round the monthly expense 4578.678 to the nearest integer??**"
   ]
  },
  {
   "cell_type": "code",
   "execution_count": null,
   "id": "9deb4ab2",
   "metadata": {},
   "outputs": [],
   "source": [
    "# Solution for Q7\n",
    "monthly_expense = 4578.678\n",
    "rounded_expense = round(monthly_expense)  # nearest integer for budgeting overview\n",
    "print(f\"Rounded monthly expense: \u20b9{rounded_expense}\")"
   ]
  },
  {
   "cell_type": "markdown",
   "id": "ab149296",
   "metadata": {},
   "source": [
    "**Q8. How can you compute the average customer rating from `[4.2, 3.8, 4.5, 4.0]`??**"
   ]
  },
  {
   "cell_type": "code",
   "execution_count": null,
   "id": "0ea24e80",
   "metadata": {},
   "outputs": [],
   "source": [
    "# Solution for Q8\n",
    "ratings = [4.2, 3.8, 4.5, 4.0]\n",
    "average_rating = sum(ratings) / len(ratings)  # arithmetic mean\n",
    "print(f\"Average customer rating: {average_rating:.2f}\")"
   ]
  },
  {
   "cell_type": "markdown",
   "id": "7f7af5cf",
   "metadata": {},
   "source": [
    "**Q9. How can you swap values of two department budgets `deptA=120000` and `deptB=80000`??**"
   ]
  },
  {
   "cell_type": "code",
   "execution_count": null,
   "id": "05650a8b",
   "metadata": {},
   "outputs": [],
   "source": [
    "# Solution for Q9\n",
    "dept_a = 120000\n",
    "dept_b = 80000\n",
    "dept_a, dept_b = dept_b, dept_a  # tuple unpacking swaps values in one step\n",
    "print(f\"Department A budget: \u20b9{dept_a}\")\n",
    "print(f\"Department B budget: \u20b9{dept_b}\")"
   ]
  },
  {
   "cell_type": "markdown",
   "id": "85c83dad",
   "metadata": {},
   "source": [
    "**Q10. How can you check the data type of `invoice_id='INV1023'`??**"
   ]
  },
  {
   "cell_type": "code",
   "execution_count": null,
   "id": "43f1a6da",
   "metadata": {},
   "outputs": [],
   "source": [
    "# Solution for Q10\n",
    "invoice_id = 'INV1023'\n",
    "data_type = type(invoice_id).__name__  # class name gives human-readable type\n",
    "print(f\"`invoice_id` stores a {data_type}\")"
   ]
  },
  {
   "cell_type": "markdown",
   "id": "21ab6a66",
   "metadata": {},
   "source": [
    "### Concept Checkpoint: Working with Numbers\n",
    "\n",
    "- Explain when you would use floor division (`//`) versus true division (`/`).\n",
    "- How does Python determine the result type (int vs. float) when combining integers and floats?\n",
    "- Describe a real-world scenario where rounding precision impacts decision making."
   ]
  },
  {
   "cell_type": "markdown",
   "metadata": {},
   "source": [
    "#### Answers:\n",
    "\n",
    "**1. Floor division (`//`) vs. True division (`/`):**\n",
    "- **Floor division (`//`)**: Returns the largest integer less than or equal to the division result (rounds down). Use when you need whole units and want to discard remainders.\n",
    "  - Example: `17 // 5 = 3` (useful for calculating how many full boxes of 5 items you can fill with 17 items)\n",
    "- **True division (`/`)**: Returns a float result with decimal precision. Use when you need exact fractional results.\n",
    "  - Example: `17 / 5 = 3.4` (useful for calculating average sales per day)\n",
    "\n",
    "**2. Python's type determination in arithmetic:**\n",
    "- If both operands are integers, the result is an integer (for `+`, `-`, `*`) or a float (for `/`).\n",
    "- If at least one operand is a float, Python promotes the result to a float to preserve precision.\n",
    "  - Example: `5 + 2.0 = 7.0` (float), `5 + 2 = 7` (int)\n",
    "- This automatic promotion prevents loss of decimal information.\n",
    "\n",
    "**3. Real-world scenario for rounding precision:**\n",
    "- **Currency calculations**: When calculating tax or interest, improper rounding can lead to discrepancies over many transactions.\n",
    "  - Example: If you round $10.666 to $10.67 for one customer but $10.66 for another using inconsistent methods, audits may fail.\n",
    "  - Banks use precise rounding rules (like banker's rounding) to ensure fairness and accuracy across millions of transactions.\n",
    "- **Inventory management**: Rounding product quantities incorrectly could lead to stock shortages or excess inventory costs."
   ]
  },
  {
   "cell_type": "markdown",
   "id": "0d1b9616",
   "metadata": {},
   "source": [
    "**Q11. Given the list of clients `clients=['Tata','Infosys','Reliance','Adani']`, how can you access the second element??**"
   ]
  },
  {
   "cell_type": "code",
   "execution_count": null,
   "id": "8d1e2d49",
   "metadata": {},
   "outputs": [],
   "source": [
    "# Solution for Q11\n",
    "clients = ['Tata', 'Infosys', 'Reliance', 'Adani']\n",
    "second_client = clients[1]  # zero-based indexing\n",
    "print(f\"Second client in the list: {second_client}\")"
   ]
  },
  {
   "cell_type": "markdown",
   "id": "509d9e41",
   "metadata": {},
   "source": [
    "**Q12. How can you get the last order from the list `orders=['ORD1','ORD2','ORD3','ORD4']` using negative indexing??**"
   ]
  },
  {
   "cell_type": "code",
   "execution_count": null,
   "id": "4b326513",
   "metadata": {},
   "outputs": [],
   "source": [
    "# Solution for Q12\n",
    "orders = ['ORD1', 'ORD2', 'ORD3', 'ORD4']\n",
    "last_order = orders[-1]  # negative index counts from the end\n",
    "print(f\"Most recent order: {last_order}\")"
   ]
  },
  {
   "cell_type": "markdown",
   "id": "42575789",
   "metadata": {},
   "source": [
    "**Q13. How can you retrieve items from index 2 to 4 in the list `inventory=[100,200,300,400,500]`??**"
   ]
  },
  {
   "cell_type": "code",
   "execution_count": null,
   "id": "a72f418e",
   "metadata": {},
   "outputs": [],
   "source": [
    "# Solution for Q13\n",
    "inventory = [100, 200, 300, 400, 500]\n",
    "subset = inventory[2:5]  # slice from index 2 up to but not including 5\n",
    "print(f\"Items at positions 2-4: {subset}\")"
   ]
  },
  {
   "cell_type": "markdown",
   "id": "dbf5c257",
   "metadata": {},
   "source": [
    "**Q14. How can you update the third element in `departments=['HR','Finance','Sales']` to 'Marketing'??**"
   ]
  },
  {
   "cell_type": "code",
   "execution_count": null,
   "id": "a50dbe0b",
   "metadata": {},
   "outputs": [],
   "source": [
    "# Solution for Q14\n",
    "departments = ['HR', 'Finance', 'Sales']\n",
    "departments[2] = 'Marketing'  # mutate the specific index\n",
    "print(f\"Updated departments: {departments}\")"
   ]
  },
  {
   "cell_type": "markdown",
   "id": "da187173",
   "metadata": {},
   "source": [
    "**Q15. How can you add a new product 'Laptop' to the list `products=['Mouse','Keyboard']`??**"
   ]
  },
  {
   "cell_type": "code",
   "execution_count": null,
   "id": "e0865e9b",
   "metadata": {},
   "outputs": [],
   "source": [
    "# Solution for Q15\n",
    "products = ['Mouse', 'Keyboard']\n",
    "products.append('Laptop')  # append adds an item at the end\n",
    "print(f\"Expanded catalogue: {products}\")"
   ]
  },
  {
   "cell_type": "markdown",
   "id": "b170c23a",
   "metadata": {},
   "source": [
    "**Q16. How can you remove 'Keyboard' from `products=['Mouse','Keyboard','Monitor']`??**"
   ]
  },
  {
   "cell_type": "code",
   "execution_count": null,
   "id": "889d33e8",
   "metadata": {},
   "outputs": [],
   "source": [
    "# Solution for Q16\n",
    "products = ['Mouse', 'Keyboard', 'Monitor']\n",
    "products.remove('Keyboard')  # remove deletes the first matching entry\n",
    "print(f\"Inventory after removal: {products}\")"
   ]
  },
  {
   "cell_type": "markdown",
   "id": "96b218cb",
   "metadata": {},
   "source": [
    "**Q17. How can you calculate the number of employees in the list `employees=['John','Priya','Ali','Meera']`??**"
   ]
  },
  {
   "cell_type": "code",
   "execution_count": null,
   "id": "f488b9be",
   "metadata": {},
   "outputs": [],
   "source": [
    "# Solution for Q17\n",
    "employees = ['John', 'Priya', 'Ali', 'Meera']\n",
    "headcount = len(employees)  # length corresponds to number of items\n",
    "print(f\"Employee count: {headcount}\")"
   ]
  },
  {
   "cell_type": "markdown",
   "id": "43ced13c",
   "metadata": {},
   "source": [
    "**Q18. How can you reverse the order of `transactions=[1000,2000,3000,4000]`??**"
   ]
  },
  {
   "cell_type": "code",
   "execution_count": null,
   "id": "7cc70487",
   "metadata": {},
   "outputs": [],
   "source": [
    "# Solution for Q18\n",
    "transactions = [1000, 2000, 3000, 4000]\n",
    "transactions.reverse()  # in-place reversal for chronological review\n",
    "print(f\"Transactions in reverse order: {transactions}\")"
   ]
  },
  {
   "cell_type": "markdown",
   "id": "1742fa4c",
   "metadata": {},
   "source": [
    "**Q19. How can you check if 'Infosys' exists in the list `clients=['Tata','Infosys','Reliance']`??**"
   ]
  },
  {
   "cell_type": "code",
   "execution_count": null,
   "id": "148ab5e4",
   "metadata": {},
   "outputs": [],
   "source": [
    "# Solution for Q19\n",
    "clients = ['Tata', 'Infosys', 'Reliance']\n",
    "exists = 'Infosys' in clients  # membership test\n",
    "print(f\"Is Infosys a client? {exists}\")"
   ]
  },
  {
   "cell_type": "markdown",
   "id": "baae9a95",
   "metadata": {},
   "source": [
    "**Q20. How can you generate a list of invoice numbers from 101 to 110 using `range`??**"
   ]
  },
  {
   "cell_type": "code",
   "execution_count": null,
   "id": "1c86d489",
   "metadata": {},
   "outputs": [],
   "source": [
    "# Solution for Q20\n",
    "invoice_numbers = list(range(101, 111))  # range upper bound is exclusive\n",
    "print(f\"Generated invoice IDs: {invoice_numbers}\")"
   ]
  },
  {
   "cell_type": "markdown",
   "id": "fe4915df",
   "metadata": {},
   "source": [
    "#### Section Summary \u2014 Lists\n",
    "\n",
    "| Operation | Method | Quick Reminder |\n",
    "|-----------|--------|----------------|\n",
    "| Append item | `my_list.append(x)` | Adds to the end |\n",
    "| Insert at index | `my_list.insert(i, x)` | Shifts items to the right |\n",
    "| Remove by value | `my_list.remove(x)` | Removes first match, raises `ValueError` otherwise |\n",
    "| Reverse | `my_list[::-1]` or `my_list.reverse()` | Use slicing for a copy |"
   ]
  },
  {
   "cell_type": "markdown",
   "id": "49e680ac",
   "metadata": {},
   "source": [
    "### Concept Checkpoint: Lists in Action\n",
    "\n",
    "1. When is it better to create a shallow copy of a list instead of referencing it directly?\n",
    "2. Provide two different ways to add multiple items to the end of a list.\n",
    "3. How could slicing help you review the latest transactions in a financial log?"
   ]
  },
  {
   "cell_type": "markdown",
   "metadata": {},
   "source": [
    "#### Answers:\n",
    "\n",
    "**1. When to create a shallow copy vs. direct reference:**\n",
    "- **Direct reference (`list2 = list1`)**: Both variables point to the same list object. Changes to one affect the other.\n",
    "  - Use when you want multiple names for the same data (e.g., `current_inventory = main_inventory`).\n",
    "- **Shallow copy (`list2 = list1.copy()` or `list2 = list1[:]`)**: Creates a new list with the same elements.\n",
    "  - Use when you need to modify a list without affecting the original (e.g., creating a filtered subset for a report while keeping the original data intact).\n",
    "  - Example: `backup_sales = original_sales.copy()` allows you to experiment with `backup_sales` without risking `original_sales`.\n",
    "\n",
    "**2. Two ways to add multiple items to a list:**\n",
    "- **Method 1 - `extend()`**: Adds each element from an iterable to the end of the list.\n",
    "  - Example: `sales.extend([150, 200, 300])` adds three individual values.\n",
    "- **Method 2 - `+=` operator**: Concatenates another list to the end (similar to `extend()`).\n",
    "  - Example: `sales += [150, 200, 300]` achieves the same result.\n",
    "- **Alternative - `append()` in a loop**: Less efficient but sometimes used: `for item in [150, 200, 300]: sales.append(item)`\n",
    "\n",
    "**3. Using slicing for latest transactions:**\n",
    "- **Last N items**: `transactions[-5:]` retrieves the last 5 transactions from the log.\n",
    "  - Useful for dashboard displays showing recent activity.\n",
    "- **Recent time window**: If transactions are chronologically ordered, slicing allows quick access without searching.\n",
    "  - Example: `daily_log[-10:]` shows the 10 most recent entries for end-of-day review.\n",
    "- **Reverse order**: `transactions[::-1]` reverses the list to show newest first."
   ]
  },
  {
   "cell_type": "markdown",
   "id": "a6d04b1a",
   "metadata": {},
   "source": [
    "**Q21. How can you create a dictionary for a supplier with keys 'name','location' and values 'ABC Ltd','Mumbai'??**"
   ]
  },
  {
   "cell_type": "code",
   "execution_count": null,
   "id": "11e41876",
   "metadata": {},
   "outputs": [],
   "source": [
    "# Solution for Q21\n",
    "supplier = {'name': 'ABC Ltd', 'location': 'Mumbai'}\n",
    "print(f\"Supplier record: {supplier}\")"
   ]
  },
  {
   "cell_type": "markdown",
   "id": "81f1cb7c",
   "metadata": {},
   "source": [
    "**Q22. How can you access the 'location' value from dictionary `supplier={'name':'ABC Ltd','location':'Mumbai'}`??**"
   ]
  },
  {
   "cell_type": "code",
   "execution_count": null,
   "id": "c146a7b4",
   "metadata": {},
   "outputs": [],
   "source": [
    "# Solution for Q22\n",
    "supplier = {'name': 'ABC Ltd', 'location': 'Mumbai'}\n",
    "location = supplier['location']  # direct key lookup\n",
    "print(f\"Supplier location: {location}\")"
   ]
  },
  {
   "cell_type": "markdown",
   "id": "d8571b1e",
   "metadata": {},
   "source": [
    "**Q23. How can you add a new key 'rating' with value 4.5 in dictionary `supplier={'name':'ABC Ltd','location':'Mumbai'}`??**"
   ]
  },
  {
   "cell_type": "code",
   "execution_count": null,
   "id": "be888da7",
   "metadata": {},
   "outputs": [],
   "source": [
    "# Solution for Q23\n",
    "supplier = {'name': 'ABC Ltd', 'location': 'Mumbai'}\n",
    "supplier['rating'] = 4.5  # assign a new key-value pair\n",
    "print(f\"Supplier with rating: {supplier}\")"
   ]
  },
  {
   "cell_type": "markdown",
   "id": "210029db",
   "metadata": {},
   "source": [
    "**Q24. How can you update the value of 'location' to 'Delhi' in dictionary `supplier={'name':'ABC Ltd','location':'Mumbai'}`??**"
   ]
  },
  {
   "cell_type": "code",
   "execution_count": null,
   "id": "5e53b58f",
   "metadata": {},
   "outputs": [],
   "source": [
    "# Solution for Q24\n",
    "supplier = {'name': 'ABC Ltd', 'location': 'Mumbai'}\n",
    "supplier['location'] = 'Delhi'  # overwrite existing key value\n",
    "print(f\"Updated supplier: {supplier}\")"
   ]
  },
  {
   "cell_type": "markdown",
   "id": "8e89c8e8",
   "metadata": {},
   "source": [
    "**Q25. How can you remove the key 'location' from dictionary `supplier={'name':'ABC Ltd','location':'Mumbai'}`??**"
   ]
  },
  {
   "cell_type": "code",
   "execution_count": null,
   "id": "7ec02528",
   "metadata": {},
   "outputs": [],
   "source": [
    "# Solution for Q25\n",
    "supplier = {'name': 'ABC Ltd', 'location': 'Mumbai'}\n",
    "removed_location = supplier.pop('location')  # pop removes and returns the value\n",
    "print(f\"Removed location: {removed_location}\")\n",
    "print(f\"Supplier after removal: {supplier}\")"
   ]
  },
  {
   "cell_type": "markdown",
   "id": "513c584f",
   "metadata": {},
   "source": [
    "**Q26. How can you get all the keys from dictionary `supplier={'name':'ABC Ltd','location':'Mumbai'}`??**"
   ]
  },
  {
   "cell_type": "code",
   "execution_count": null,
   "id": "7fe93f46",
   "metadata": {},
   "outputs": [],
   "source": [
    "# Solution for Q26\n",
    "supplier = {'name': 'ABC Ltd', 'location': 'Mumbai'}\n",
    "keys = list(supplier.keys())  # convert to list for display\n",
    "print(f\"Dictionary keys: {keys}\")"
   ]
  },
  {
   "cell_type": "markdown",
   "id": "5f2a356e",
   "metadata": {},
   "source": [
    "**Q27. How can you get all the values from dictionary `supplier={'name':'ABC Ltd','location':'Mumbai'}`??**"
   ]
  },
  {
   "cell_type": "code",
   "execution_count": null,
   "id": "7362b079",
   "metadata": {},
   "outputs": [],
   "source": [
    "# Solution for Q27\n",
    "supplier = {'name': 'ABC Ltd', 'location': 'Mumbai'}\n",
    "values = list(supplier.values())  # values view\n",
    "print(f\"Dictionary values: {values}\")"
   ]
  },
  {
   "cell_type": "markdown",
   "id": "e0e93310",
   "metadata": {},
   "source": [
    "**Q28. How can you check if key 'rating' exists in dictionary `supplier={'name':'ABC Ltd','location':'Mumbai'}`??**"
   ]
  },
  {
   "cell_type": "code",
   "execution_count": null,
   "id": "2043f53c",
   "metadata": {},
   "outputs": [],
   "source": [
    "# Solution for Q28\n",
    "supplier = {'name': 'ABC Ltd', 'location': 'Mumbai'}\n",
    "has_rating = 'rating' in supplier  # membership on keys\n",
    "print(f\"Rating key present? {has_rating}\")"
   ]
  },
  {
   "cell_type": "markdown",
   "id": "35f12da2",
   "metadata": {},
   "source": [
    "**Q29. How can you loop through both keys and values of dictionary `supplier={'name':'ABC Ltd','location':'Mumbai'}`??**"
   ]
  },
  {
   "cell_type": "code",
   "execution_count": null,
   "id": "fd352968",
   "metadata": {},
   "outputs": [],
   "source": [
    "# Solution for Q29\n",
    "supplier = {'name': 'ABC Ltd', 'location': 'Mumbai'}\n",
    "for key, value in supplier.items():\n",
    "    print(f\"{key.title()}: {value}\")  # iterate pairs with formatted output"
   ]
  },
  {
   "cell_type": "markdown",
   "id": "c779ba78",
   "metadata": {},
   "source": [
    "**Q30. How can you create a dictionary mapping product codes `['P01','P02']` to stock counts `[150,300]`??**"
   ]
  },
  {
   "cell_type": "code",
   "execution_count": null,
   "id": "88d15373",
   "metadata": {},
   "outputs": [],
   "source": [
    "# Solution for Q30\n",
    "product_codes = ['P01', 'P02']\n",
    "stock_counts = [150, 300]\n",
    "product_stock_map = dict(zip(product_codes, stock_counts))  # pair each code with its stock\n",
    "print(f\"Product stock mapping: {product_stock_map}\")"
   ]
  },
  {
   "cell_type": "markdown",
   "id": "4fde842d",
   "metadata": {},
   "source": [
    "#### Section Summary \u2014 Dictionaries\n",
    "\n",
    "| Need | Operation | Snippet |\n",
    "|------|-----------|---------|\n",
    "| Safe lookup | `.get(key, default)` | Avoids `KeyError` |\n",
    "| Iterate | `.items()` | Returns `(key, value)` pairs |\n",
    "| Update many | `.update({...})` | Merge key-value pairs |\n",
    "| Inspect structure | `keys()`, `values()` | Provide dynamic views |"
   ]
  },
  {
   "cell_type": "markdown",
   "id": "edd07f5a",
   "metadata": {},
   "source": [
    "### Concept Checkpoint: Dictionaries\n",
    "\n",
    "- What is the difference between `dict.get('key')` and accessing `dict['key']`?\n",
    "- Describe how dictionaries can help implement a simple lookup service (e.g., student -> grades).\n",
    "- When would you choose a list of tuples instead of a dictionary to pair related items?"
   ]
  },
  {
   "cell_type": "markdown",
   "metadata": {},
   "source": [
    "#### Answers:\n",
    "\n",
    "**1. `dict.get('key')` vs. `dict['key']`:**\n",
    "- **`dict['key']`**: Direct access that raises a `KeyError` if the key doesn't exist.\n",
    "  - Use when you're certain the key exists, or when you want an error to alert you to missing data.\n",
    "  - Example: `price = product_catalog['Laptop']` (fails loudly if 'Laptop' is not in catalog)\n",
    "- **`dict.get('key', default_value)`**: Returns `None` (or a specified default) if the key is missing, avoiding errors.\n",
    "  - Use when a missing key is acceptable and you want to provide a fallback.\n",
    "  - Example: `discount = customer_discounts.get('John', 0)` (returns 0 if John has no discount)\n",
    "\n",
    "**2. Using dictionaries for lookup services:**\n",
    "- Dictionaries provide O(1) average-case lookup time, making them ideal for fast retrieval.\n",
    "- **Example - Student grades lookup**:\n",
    "  ```python\n",
    "  student_grades = {\n",
    "      'Alice': 85,\n",
    "      'Bob': 92,\n",
    "      'Charlie': 78\n",
    "  }\n",
    "  print(student_grades['Alice'])  # Fast retrieval: 85\n",
    "  ```\n",
    "- **Other use cases**: Product catalogs (ID \u2192 details), employee records (ID \u2192 info), configuration settings (name \u2192 value).\n",
    "\n",
    "**3. When to choose list of tuples over dictionary:**\n",
    "- **Duplicate keys**: Lists allow duplicate first elements, dictionaries don't allow duplicate keys.\n",
    "  - Example: `transactions = [('Alice', 100), ('Bob', 150), ('Alice', 200)]` tracks multiple purchases per person.\n",
    "- **Order preservation with duplicates**: When you need to maintain insertion order AND have repeating keys.\n",
    "- **Iteration priority**: If you primarily iterate through pairs rather than look up by key, tuples may be more appropriate.\n",
    "- **Immutability**: Tuples within the list are immutable, which can be useful for data integrity.\n",
    "- **Sorting flexibility**: Lists of tuples can be easily sorted by any element position.\n",
    "  - Example: `sorted(transactions, key=lambda x: x[1])` sorts by amount."
   ]
  },
  {
   "cell_type": "markdown",
   "id": "abd86185",
   "metadata": {},
   "source": [
    "### Consolidation Challenge: Retail Inventory Snapshot\n",
    "\n",
    "Create a dictionary where each key is a product name and each value is a list containing `[stock_on_hand, reorder_level, unit_price]`.\n",
    "\n",
    "1. Update the stock for any product that has been sold today.\n",
    "2. Calculate the total inventory value by summing `stock_on_hand * unit_price` for every product.\n",
    "3. Generate a report listing products that are at or below their reorder level.\n",
    "\n",
    "Use the starter scaffold in the next cell and run the provided solution to compare your approach."
   ]
  },
  {
   "cell_type": "code",
   "execution_count": null,
   "id": "10c3500f",
   "metadata": {},
   "outputs": [],
   "source": [
    "# Solution for the Consolidation Challenge\n",
    "inventory = {\n",
    "    'Notebook': [120, 80, 45.0],\n",
    "    'Desk Chair': [40, 30, 320.0],\n",
    "    'Wireless Mouse': [75, 40, 25.0],\n",
    "}\n",
    "\n",
    "# 1. Record today's sales by adjusting the stock counts\n",
    "todays_sales = {'Notebook': 12, 'Desk Chair': 3}\n",
    "for product, quantity_sold in todays_sales.items():\n",
    "    inventory[product][0] -= quantity_sold  # reduce on-hand stock\n",
    "\n",
    "# 2. Compute total inventory value across the catalogue\n",
    "total_value = 0.0\n",
    "for stock_on_hand, _, unit_price in inventory.values():\n",
    "    total_value += stock_on_hand * unit_price  # aggregate the extended price\n",
    "\n",
    "# 3. Flag items needing replenishment\n",
    "reorder_alerts = [\n",
    "    name for name, (stock, reorder_level, _) in inventory.items()\n",
    "    if stock <= reorder_level\n",
    "]\n",
    "\n",
    "print(f\"Total inventory value: \u20b9{total_value:,.2f}\")\n",
    "print('Products to reorder:', reorder_alerts)\n"
   ]
  }
 ],
 "metadata": {
  "kernelspec": {
   "display_name": "Python 3 (ipykernel)",
   "language": "python",
   "name": "python3"
  },
  "language_info": {
   "codemirror_mode": {
    "name": "ipython",
    "version": 3
   },
   "file_extension": ".py",
   "mimetype": "text/x-python",
   "name": "python",
   "nbconvert_exporter": "python",
   "pygments_lexer": "ipython3",
   "version": "3.11.3"
  }
 },
 "nbformat": 4,
 "nbformat_minor": 5
}