{
 "cells": [
  {
   "cell_type": "markdown",
   "id": "2b454c52",
   "metadata": {},
   "source": [
    "# Function Design Workshop\n",
    "\n",
    "Develop reusable utilities with clear signatures, descriptive docstrings, and targeted tests."
   ]
  },
  {
   "cell_type": "markdown",
   "id": "8b290ed5",
   "metadata": {},
   "source": [
    "## How to Use This Notebook\n",
    "\n",
    "1. Read each requirement carefully and sketch an implementation before expanding the solution cell.\n",
    "2. After running the provided function, tweak the inputs to validate type hints and guard clauses.\n",
    "3. Use the accompanying test cell to verify behaviour automatically when you add new functions."
   ]
  },
  {
   "cell_type": "markdown",
   "id": "9cb7cb19",
   "metadata": {},
   "source": [
    "**Q1. Write a function `greet_customer(name)` that returns a greeting string like `Welcome, <name>!` ??**"
   ]
  },
  {
   "cell_type": "code",
   "execution_count": null,
   "id": "ebd7263b",
   "metadata": {},
   "outputs": [],
   "source": [
    "# Solution for Q1\n",
    "def greet_customer(name: str) -> str:\n",
    "    \"\"\"Return a friendly greeting for the provided customer name.\"\"\"\n",
    "    # This function takes a string 'name' and returns a formatted greeting string.\n",
    "    return f\"Hello, {name}! Thanks for shopping with us.\"\n",
    "\n",
    "# Example of how to call the function and print its output.\n",
    "print(greet_customer('Asha'))"
   ]
  },
  {
   "cell_type": "markdown",
   "id": "b11cf69c",
   "metadata": {},
   "source": [
    "**Q2. Write a function `total_cost(price, qty)` that returns `price * qty` for an order amount??**"
   ]
  },
  {
   "cell_type": "code",
   "execution_count": null,
   "id": "3c7bd37a",
   "metadata": {},
   "outputs": [],
   "source": [
    "# Solution for Q2\n",
    "def total_cost(price: float, qty: int) -> float:\n",
    "    \"\"\"Calculate the total cost for the given price and quantity.\"\"\"\n",
    "    # This function multiplies the price by the quantity to get the total cost.\n",
    "    return price * qty\n",
    "\n",
    "print(total_cost(250.0, 4))"
   ]
  },
  {
   "cell_type": "markdown",
   "id": "f28f9835",
   "metadata": {},
   "source": [
    "**Q3. Write a function `apply_gst(amount, rate=0.18)` that returns the amount including GST using a default rate if not provided??**"
   ]
  },
  {
   "cell_type": "code",
   "execution_count": null,
   "id": "6da1bc15",
   "metadata": {},
   "outputs": [],
   "source": [
    "# Solution for Q3\n",
    "def apply_gst(amount: float, rate: float = 0.18) -> float:\n",
    "    \"\"\"Return the amount inclusive of GST based on the provided rate.\"\"\"\n",
    "    # This function uses a default value for the 'rate' argument if one isn't provided.\n",
    "    return amount * (1 + rate)\n",
    "\n",
    "print(apply_gst(1000))"
   ]
  },
  {
   "cell_type": "markdown",
   "id": "243ff6b6",
   "metadata": {},
   "source": [
    "**Q4. Write a function `is_target_met(sales, target)` that returns True if sales >= target, else False??**"
   ]
  },
  {
   "cell_type": "code",
   "execution_count": null,
   "id": "681b2b1a",
   "metadata": {},
   "outputs": [],
   "source": [
    "# Solution for Q4\n",
    "def is_target_met(sales: float, target: float) -> bool:\n",
    "    \"\"\"Return True if sales meet or exceed the target, otherwise False.\"\"\"\n",
    "    # This function returns a boolean value based on a comparison.\n",
    "    return sales >= target\n",
    "\n",
    "print(is_target_met(120000, 100000))"
   ]
  },
  {
   "cell_type": "markdown",
   "id": "ace3479b",
   "metadata": {},
   "source": [
    "**Q5. Write a function `full_email(first, last, domain='company.com')` that builds `<first>.<last>@<domain>` in lowercase??**"
   ]
  },
  {
   "cell_type": "code",
   "execution_count": null,
   "id": "4b151be8",
   "metadata": {},
   "outputs": [],
   "source": [
    "# Solution for Q5\n",
    "def full_email(first: str, last: str, domain: str = 'company.com') -> str:\n",
    "    \"\"\"Build a normalized email address for the provided name and domain.\"\"\"\n",
    "    # This function demonstrates string formatting and manipulation.\n",
    "    return f\"{first.strip().lower()}.{last.strip().lower()}@{domain}\"\n",
    "\n",
    "print(full_email('Ravi', 'Kulkarni'))"
   ]
  },
  {
   "cell_type": "markdown",
   "id": "7972f45e",
   "metadata": {},
   "source": [
    "### Best Practices Spotlight\n",
    "\n",
    "- **Default arguments:** Prefer immutable defaults (`None`, `0`, `''`) to avoid state leakage.\n",
    "- **Variable scope:** Keep helper functions nested only when they rely on outer variables; otherwise define them at module level for reuse.\n",
    "- **Recursion:** Provide explicit base cases and guard clauses to prevent infinite loops, especially when processing user-generated structures."
   ]
  },
  {
   "cell_type": "markdown",
   "id": "692e0e85",
   "metadata": {},
   "source": [
    "**Q6. Write a function `avg_rating(*ratings)` that returns the average of any number of numeric ratings??**"
   ]
  },
  {
   "cell_type": "code",
   "execution_count": null,
   "id": "eceb33e7",
   "metadata": {},
   "outputs": [],
   "source": [
    "# Solution for Q6\n",
    "def avg_rating(*ratings: float) -> float:\n",
    "    \"\"\"Return the arithmetic mean of the supplied rating values.\"\"\"\n",
    "    # The *ratings syntax allows the function to accept a variable number of arguments.\n",
    "    if not ratings:\n",
    "        raise ValueError('At least one rating is required')\n",
    "    return sum(ratings) / len(ratings)\n",
    "\n",
    "print(round(avg_rating(4.2, 3.8, 4.5, 4.0), 2))"
   ]
  },
  {
   "cell_type": "markdown",
   "id": "d960c9ea",
   "metadata": {},
   "source": [
    "**Q7. Write a function `format_invoice(**fields)` that returns a string like `INV:<id> - <client> - <amount>` using keys `id`, `client`, `amount` from kwargs??**"
   ]
  },
  {
   "cell_type": "code",
   "execution_count": null,
   "id": "883b544e",
   "metadata": {},
   "outputs": [],
   "source": [
    "# Solution for Q7\n",
    "def format_invoice(**fields) -> str:\n",
    "    \"\"\"Format invoice information into a single readable string.\"\"\"\n",
    "    # The **fields syntax allows the function to accept a variable number of keyword arguments.\n",
    "    try:\n",
    "        return f\"INV:{fields['id']} - {fields['client']} - {fields['amount']}\"\n",
    "    except KeyError as exc:\n",
    "        raise KeyError(f'Missing required field: {exc.args[0]}') from exc\n",
    "\n",
    "print(format_invoice(id='1001', client='ABC Ltd', amount=1520.0))"
   ]
  },
  {
   "cell_type": "markdown",
   "id": "e80b73bf",
   "metadata": {},
   "source": [
    "**Q8. Write a function `percent_change(old, new)` that returns percentage change rounded to 2 decimals (positive or negative)??**"
   ]
  },
  {
   "cell_type": "code",
   "execution_count": null,
   "id": "e56d881d",
   "metadata": {},
   "outputs": [],
   "source": [
    "# Solution for Q8\n",
    "def percent_change(old: float, new: float) -> float:\n",
    "    \"\"\"Return the percentage change from old to new rounded to two decimals.\"\"\"\n",
    "    # This function includes error handling for the case where the old value is zero.\n",
    "    if old == 0:\n",
    "        raise ValueError('Old value must be non-zero for percentage change')\n",
    "    change = ((new - old) / old) * 100\n",
    "    return round(change, 2)\n",
    "\n",
    "print(percent_change(100, 120))"
   ]
  },
  {
   "cell_type": "markdown",
   "id": "a56098c9",
   "metadata": {},
   "source": [
    "**Q9. Write a function `sanitize_sku(sku)` that trims spaces and converts the SKU to uppercase??**"
   ]
  },
  {
   "cell_type": "code",
   "execution_count": null,
   "id": "938566ef",
   "metadata": {},
   "outputs": [],
   "source": [
    "# Solution for Q9\n",
    "def sanitize_sku(sku: str) -> str:\n",
    "    \"\"\"Trim whitespace and convert the SKU to uppercase.\"\"\"\n",
    "    # The .strip() method removes leading/trailing whitespace, and .upper() converts to uppercase.\n",
    "    return sku.strip().upper()\n",
    "\n",
    "print(sanitize_sku(' ab-123 '))"
   ]
  },
  {
   "cell_type": "markdown",
   "id": "0fb6d427",
   "metadata": {},
   "source": [
    "**Q10. Write a function `cap_words(text)` that returns the sentence with each word capitalized (don’t use external libraries)??**"
   ]
  },
  {
   "cell_type": "code",
   "execution_count": null,
   "id": "968fc87f",
   "metadata": {},
   "outputs": [],
   "source": [
    "# Solution for Q10\n",
    "def cap_words(text: str) -> str:\n",
    "    \"\"\"Return the sentence with each word capitalized.\"\"\"\n",
    "    # This uses a generator expression within ' '.join() to capitalize each word.\n",
    "    return ' '.join(word.capitalize() for word in text.split())\n",
    "\n",
    "print(cap_words('welcome to python'))"
   ]
  },
  {
   "cell_type": "markdown",
   "id": "32ee14c1",
   "metadata": {},
   "source": [
    "**Q11. Write a function `top_sellers(sales_dict, n)` that takes a dict like `{'A':1200,'B':900,'C':1500}` and returns a list of the top `n` product IDs by sales (highest first)??**"
   ]
  },
  {
   "cell_type": "code",
   "execution_count": null,
   "id": "c5ecfcd5",
   "metadata": {},
   "outputs": [],
   "source": [
    "# Solution for Q11\n",
    "def top_sellers(sales_dict: dict[str, float], n: int) -> list[str]:\n",
    "    \"\"\"Return the top n product IDs sorted by sales in descending order.\"\"\"\n",
    "    # The sorted() function is used with a lambda function to sort the dictionary items by value.\n",
    "    sorted_items = sorted(sales_dict.items(), key=lambda item: item[1], reverse=True)\n",
    "    return [product for product, _ in sorted_items[:n]]\n",
    "\n",
    "print(top_sellers({'A': 1200, 'B': 900, 'C': 1500}, 2))"
   ]
  },
  {
   "cell_type": "markdown",
   "id": "147f47bc",
   "metadata": {},
   "source": [
    "**Q12. Write a function `filter_high_value(orders, threshold)` where `orders` is a list of amounts; return only amounts strictly above `threshold`??**"
   ]
  },
  {
   "cell_type": "code",
   "execution_count": null,
   "id": "0a72d779",
   "metadata": {},
   "outputs": [],
   "source": [
    "# Solution for Q12\n",
    "def filter_high_value(orders: list[float], threshold: float) -> list[float]:\n",
    "    \"\"\"Return orders that are strictly above the provided threshold.\"\"\"\n",
    "    # A list comprehension is a concise way to create a new list by filtering an existing one.\n",
    "    return [order for order in orders if order > threshold]\n",
    "\n",
    "print(filter_high_value([1200, 800, 4500], 1000))"
   ]
  },
  {
   "cell_type": "markdown",
   "id": "a839c04b",
   "metadata": {},
   "source": [
    "**Q13. Write a function `tag_discounts(prices, cutoff)` that returns `['HIGH' if p>=cutoff else 'LOW' for each price]` without using list comprehensions (use a loop)??**"
   ]
  },
  {
   "cell_type": "code",
   "execution_count": null,
   "id": "6d55eeb9",
   "metadata": {},
   "outputs": [],
   "source": [
    "# Solution for Q13\n",
    "def tag_discounts(prices: list[float], cutoff: float) -> list[str]:\n",
    "    \"\"\"Return HIGH/LOW tags for each price using an explicit loop.\"\"\"\n",
    "    tags = []\n",
    "    # This demonstrates the use of a for loop to iterate through a list and build a new one.\n",
    "    for price in prices:\n",
    "        if price >= cutoff:\n",
    "            tags.append('HIGH')\n",
    "        else:\n",
    "            tags.append('LOW')\n",
    "    return tags\n",
    "\n",
    "print(tag_discounts([120, 250, 90, 300], 200))"
   ]
  },
  {
   "cell_type": "markdown",
   "id": "b5c613d4",
   "metadata": {},
   "source": [
    "**Q14. Write a function `merge_stocks(main, incoming)` that merges two dictionaries of stocks by summing counts for matching keys and keeping non-overlapping ones??**"
   ]
  },
  {
   "cell_type": "code",
   "execution_count": null,
   "id": "8b62e470",
   "metadata": {},
   "outputs": [],
   "source": [
    "# Solution for Q14\n",
    "def merge_stocks(main: dict[str, int], incoming: dict[str, int]) -> dict[str, int]:\n",
    "    \"\"\"Merge two stock dictionaries, summing counts for matching product codes.\"\"\"\n",
    "    combined = main.copy() # Start with a copy of the main dictionary.\n",
    "    # Iterate through the incoming dictionary and update the combined one.\n",
    "    for product, qty in incoming.items():\n",
    "        combined[product] = combined.get(product, 0) + qty\n",
    "    return combined\n",
    "\n",
    "print(merge_stocks({'P01': 50, 'P02': 20}, {'P02': 30, 'P03': 15}))"
   ]
  },
  {
   "cell_type": "markdown",
   "id": "26afd3b7",
   "metadata": {},
   "source": [
    "**Q15. Write a function `unique_clients(records)` that takes a list of client names (with duplicates and varying cases) and returns a sorted list of unique names in title case??**"
   ]
  },
  {
   "cell_type": "code",
   "execution_count": null,
   "id": "8a4f3480",
   "metadata": {},
   "outputs": [],
   "source": [
    "# Solution for Q15\n",
    "def unique_clients(records: list[str]) -> list[str]:\n",
    "    \"\"\"Return a sorted list of unique client names in title case.\"\"\"\n",
    "    # A set is used to automatically handle duplicates.\n",
    "    normalized = {name.strip().title() for name in records}\n",
    "    return sorted(normalized)\n",
    "\n",
    "print(unique_clients(['tata', 'Reliance', 'TATA', '  infosys ']))"
   ]
  },
  {
   "cell_type": "markdown",
   "id": "60a6aa56",
   "metadata": {},
   "source": [
    "**Q16. Write a recursive function `factorial(n)` that returns n! and raises `ValueError` if `n` is negative??**"
   ]
  },
  {
   "cell_type": "code",
   "execution_count": null,
   "id": "1d7c9813",
   "metadata": {},
   "outputs": [],
   "source": [
    "# Solution for Q16\n",
    "def factorial(n: int) -> int:\n",
    "    \"\"\"Return n! using recursion, raising ValueError for negative inputs.\"\"\"\n",
    "    # This is a classic example of a recursive function.\n",
    "    if n < 0:\n",
    "        raise ValueError('Factorial is not defined for negative numbers')\n",
    "    if n in (0, 1):\n",
    "        return 1 # Base case for the recursion.\n",
    "    return n * factorial(n - 1) # Recursive step.\n",
    "\n",
    "print(factorial(5))"
   ]
  },
  {
   "cell_type": "markdown",
   "id": "d323c69a",
   "metadata": {},
   "source": [
    "**Q17. Write a recursive function `flatten(nested)` that flattens a list like `[[1,2],[3,[4]]]` into `[1,2,3,4]`??**"
   ]
  },
  {
   "cell_type": "code",
   "execution_count": null,
   "id": "d34a59f6",
   "metadata": {},
   "outputs": [],
   "source": [
    "# Solution for Q17\n",
    "def flatten(nested: list) -> list:\n",
    "    \"\"\"Recursively flatten a nested list structure.\"\"\"\n",
    "    result: list = []\n",
    "    for item in nested:\n",
    "        if isinstance(item, list):\n",
    "            # If the item is a list, recursively call flatten and extend the result.\n",
    "            result.extend(flatten(item))\n",
    "        else:\n",
    "            # If the item is not a list, append it to the result.\n",
    "            result.append(item)\n",
    "    return result\n",
    "\n",
    "print(flatten([[1, 2], [3, [4]]]))"
   ]
  },
  {
   "cell_type": "markdown",
   "id": "cb20298a",
   "metadata": {},
   "source": [
    "**Q18. Write a function `make_incrementer(step)` that returns a new function which, when called with `x`, returns `x + step` (closure)??**"
   ]
  },
  {
   "cell_type": "code",
   "execution_count": null,
   "id": "1b601261",
   "metadata": {},
   "outputs": [],
   "source": [
    "# Solution for Q18\n",
    "def make_incrementer(step: int):\n",
    "    \"\"\"Return a closure that increments numbers by the configured step.\"\"\"\n",
    "    # This is an example of a higher-order function that returns another function (a closure).\n",
    "    def increment(value: int) -> int:\n",
    "        \"\"\"Increment a value by the step defined in the outer scope.\"\"\"\n",
    "        return value + step\n",
    "    return increment\n",
    "\n",
    "add_five = make_incrementer(5)\n",
    "print(add_five(10))"
   ]
  },
  {
   "cell_type": "markdown",
   "id": "fc8d45b9",
   "metadata": {},
   "source": [
    "**Q19. Write a function `safe_div(a, b)` that returns `a/b` but returns `None` if `b==0` instead of raising an error??**"
   ]
  },
  {
   "cell_type": "code",
   "execution_count": null,
   "id": "a36963be",
   "metadata": {},
   "outputs": [],
   "source": [
    "# Solution for Q19\n",
    "def safe_div(a: float, b: float) -> float | None:\n",
    "    \"\"\"Return a/b if possible; otherwise return None when divisor is zero.\"\"\"\n",
    "    # This is a good example of defensive programming.\n",
    "    if b == 0:\n",
    "        return None\n",
    "    return a / b\n",
    "\n",
    "print(safe_div(10, 2))\n",
    "print(safe_div(10, 0))"
   ]
  },
  {
   "cell_type": "markdown",
   "id": "0b85458f",
   "metadata": {},
   "source": [
    "**Q20. Write a function `readable_currency(amount)` that returns a string with thousands separators (e.g., `1,234,567.89`) without using external libraries??**"
   ]
  },
  {
   "cell_type": "code",
   "execution_count": null,
   "id": "6877f6fc",
   "metadata": {},
   "outputs": [],
   "source": [
    "# Solution for Q20\n",
    "def readable_currency(amount: float) -> str:\n",
    "    \"\"\"Format a numeric amount with thousands separators and two decimals.\"\"\"\n",
    "    # F-strings provide a powerful and concise way to format strings.\n",
    "    return f\"{amount:,.2f}\"\n",
    "\n",
    "print(readable_currency(1234567.89))"
   ]
  },
  {
   "cell_type": "markdown",
   "id": "963927cf",
   "metadata": {},
   "source": [
    "### Extension Exercise\n",
    "\n",
    "Bundle your favourite utilities from this notebook into a separate module (e.g., `retail_utils.py`).\n",
    "\n",
    "1. Copy function definitions into the module.\n",
    "2. Write at least three focused unit tests covering edge cases (negative values, empty iterables).\n",
    "3. Import the module back into a notebook cell and demonstrate the functions working together in a mini workflow."
   ]
  },
  {
   "cell_type": "markdown",
   "id": "c3de97de",
   "metadata": {},
   "source": [
    "#### Function Toolkit Summary\n",
    "\n",
    "| Pattern | Key Idea | Example |\n",
    "|---------|----------|---------|\n",
    "| Pure function | No side effects | `percent_change(old, new)` |\n",
    "| Higher-order | Returns callable | `make_incrementer(step)` |\n",
    "| Recursive | Breaks problem into smaller pieces | `flatten(nested)` |\n",
    "| Defensive | Guards invalid input | `safe_div(a, b)` |"
   ]
  },
  {
   "cell_type": "code",
   "execution_count": null,
   "id": "2609a83a",
   "metadata": {},
   "outputs": [],
   "source": [
    "# This cell contains automated tests for some of the functions in this notebook.\n",
    "import unittest\n",
    "\n",
    "class FunctionTests(unittest.TestCase):\n",
    "    def test_total_cost(self):\n",
    "        \"\"\"Test the total_cost function.\"\"\"\n",
    "        self.assertEqual(total_cost(250, 3), 750)\n",
    "\n",
    "    def test_unique_clients(self):\n",
    "        \"\"\"Test the unique_clients function.\"\"\"\n",
    "        self.assertEqual(sorted(unique_clients(['A', 'B', 'A'])), ['A', 'B'])\n",
    "\n",
    "    def test_flatten(self):\n",
    "        \"\"\"Test the flatten function.\"\"\"\n",
    "        self.assertEqual(flatten([[1, 2], [3, [4]]]), [1, 2, 3, 4])\n",
    "\n",
    "if __name__ == '__main__':\n",
    "    # This allows the tests to be run when the script is executed.\n",
    "    unittest.main(argv=['ignored'], exit=False)"
   ]
  }
 ],
 "metadata": {
  "kernelspec": {
   "display_name": "Python 3 (ipykernel)",
   "language": "python",
   "name": "python3"
  },
  "language_info": {
   "codemirror_mode": {
    "name": "ipython",
    "version": 3
   },
   "file_extension": ".py",
   "mimetype": "text/x-python",
   "name": "python",
   "nbconvert_exporter": "python",
   "pygments_lexer": "ipython3",
   "version": "3.11.3"
  }
 },
 "nbformat": 4,
 "nbformat_minor": 5
}
