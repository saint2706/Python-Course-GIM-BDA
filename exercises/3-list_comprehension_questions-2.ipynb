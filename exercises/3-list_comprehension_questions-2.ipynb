{
 "cells": [
  {
   "cell_type": "markdown",
   "id": "e0392e88",
   "metadata": {},
   "source": [
    "# List Comprehension Power Drills\n",
    "\n",
    "Sharpen your ability to transform and filter data using expressive one-line loops."
   ]
  },
  {
   "cell_type": "markdown",
   "id": "68e6a540",
   "metadata": {},
   "source": [
    "## How to Use This Notebook\n",
    "\n",
    "- For every prompt, first draft the logic with a traditional loop, then compare it with the comprehension-based answer.\n",
    "- Pay special attention to the additional markdown cells that explain trade-offs and generator alternatives.\n",
    "- Experiment by changing list values—most solutions rely on variables defined within the same cell to encourage tinkering."
   ]
  },
  {
   "cell_type": "markdown",
   "id": "90f612b1",
   "metadata": {},
   "source": [
    "### Loop vs. Comprehension: A Quick Comparison\n",
    "\n",
    "```python\n",
    "# Traditional loop\n",
    "even_numbers = []\n",
    "for number in range(1, 11):\n",
    "    if number % 2 == 0:\n",
    "        even_numbers.append(number)\n",
    "\n",
    "# List comprehension\n",
    "even_numbers = [number for number in range(1, 11) if number % 2 == 0]\n",
    "```\n",
    "\n",
    "Both snippets create the same result, but the comprehension keeps intent close to the filtering condition."
   ]
  },
  {
   "cell_type": "markdown",
   "id": "01e4e0ab",
   "metadata": {},
   "source": [
    "**Q1. How can you create a list of squares of product quantities `[2,3,4,5]` using list comprehension??**"
   ]
  },
  {
   "cell_type": "code",
   "execution_count": null,
   "id": "9a7382d4",
   "metadata": {},
   "outputs": [],
   "source": [
    "# Solution for Q1\n",
    "quantities = [2, 3, 4, 5]\n",
    "squares = [qty ** 2 for qty in quantities]\n",
    "print(squares)"
   ]
  },
  {
   "cell_type": "markdown",
   "id": "d8e02ab7",
   "metadata": {},
   "source": [
    "**Q2. From sales values `[120,250,400,90]`, how can you extract only those greater than 200 using list comprehension??**"
   ]
  },
  {
   "cell_type": "code",
   "execution_count": null,
   "id": "11db950d",
   "metadata": {},
   "outputs": [],
   "source": [
    "# Solution for Q2\n",
    "sales = [120, 250, 400, 90]\n",
    "filtered_sales = [value for value in sales if value > 200]\n",
    "print(filtered_sales)"
   ]
  },
  {
   "cell_type": "markdown",
   "id": "ab63bbfd",
   "metadata": {},
   "source": [
    "**Q3. How can you generate a list of customer emails from names `['Ravi','Meera','John']` by adding `@shop.com` using list comprehension??**"
   ]
  },
  {
   "cell_type": "code",
   "execution_count": null,
   "id": "fab79647",
   "metadata": {},
   "outputs": [],
   "source": [
    "# Solution for Q3\n",
    "names = ['Ravi', 'Meera', 'John']\n",
    "emails = [f\"{name.lower()}@shop.com\" for name in names]\n",
    "print(emails)"
   ]
  },
  {
   "cell_type": "markdown",
   "id": "1539d14a",
   "metadata": {},
   "source": [
    "**Q4. How can you convert product names `['laptop','mouse','printer']` to uppercase using list comprehension??**"
   ]
  },
  {
   "cell_type": "code",
   "execution_count": null,
   "id": "aa367b55",
   "metadata": {},
   "outputs": [],
   "source": [
    "# Solution for Q4\n",
    "products = ['laptop', 'mouse', 'printer']\n",
    "uppercase_products = [product.upper() for product in products]\n",
    "print(uppercase_products)"
   ]
  },
  {
   "cell_type": "markdown",
   "id": "d866014a",
   "metadata": {},
   "source": [
    "**Q5. How can you create a list of even invoice numbers from `[101,102,103,104,105]` using list comprehension??**"
   ]
  },
  {
   "cell_type": "code",
   "execution_count": null,
   "id": "d0a2af80",
   "metadata": {},
   "outputs": [],
   "source": [
    "# Solution for Q5\n",
    "invoice_numbers = [101, 102, 103, 104, 105]\n",
    "even_invoices = [number for number in invoice_numbers if number % 2 == 0]\n",
    "print(even_invoices)"
   ]
  },
  {
   "cell_type": "markdown",
   "id": "1184716b",
   "metadata": {},
   "source": [
    "**Q6. How can you calculate 10% discount on prices `[500,1000,1500]` using list comprehension??**"
   ]
  },
  {
   "cell_type": "code",
   "execution_count": null,
   "id": "d17f1d8c",
   "metadata": {},
   "outputs": [],
   "source": [
    "# Solution for Q6\n",
    "prices = [500, 1000, 1500]\n",
    "discounted_prices = [price * 0.9 for price in prices]\n",
    "print(discounted_prices)"
   ]
  },
  {
   "cell_type": "markdown",
   "id": "fa734704",
   "metadata": {},
   "source": [
    "**Q7. How can you replace negative profit values with 0 in `[1200,-300,800,-150]` using list comprehension??**"
   ]
  },
  {
   "cell_type": "code",
   "execution_count": null,
   "id": "17f88fee",
   "metadata": {},
   "outputs": [],
   "source": [
    "# Solution for Q7\n",
    "profits = [1200, -300, 800, -150]\n",
    "normalized_profits = [profit if profit > 0 else 0 for profit in profits]\n",
    "print(normalized_profits)"
   ]
  },
  {
   "cell_type": "markdown",
   "id": "6f90a89a",
   "metadata": {},
   "source": [
    "**Q8. How can you extract the first letter of each department in `['Finance','HR','Operations']` using list comprehension??**"
   ]
  },
  {
   "cell_type": "code",
   "execution_count": null,
   "id": "c10a7f84",
   "metadata": {},
   "outputs": [],
   "source": [
    "# Solution for Q8\n",
    "departments = ['Finance', 'HR', 'Operations']\n",
    "initials = [department[0] for department in departments]\n",
    "print(initials)"
   ]
  },
  {
   "cell_type": "markdown",
   "id": "5d625def",
   "metadata": {},
   "source": [
    "**Q9. How can you flatten the nested list of orders `[[101,102],[103,104],[105]]` into a single list using list comprehension??**"
   ]
  },
  {
   "cell_type": "code",
   "execution_count": null,
   "id": "d333e49b",
   "metadata": {},
   "outputs": [],
   "source": [
    "# Solution for Q9\n",
    "orders = [[101, 102], [103, 104], [105]]\n",
    "flattened_orders = [order for batch in orders for order in batch]\n",
    "print(flattened_orders)"
   ]
  },
  {
   "cell_type": "markdown",
   "id": "37fb7985",
   "metadata": {},
   "source": [
    "**Q10. How can you generate a list of squares only for even numbers from `[1,2,3,4,5,6]` using list comprehension??**"
   ]
  },
  {
   "cell_type": "code",
   "execution_count": null,
   "id": "a006e615",
   "metadata": {},
   "outputs": [],
   "source": [
    "# Solution for Q10\n",
    "numbers = [1, 2, 3, 4, 5, 6]\n",
    "even_squares = [number ** 2 for number in numbers if number % 2 == 0]\n",
    "print(even_squares)"
   ]
  },
  {
   "cell_type": "markdown",
   "id": "0c83abc0",
   "metadata": {},
   "source": [
    "**Q11. How can you label each sale as 'High' if >200 else 'Low' for `[120,250,90,300]` using list comprehension??**"
   ]
  },
  {
   "cell_type": "code",
   "execution_count": null,
   "id": "2db09b81",
   "metadata": {},
   "outputs": [],
   "source": [
    "# Solution for Q11\n",
    "sales = [120, 250, 90, 300]\n",
    "labels = ['High' if sale > 200 else 'Low' for sale in sales]\n",
    "print(labels)"
   ]
  },
  {
   "cell_type": "markdown",
   "id": "680ec325",
   "metadata": {},
   "source": [
    "**Q12. How can you compute GST (18%) on each bill in `[1000,2000,3000]` using list comprehension??**"
   ]
  },
  {
   "cell_type": "code",
   "execution_count": null,
   "id": "34efc28b",
   "metadata": {},
   "outputs": [],
   "source": [
    "# Solution for Q12\n",
    "bills = [1000, 2000, 3000]\n",
    "gst_amounts = [bill * 0.18 for bill in bills]\n",
    "print(gst_amounts)"
   ]
  },
  {
   "cell_type": "markdown",
   "id": "2e4a2bd2",
   "metadata": {},
   "source": [
    "**Q13. How can you create a list of word lengths from `['data','analytics','python']` using list comprehension??**"
   ]
  },
  {
   "cell_type": "code",
   "execution_count": null,
   "id": "31a83697",
   "metadata": {},
   "outputs": [],
   "source": [
    "# Solution for Q13\n",
    "words = ['data', 'analytics', 'python']\n",
    "lengths = [len(word) for word in words]\n",
    "print(lengths)"
   ]
  },
  {
   "cell_type": "markdown",
   "id": "bafbb5dc",
   "metadata": {},
   "source": [
    "**Q14. How can you filter out all customers whose names start with 'A' from `['Amit','Neha','Arjun','Riya']` using list comprehension??**"
   ]
  },
  {
   "cell_type": "code",
   "execution_count": null,
   "id": "940068bb",
   "metadata": {},
   "outputs": [],
   "source": [
    "# Solution for Q14\n",
    "customers = ['Amit', 'Neha', 'Arjun', 'Riya']\n",
    "filtered_customers = [customer for customer in customers if not customer.startswith('A')]\n",
    "print(filtered_customers)"
   ]
  },
  {
   "cell_type": "markdown",
   "id": "0f354ad2",
   "metadata": {},
   "source": [
    "**Q15. How can you create a list of cubes for numbers `[1,2,3,4]` using list comprehension??**"
   ]
  },
  {
   "cell_type": "code",
   "execution_count": null,
   "id": "9fb97da3",
   "metadata": {},
   "outputs": [],
   "source": [
    "# Solution for Q15\n",
    "numbers = [1, 2, 3, 4]\n",
    "cubes = [number ** 3 for number in numbers]\n",
    "print(cubes)"
   ]
  },
  {
   "cell_type": "markdown",
   "id": "d3ad01ba",
   "metadata": {},
   "source": [
    "**Q16. How can you generate a list of only odd transaction IDs from `[200,201,202,203,204]` using list comprehension??**"
   ]
  },
  {
   "cell_type": "code",
   "execution_count": null,
   "id": "1cc8ead0",
   "metadata": {},
   "outputs": [],
   "source": [
    "# Solution for Q16\n",
    "transaction_ids = [200, 201, 202, 203, 204]\n",
    "odd_transactions = [transaction for transaction in transaction_ids if transaction % 2 != 0]\n",
    "print(odd_transactions)"
   ]
  },
  {
   "cell_type": "markdown",
   "id": "17405615",
   "metadata": {},
   "source": [
    "**Q17. How can you add a prefix 'EMP-' to all employee IDs `[101,102,103]` using list comprehension??**"
   ]
  },
  {
   "cell_type": "code",
   "execution_count": null,
   "id": "21cd764a",
   "metadata": {},
   "outputs": [],
   "source": [
    "# Solution for Q17\n",
    "employee_ids = [101, 102, 103]\n",
    "formatted_ids = [f\"EMP-{emp_id}\" for emp_id in employee_ids]\n",
    "print(formatted_ids)"
   ]
  },
  {
   "cell_type": "markdown",
   "id": "0293fe8c",
   "metadata": {},
   "source": [
    "**Q18. How can you create a list of boolean values checking if sales `[120,200,350]` exceed target 150 using list comprehension??**"
   ]
  },
  {
   "cell_type": "code",
   "execution_count": null,
   "id": "190c36b3",
   "metadata": {},
   "outputs": [],
   "source": [
    "# Solution for Q18\n",
    "sales = [120, 200, 350]\n",
    "status_flags = [sale > 150 for sale in sales]\n",
    "print(status_flags)"
   ]
  },
  {
   "cell_type": "markdown",
   "id": "db3b951b",
   "metadata": {},
   "source": [
    "**Q19. How can you filter out words longer than 5 characters from `['sales','marketing','hr','operations']` using list comprehension??**"
   ]
  },
  {
   "cell_type": "code",
   "execution_count": null,
   "id": "2ce8c8f6",
   "metadata": {},
   "outputs": [],
   "source": [
    "# Solution for Q19\n",
    "words = ['sales', 'marketing', 'hr', 'operations']\n",
    "filtered_words = [word for word in words if len(word) > 5]\n",
    "print(filtered_words)"
   ]
  },
  {
   "cell_type": "markdown",
   "id": "e3549112",
   "metadata": {},
   "source": [
    "**Q20. How can you generate all possible pairs between `[1,2]` and `[3,4]` using list comprehension??**"
   ]
  },
  {
   "cell_type": "code",
   "execution_count": null,
   "id": "2f19e37e",
   "metadata": {},
   "outputs": [],
   "source": [
    "# Solution for Q20\n",
    "first = [1, 2]\n",
    "second = [3, 4]\n",
    "pairs = [(x, y) for x in first for y in second]\n",
    "print(pairs)"
   ]
  },
  {
   "cell_type": "markdown",
   "id": "3d48edc8",
   "metadata": {},
   "source": [
    "### Generator Expression Conversion\n",
    "\n",
    "When you only need to iterate once, swap square brackets for parentheses:\n",
    "\n",
    "```python\n",
    "# Sum only positive balances without storing the list\n",
    "balances = [1200, -200, 450, -50]\n",
    "positive_total = sum(balance for balance in balances if balance > 0)\n",
    "```\n",
    "\n",
    "Generators avoid the intermediate list, saving memory for large datasets."
   ]
  },
  {
   "cell_type": "markdown",
   "id": "18687f49",
   "metadata": {},
   "source": [
    "#### List Comprehension Cheat Sheet\n",
    "\n",
    "| Pattern | Example | Use Case |\n",
    "|---------|---------|----------|\n",
    "| Basic transform | `[x * 2 for x in data]` | Scale numeric values |\n",
    "| Filtered transform | `[x for x in data if condition]` | Keep only qualifying records |\n",
    "| Nested | `[[x+y for y in B] for x in A]` | Matrix-style operations |\n",
    "| Conditional expression | `[x if x > 0 else 0 for x in data]` | Replace values inline |"
   ]
  }
 ],
 "metadata": {
  "kernelspec": {
   "display_name": "Python 3 (ipykernel)",
   "language": "python",
   "name": "python3"
  },
  "language_info": {
   "codemirror_mode": {
    "name": "ipython",
    "version": 3
   },
   "file_extension": ".py",
   "mimetype": "text/x-python",
   "name": "python",
   "nbconvert_exporter": "python",
   "pygments_lexer": "ipython3",
   "version": "3.11.3"
  },
  "title": "List Comprehension Power Drills"
 },
 "nbformat": 4,
 "nbformat_minor": 5
}
