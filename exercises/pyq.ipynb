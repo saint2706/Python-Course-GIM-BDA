{
 "cells": [
  {
   "cell_type": "markdown",
   "id": "9659c83f-95f7-48e8-bb9c-0c18e117d1e0",
   "metadata": {},
   "source": [
    "## Q1"
   ]
  },
  {
   "cell_type": "code",
   "execution_count": 2,
   "id": "3a0cc243-31b6-4b28-a1a9-dcd36a1d0e74",
   "metadata": {},
   "outputs": [
    {
     "name": "stdout",
     "output_type": "stream",
     "text": [
      "Daily sales figures: [1250.5, 1500.0, 980.75, 2100.25, 1850.0, 2500.5, 1100.0]\n",
      "Total Revenue for the week: $11282.00\n"
     ]
    }
   ],
   "source": [
    "# Assume daily sales figures for a week (7 days)\n",
    "daily_sales = [1250.50, 1500.00, 980.75, 2100.25, 1850.00, 2500.50, 1100.00]\n",
    "\n",
    "# Initialise total revenue to 0\n",
    "total_revenue = 0\n",
    "\n",
    "# Use a for loop to calculate the total revenue\n",
    "for sales in daily_sales:\n",
    "    total_revenue = total_revenue + sales\n",
    "    # Shorthand for the line above is: total_revenue += sales\n",
    "\n",
    "print(f\"Daily sales figures: {daily_sales}\")\n",
    "print(f\"Total Revenue for the week: ${total_revenue:.2f}\")\n",
    "\n",
    "# Example Output:\n",
    "# Daily sales figures: [1250.5, 1500.0, 980.75, 2100.25, 1850.0, 2500.5, 1100.0]\n",
    "# Total Revenue for the week: $11282.00"
   ]
  },
  {
   "cell_type": "markdown",
   "id": "fa7a75d4-4437-42c8-bbf5-491c8a8d338b",
   "metadata": {},
   "source": [
    "## Q2"
   ]
  },
  {
   "cell_type": "code",
   "execution_count": 3,
   "id": "0cbadfca-7c00-40c7-b97b-0023fdafd385",
   "metadata": {},
   "outputs": [
    {
     "name": "stdout",
     "output_type": "stream",
     "text": [
      "Total Sales: $7250.50\n",
      "\n",
      "Product Sales Percentage Contribution:\n",
      "- Laptop: $5500.00 -> 75.86%\n",
      "- Monitor: $1200.50 -> 16.56%\n",
      "- Keyboard: $350.25 -> 4.83%\n",
      "- Mouse: $199.75 -> 2.75%\n"
     ]
    }
   ],
   "source": [
    "# Assume sales data as a list of tuples: [(product_name, sales_amount), ...]\n",
    "product_sales = [\n",
    "    (\"Laptop\", 5500.00),\n",
    "    (\"Monitor\", 1200.50),\n",
    "    (\"Keyboard\", 350.25),\n",
    "    (\"Mouse\", 199.75)\n",
    "]\n",
    "\n",
    "# Step 1: Calculate the total sales\n",
    "total_sales = 0\n",
    "for product, sales in product_sales:\n",
    "    total_sales = total_sales + sales\n",
    "\n",
    "print(f\"Total Sales: ${total_sales:.2f}\\n\")\n",
    "print(\"Product Sales Percentage Contribution:\")\n",
    "\n",
    "# Step 2: Calculate and print the percentage for each product\n",
    "for product, sales in product_sales:\n",
    "    # Calculate percentage contribution\n",
    "    percentage = (sales / total_sales) * 100\n",
    "    \n",
    "    # Print the result\n",
    "    print(f\"- {product}: ${sales:.2f} -> {percentage:.2f}%\")\n",
    "\n",
    "# Example Output:\n",
    "# Total Sales: $7250.50\n",
    "#\n",
    "# Product Sales Percentage Contribution:\n",
    "# - Laptop: $5500.00 -> 75.85%\n",
    "# - Monitor: $1200.50 -> 16.56%\n",
    "# - Keyboard: $350.25 -> 4.83%\n",
    "# - Mouse: $199.75 -> 2.75%"
   ]
  },
  {
   "cell_type": "markdown",
   "id": "6cd2b1ca-cad9-492d-b012-45fdb665978a",
   "metadata": {},
   "source": [
    "## Q3"
   ]
  },
  {
   "cell_type": "code",
   "execution_count": 4,
   "id": "c95a315a-73da-4b84-ba15-f69b808dddad",
   "metadata": {},
   "outputs": [
    {
     "name": "stdout",
     "output_type": "stream",
     "text": [
      "The nested list: [['Product1', [4.5, 3.8, 4.7]], ['Product2', [4.1, 3.9, 4.3]]]\n",
      "The second review for 'Product2' is: 3.9\n"
     ]
    }
   ],
   "source": [
    "# The given nested list\n",
    "product_reviews = [['Product1', [4.5, 3.8, 4.7]], ['Product2', [4.1, 3.9, 4.3]]]\n",
    "\n",
    "# To access 'Product2' data:\n",
    "# 1. 'Product2' is the second element in the main list, so index is 1: product_reviews[1]\n",
    "# 2. The list of reviews for 'Product2' is the second element of that inner list, so index is 1: product_reviews[1][1]\n",
    "# 3. The second review in the list [4.1, 3.9, 4.3] is 3.9, so index is 1: product_reviews[1][1][1]\n",
    "\n",
    "second_review_product2 = product_reviews[1][1][1]\n",
    "\n",
    "print(f\"The nested list: {product_reviews}\")\n",
    "print(f\"The second review for 'Product2' is: {second_review_product2}\")\n",
    "\n",
    "# Example Output:\n",
    "# The nested list: [['Product1', [4.5, 3.8, 4.7]], ['Product2', [4.1, 3.9, 4.3]]]\n",
    "# The second review for 'Product2' is: 3.9"
   ]
  },
  {
   "cell_type": "markdown",
   "id": "be5e8208-3681-42b1-993d-5b694488b6c9",
   "metadata": {},
   "source": [
    "## Q4"
   ]
  },
  {
   "cell_type": "code",
   "execution_count": 5,
   "id": "12ea7c83-5efe-4689-a38b-ba496a4f0ccc",
   "metadata": {},
   "outputs": [
    {
     "name": "stdout",
     "output_type": "stream",
     "text": [
      "Welcome to the Number Guessing Game!\n",
      "I've picked a number between 1 and 100. You have 5 attempts.\n",
      "\n",
      "--- Attempt 1 of 5 ---\n"
     ]
    },
    {
     "name": "stdin",
     "output_type": "stream",
     "text": [
      "Enter your guess:  78\n"
     ]
    },
    {
     "name": "stdout",
     "output_type": "stream",
     "text": [
      "Too low! Try a higher number.\n",
      "\n",
      "--- Attempt 2 of 5 ---\n"
     ]
    },
    {
     "name": "stdin",
     "output_type": "stream",
     "text": [
      "Enter your guess:  99\n"
     ]
    },
    {
     "name": "stdout",
     "output_type": "stream",
     "text": [
      "Too high! Try a lower number.\n",
      "\n",
      "--- Attempt 3 of 5 ---\n"
     ]
    },
    {
     "name": "stdin",
     "output_type": "stream",
     "text": [
      "Enter your guess:  85\n"
     ]
    },
    {
     "name": "stdout",
     "output_type": "stream",
     "text": [
      "Too low! Try a higher number.\n",
      "\n",
      "--- Attempt 4 of 5 ---\n"
     ]
    },
    {
     "name": "stdin",
     "output_type": "stream",
     "text": [
      "Enter your guess:  89\n"
     ]
    },
    {
     "name": "stdout",
     "output_type": "stream",
     "text": [
      "Too low! Try a higher number.\n",
      "\n",
      "--- Attempt 5 of 5 ---\n"
     ]
    },
    {
     "name": "stdin",
     "output_type": "stream",
     "text": [
      "Enter your guess:  92\n"
     ]
    },
    {
     "name": "stdout",
     "output_type": "stream",
     "text": [
      "Too low! Try a higher number.\n",
      "\n",
      "Game Over! You ran out of attempts.\n",
      "The secret number was 97.\n"
     ]
    }
   ],
   "source": [
    "import random\n",
    "\n",
    "# 1. Program selects a random number between 1 and 100 (inclusive)\n",
    "secret_number = random.randint(1, 100)\n",
    "max_attempts = 5\n",
    "attempts_left = max_attempts\n",
    "\n",
    "print(\"Welcome to the Number Guessing Game!\")\n",
    "print(f\"I've picked a number between 1 and 100. You have {max_attempts} attempts.\")\n",
    "\n",
    "# Flag to track if the user won\n",
    "won = False\n",
    "\n",
    "# Loop for a fixed number of attempts\n",
    "for attempt in range(1, max_attempts + 1):\n",
    "    print(f\"\\n--- Attempt {attempt} of {max_attempts} ---\")\n",
    "    \n",
    "    # Get user input and handle potential non-integer input\n",
    "    while True:\n",
    "        try:\n",
    "            guess = int(input(\"Enter your guess: \"))\n",
    "            if 1 <= guess <= 100:\n",
    "                break\n",
    "            else:\n",
    "                print(\"Please guess a number between 1 and 100.\")\n",
    "        except ValueError:\n",
    "            print(\"Invalid input. Please enter an integer.\")\n",
    "\n",
    "    # Check the guess and provide feedback\n",
    "    if guess == secret_number:\n",
    "        print(f\"\\n🎉 Congratulations! You guessed the number {secret_number} correctly in {attempt} attempts!\")\n",
    "        won = True\n",
    "        break  # Exit the loop if the guess is correct\n",
    "    elif guess < secret_number:\n",
    "        print(\"Too low! Try a higher number.\")\n",
    "    else: # guess > secret_number\n",
    "        print(\"Too high! Try a lower number.\")\n",
    "\n",
    "# Declare the loser if the loop finishes without a win\n",
    "if not won:\n",
    "    print(f\"\\nGame Over! You ran out of attempts.\")\n",
    "    print(f\"The secret number was {secret_number}.\")"
   ]
  },
  {
   "cell_type": "markdown",
   "id": "8ba085f5-8954-42d3-832b-11322dc3b390",
   "metadata": {},
   "source": [
    "## Q5 A. Outlier Treatment"
   ]
  },
  {
   "cell_type": "code",
   "execution_count": null,
   "id": "ff7604a0-7400-4f6e-8dfc-11ad1c9b31ef",
   "metadata": {},
   "outputs": [
    {
     "name": "stdout",
     "output_type": "stream",
     "text": [
      "\u001b[1;33mJupyter detected\u001b[0m\u001b[1;33m...\u001b[0m\n",
      "\u001b[1;32m2\u001b[0m\u001b[1;32m channel Terms of Service accepted\u001b[0m\n",
      "Retrieving notices: done\n",
      "Channels:\n",
      " - defaults\n",
      "Platform: osx-arm64\n",
      "Collecting package metadata (repodata.json): done\n",
      "Solving environment: done\n",
      "\n",
      "## Package Plan ##\n",
      "\n",
      "  environment location: /opt/miniconda3\n",
      "\n",
      "  added / updated specs:\n",
      "    - numpy\n",
      "    - pandas\n",
      "\n",
      "\n",
      "The following packages will be downloaded:\n",
      "\n",
      "    package                    |            build\n",
      "    ---------------------------|-----------------\n",
      "    bottleneck-1.4.2           |  py313ha35b7ea_0         125 KB\n",
      "    certifi-2025.10.5          |  py313hca03da5_0         157 KB\n",
      "    conda-25.9.1               |  py313hca03da5_0         1.2 MB\n",
      "    numexpr-2.11.0             |  py313hf08b1b5_1         191 KB\n",
      "    numpy-2.3.3                |  py313h4bb6f22_1          10 KB\n",
      "    numpy-base-2.3.3           |  py313h23175f9_1         6.2 MB\n",
      "    openssl-3.0.18             |       h9b4081a_0         3.1 MB\n",
      "    pandas-2.3.3               |  py313h6316d20_0        13.4 MB\n",
      "    ------------------------------------------------------------\n",
      "                                           Total:        24.3 MB\n",
      "\n",
      "The following NEW packages will be INSTALLED:\n",
      "\n",
      "  blas               pkgs/main/osx-arm64::blas-1.0-openblas \n",
      "  bottleneck         pkgs/main/osx-arm64::bottleneck-1.4.2-py313ha35b7ea_0 \n",
      "  libgfortran        pkgs/main/osx-arm64::libgfortran-5.0.0-11_3_0_hca03da5_28 \n",
      "  libgfortran5       pkgs/main/osx-arm64::libgfortran5-11.3.0-h009349e_28 \n",
      "  libopenblas        pkgs/main/osx-arm64::libopenblas-0.3.30-hf2bb037_0 \n",
      "  numexpr            pkgs/main/osx-arm64::numexpr-2.11.0-py313hf08b1b5_1 \n",
      "  numpy              pkgs/main/osx-arm64::numpy-2.3.3-py313h4bb6f22_1 \n",
      "  numpy-base         pkgs/main/osx-arm64::numpy-base-2.3.3-py313h23175f9_1 \n",
      "  pandas             pkgs/main/osx-arm64::pandas-2.3.3-py313h6316d20_0 \n",
      "  python-tzdata      pkgs/main/noarch::python-tzdata-2025.2-pyhd3eb1b0_0 \n",
      "\n",
      "The following packages will be UPDATED:\n",
      "\n",
      "  certifi                          2025.8.3-py313hca03da5_0 --> 2025.10.5-py313hca03da5_0 \n",
      "  conda                              25.7.0-py313hca03da5_0 --> 25.9.1-py313hca03da5_0 \n",
      "  openssl                                 3.0.17-h4ee41c1_0 --> 3.0.18-h9b4081a_0 \n",
      "\n",
      "\n",
      "Proceed ([y]/n)? "
     ]
    }
   ],
   "source": [
    "!conda install pandas numpy"
   ]
  },
  {
   "cell_type": "code",
   "execution_count": null,
   "id": "2ff8e0d8-2ef7-4553-9589-8e72f1c492a8",
   "metadata": {},
   "outputs": [],
   "source": [
    "y"
   ]
  },
  {
   "cell_type": "code",
   "execution_count": null,
   "id": "00345df0-c5d2-41af-8db5-b3ea3a40d975",
   "metadata": {},
   "outputs": [],
   "source": [
    "# Q5 A. Outlier Treatment\n",
    "\n",
    "import pandas as pd\n",
    "import numpy as np\n",
    "\n",
    "# Create a mock DataFrame for demonstration, including some simulated outliers\n",
    "data = {\n",
    "    'Student_ID': range(1, 11),\n",
    "    'Age': [20, 21, 20, 22, 21, 19, 20, 21, 25, 60],  # 60 is an outlier\n",
    "    'Sleep_Duration': [7.5, 6.8, 8.0, 7.2, 7.0, 6.5, 7.8, 7.1, 8.5, 2.0], # 2.0 is an outlier\n",
    "    'Study_Hours': [3.0, 4.5, 2.0, 5.0, 3.5, 2.5, 4.0, 3.8, 10.0, 3.2], # 10.0 is an outlier\n",
    "    'Caffeine_Intake': [1, 2, 0, 3, 1, 2, 1, 0, 5, 20], # 20 is an outlier\n",
    "    'Screen_Time': [4.0, 3.5, 5.0, 3.0, 4.5, 5.5, 4.2, 3.9, 6.0, 7.0],\n",
    "    'Sleep_Quality': [8, 7, 9, 7, 8, 6, 9, 7, 5, 2]\n",
    "}\n",
    "df = pd.DataFrame(data)\n",
    "print(\"Original DataFrame (showing outliers):\\n\", df[['Age', 'Sleep_Duration', 'Study_Hours', 'Caffeine_Intake']].tail(3))\n",
    "\n",
    "\n",
    "# Function to apply IQR-based capping (Winsorizing)\n",
    "def cap_outliers_iqr(series):\n",
    "    Q1 = series.quantile(0.25)\n",
    "    Q3 = series.quantile(0.75)\n",
    "    IQR = Q3 - Q1\n",
    "    lower_bound = Q1 - 1.5 * IQR\n",
    "    upper_bound = Q3 + 1.5 * IQR\n",
    "    # Replace values below lower_bound with lower_bound, and above upper_bound with upper_bound\n",
    "    return np.where(series < lower_bound, lower_bound, np.where(series > upper_bound, upper_bound, series))\n",
    "\n",
    "# Columns to treat\n",
    "outlier_cols = ['Age', 'Sleep_Duration', 'Study_Hours', 'Caffeine_Intake']\n",
    "df_treated = df.copy()\n",
    "\n",
    "print(\"\\n--- Outlier Treatment (Capping) Results ---\")\n",
    "\n",
    "for col in outlier_cols:\n",
    "    original_mean = df[col].mean()\n",
    "    df_treated[col] = cap_outliers_iqr(df[col])\n",
    "    treated_mean = df_treated[col].mean()\n",
    "    \n",
    "    # Identify how many values were capped (simplistic check)\n",
    "    capped_count = (df[col] != df_treated[col]).sum()\n",
    "    \n",
    "    print(f\"\\n{col}:\")\n",
    "    print(f\"  - Capped values: {capped_count}\")\n",
    "    print(f\"  - Original Mean: {original_mean:.2f}\")\n",
    "    print(f\"  - Treated Mean: {treated_mean:.2f}\")\n",
    "\n",
    "# Display the treated values where outliers were present (last 3 rows of mock data)\n",
    "print(\"\\nAge, Sleep_Duration, Study_Hours, and Caffeine_Intake after Capping:\")\n",
    "print(df_treated[['Age', 'Sleep_Duration', 'Study_Hours', 'Caffeine_Intake']].tail(3))"
   ]
  },
  {
   "cell_type": "code",
   "execution_count": null,
   "id": "cb27b61f-1d1b-4e1f-bbcf-9c7d6549c117",
   "metadata": {},
   "outputs": [],
   "source": [
    "# Q5 B. Missing Value Treatment\n",
    "\n",
    "# Add some NaN values to the mock DataFrame\n",
    "df_missing = df.copy()\n",
    "# Assume missing data in 'Gender' (Categorical) and 'Physical_Activity' (Numerical)\n",
    "df_missing['Gender'] = ['Male', 'Female', np.nan, 'Male', 'Female', 'Other', 'Male', 'Female', 'Male', np.nan]\n",
    "df_missing['Physical_Activity'] = [30, 45, 60, 20, 35, np.nan, 50, 40, np.nan, 25] # 2 missing values\n",
    "\n",
    "# 1. Identify missing values\n",
    "print(\"--- Missing Value Check Before Treatment ---\")\n",
    "print(df_missing[['Gender', 'Physical_Activity']].isnull().sum())\n",
    "\n",
    "\n",
    "# Step 1: Treatment for 'Gender' (Categorical Data) - Impute with Mode\n",
    "print(\"\\n--- Treatment for Gender (Mode Imputation) ---\")\n",
    "gender_mode = df_missing['Gender'].mode()[0] # [0] handles case of multiple modes\n",
    "df_missing['Gender'].fillna(gender_mode, inplace=True)\n",
    "print(f\"Mode of Gender: {gender_mode}\")\n",
    "\n",
    "# Step 2: Treatment for 'Physical_Activity' (Numerical Data) - Impute with Median\n",
    "print(\"\\n--- Treatment for Physical_Activity (Median Imputation) ---\")\n",
    "physical_activity_median = df_missing['Physical_Activity'].median()\n",
    "df_missing['Physical_Activity'].fillna(physical_activity_median, inplace=True)\n",
    "print(f\"Median of Physical_Activity: {physical_activity_median:.1f} minutes\")\n",
    "\n",
    "# 3. Verify treatment\n",
    "print(\"\\n--- Missing Value Check After Treatment ---\")\n",
    "print(df_missing[['Gender', 'Physical_Activity']].isnull().sum())\n",
    "print(\"\\nExample of Treated Data (rows 3 and 10 of mock data):\")\n",
    "print(df_missing[['Gender', 'Physical_Activity']].iloc[[2, 9]])"
   ]
  },
  {
   "cell_type": "code",
   "execution_count": null,
   "id": "49986ddf-77eb-42c0-aa01-286559af6183",
   "metadata": {},
   "outputs": [],
   "source": [
    "# Q5 C. Duplicates and Irrelevant Data Treatment\n",
    "\n",
    "# Create a DataFrame with a duplicate row and the irrelevant Student_ID\n",
    "data_c = {\n",
    "    'Student_ID': [101, 102, 103, 104, 102], # 102 is repeated\n",
    "    'Age': [20, 21, 22, 21, 21], \n",
    "    'Sleep_Duration': [7.0, 7.5, 6.5, 7.5, 7.5],\n",
    "    'Study_Hours': [3.0, 4.0, 2.0, 4.0, 4.0],\n",
    "}\n",
    "df_c = pd.DataFrame(data_c)\n",
    "print(\"Original DataFrame (5 rows, 1 duplicate):\\n\", df_c)\n",
    "\n",
    "\n",
    "# 1. Treatment of Duplicates\n",
    "# Identify rows that are duplicates based on all columns (excluding the unique ID)\n",
    "print(\"\\nNumber of duplicate rows found (excluding Student_ID):\", \n",
    "      df_c.duplicated(subset=['Age', 'Sleep_Duration', 'Study_Hours']).sum())\n",
    "\n",
    "# Drop the duplicate row\n",
    "df_c_treated = df_c.drop_duplicates(subset=['Age', 'Sleep_Duration', 'Study_Hours'])\n",
    "print(\"\\nDataFrame after dropping duplicates (4 rows):\\n\", df_c_treated)\n",
    "\n",
    "\n",
    "# 2. Treatment of Irrelevant Data (Student_ID)\n",
    "# The Student_ID is irrelevant for analytics purposes\n",
    "df_c_treated.drop('Student_ID', axis=1, inplace=True)\n",
    "print(\"\\nDataFrame after dropping irrelevant 'Student_ID' column:\\n\", df_c_treated)"
   ]
  },
  {
   "cell_type": "code",
   "execution_count": null,
   "id": "8f01f451-71ed-41b3-aff7-97388e81028c",
   "metadata": {},
   "outputs": [],
   "source": [
    "# Q5 D. Analysis of Screen Time, Sleep Quality, and Sleep Duration\n",
    "\n",
    "# Using the mock DataFrame (df_missing) from Q5 B (assuming Q5 A/B treatments are applied)\n",
    "# We focus on 'Screen_Time', 'Sleep_Quality', and 'Sleep_Duration'\n",
    "\n",
    "# Calculate the Pearson correlation coefficient between the variables\n",
    "correlation_matrix = df_missing[['Screen_Time', 'Sleep_Quality', 'Sleep_Duration']].corr()\n",
    "\n",
    "print(\"--- Pearson Correlation Matrix ---\")\n",
    "print(correlation_matrix)\n",
    "print(\"\\n\")\n",
    "\n",
    "# Extract the specific correlations\n",
    "corr_quality = correlation_matrix.loc['Screen_Time', 'Sleep_Quality']\n",
    "corr_duration = correlation_matrix.loc['Screen_Time', 'Sleep_Duration']\n",
    "\n",
    "print(f\"Correlation between Screen_Time and Sleep_Quality: {corr_quality:.2f}\")\n",
    "print(f\"Correlation between Screen_Time and Sleep_Duration: {corr_duration:.2f}\")"
   ]
  },
  {
   "cell_type": "code",
   "execution_count": null,
   "id": "dd887702-1a6b-4f15-8923-587203390886",
   "metadata": {},
   "outputs": [],
   "source": []
  }
 ],
 "metadata": {
  "kernelspec": {
   "display_name": "Python 3 (ipykernel)",
   "language": "python",
   "name": "python3"
  },
  "language_info": {
   "codemirror_mode": {
    "name": "ipython",
    "version": 3
   },
   "file_extension": ".py",
   "mimetype": "text/x-python",
   "name": "python",
   "nbconvert_exporter": "python",
   "pygments_lexer": "ipython3",
   "version": "3.13.5"
  }
 },
 "nbformat": 4,
 "nbformat_minor": 5
}
