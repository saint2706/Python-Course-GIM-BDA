{
 "cells": [
  {
   "cell_type": "markdown",
   "id": "a08f5cf1",
   "metadata": {},
   "source": [
    "## All the questions here are basics : variables , operations and lists"
   ]
  },
  {
   "cell_type": "markdown",
   "id": "266c6205",
   "metadata": {},
   "source": [
    "**Q1. How can you calculate the total cost if a product price is 250 and shipping charge is 40??**"
   ]
  },
  {
   "cell_type": "code",
   "execution_count": null,
   "id": "e5a1016f",
   "metadata": {},
   "outputs": [],
   "source": []
  },
  {
   "cell_type": "markdown",
   "id": "8826656a",
   "metadata": {},
   "source": [
    "**Q2. How can you find the remainder when total sales 1234 are divided equally among 12 salespeople??**"
   ]
  },
  {
   "cell_type": "code",
   "execution_count": null,
   "id": "3c899f27",
   "metadata": {},
   "outputs": [],
   "source": []
  },
  {
   "cell_type": "markdown",
   "id": "1d30e340",
   "metadata": {},
   "source": [
    "**Q3. What is the Python expression to calculate 7 raised to the power of 4 for forecasting growth??**"
   ]
  },
  {
   "cell_type": "code",
   "execution_count": null,
   "id": "eff25f79",
   "metadata": {},
   "outputs": [],
   "source": []
  },
  {
   "cell_type": "markdown",
   "id": "2f12aff7",
   "metadata": {},
   "source": [
    "**Q4. How can you check if two budgets `budget1=50000` and `budget2=75000` are equal??**"
   ]
  },
  {
   "cell_type": "code",
   "execution_count": null,
   "id": "5af3bd6b",
   "metadata": {},
   "outputs": [],
   "source": []
  },
  {
   "cell_type": "markdown",
   "id": "ba046ea2",
   "metadata": {},
   "source": [
    "**Q5. How can you find the maximum revenue between two branches with revenues 85000 and 92000??**"
   ]
  },
  {
   "cell_type": "code",
   "execution_count": null,
   "id": "a6bf1542",
   "metadata": {},
   "outputs": [],
   "source": []
  },
  {
   "cell_type": "markdown",
   "id": "e867220e",
   "metadata": {},
   "source": [
    "**Q6. How can you check if a stock quantity 360 is divisible by carton size 12??**"
   ]
  },
  {
   "cell_type": "code",
   "execution_count": null,
   "id": "fcb04603",
   "metadata": {},
   "outputs": [],
   "source": []
  },
  {
   "cell_type": "markdown",
   "id": "d7f27be5",
   "metadata": {},
   "source": [
    "**Q7. How can you round the monthly expense 4578.678 to the nearest integer??**"
   ]
  },
  {
   "cell_type": "code",
   "execution_count": null,
   "id": "9deb4ab2",
   "metadata": {},
   "outputs": [],
   "source": []
  },
  {
   "cell_type": "markdown",
   "id": "ab149296",
   "metadata": {},
   "source": [
    "**Q8. How can you compute the average customer rating from `[4.2, 3.8, 4.5, 4.0]`??**"
   ]
  },
  {
   "cell_type": "code",
   "execution_count": null,
   "id": "0ea24e80",
   "metadata": {},
   "outputs": [],
   "source": []
  },
  {
   "cell_type": "markdown",
   "id": "7f7af5cf",
   "metadata": {},
   "source": [
    "**Q9. How can you swap values of two department budgets `deptA=120000` and `deptB=80000`??**"
   ]
  },
  {
   "cell_type": "code",
   "execution_count": null,
   "id": "05650a8b",
   "metadata": {},
   "outputs": [],
   "source": []
  },
  {
   "cell_type": "markdown",
   "id": "85c83dad",
   "metadata": {},
   "source": [
    "**Q10. How can you check the data type of `invoice_id='INV1023'`??**"
   ]
  },
  {
   "cell_type": "code",
   "execution_count": null,
   "id": "43f1a6da",
   "metadata": {},
   "outputs": [],
   "source": []
  },
  {
   "cell_type": "markdown",
   "id": "0d1b9616",
   "metadata": {},
   "source": [
    "**Q11. Given the list of clients `clients=['Tata','Infosys','Reliance','Adani']`, how can you access the second element??**"
   ]
  },
  {
   "cell_type": "code",
   "execution_count": null,
   "id": "8d1e2d49",
   "metadata": {},
   "outputs": [],
   "source": []
  },
  {
   "cell_type": "markdown",
   "id": "509d9e41",
   "metadata": {},
   "source": [
    "**Q12. How can you get the last order from the list `orders=['ORD1','ORD2','ORD3','ORD4']` using negative indexing??**"
   ]
  },
  {
   "cell_type": "code",
   "execution_count": null,
   "id": "4b326513",
   "metadata": {},
   "outputs": [],
   "source": []
  },
  {
   "cell_type": "markdown",
   "id": "42575789",
   "metadata": {},
   "source": [
    "**Q13. How can you retrieve items from index 2 to 4 in the list `inventory=[100,200,300,400,500]`??**"
   ]
  },
  {
   "cell_type": "code",
   "execution_count": null,
   "id": "a72f418e",
   "metadata": {},
   "outputs": [],
   "source": []
  },
  {
   "cell_type": "markdown",
   "id": "dbf5c257",
   "metadata": {},
   "source": [
    "**Q14. How can you update the third element in `departments=['HR','Finance','Sales']` to 'Marketing'??**"
   ]
  },
  {
   "cell_type": "code",
   "execution_count": null,
   "id": "a50dbe0b",
   "metadata": {},
   "outputs": [],
   "source": []
  },
  {
   "cell_type": "markdown",
   "id": "da187173",
   "metadata": {},
   "source": [
    "**Q15. How can you add a new product 'Laptop' to the list `products=['Mouse','Keyboard']`??**"
   ]
  },
  {
   "cell_type": "code",
   "execution_count": null,
   "id": "e0865e9b",
   "metadata": {},
   "outputs": [],
   "source": []
  },
  {
   "cell_type": "markdown",
   "id": "b170c23a",
   "metadata": {},
   "source": [
    "**Q16. How can you remove 'Keyboard' from `products=['Mouse','Keyboard','Monitor']`??**"
   ]
  },
  {
   "cell_type": "code",
   "execution_count": null,
   "id": "889d33e8",
   "metadata": {},
   "outputs": [],
   "source": []
  },
  {
   "cell_type": "markdown",
   "id": "96b218cb",
   "metadata": {},
   "source": [
    "**Q17. How can you calculate the number of employees in the list `employees=['John','Priya','Ali','Meera']`??**"
   ]
  },
  {
   "cell_type": "code",
   "execution_count": null,
   "id": "f488b9be",
   "metadata": {},
   "outputs": [],
   "source": []
  },
  {
   "cell_type": "markdown",
   "id": "43ced13c",
   "metadata": {},
   "source": [
    "**Q18. How can you reverse the order of `transactions=[1000,2000,3000,4000]`??**"
   ]
  },
  {
   "cell_type": "code",
   "execution_count": null,
   "id": "7cc70487",
   "metadata": {},
   "outputs": [],
   "source": []
  },
  {
   "cell_type": "markdown",
   "id": "1742fa4c",
   "metadata": {},
   "source": [
    "**Q19. How can you check if 'Infosys' exists in the list `clients=['Tata','Infosys','Reliance']`??**"
   ]
  },
  {
   "cell_type": "code",
   "execution_count": null,
   "id": "148ab5e4",
   "metadata": {},
   "outputs": [],
   "source": []
  },
  {
   "cell_type": "markdown",
   "id": "baae9a95",
   "metadata": {},
   "source": [
    "**Q20. How can you generate a list of invoice numbers from 101 to 110 using `range`??**"
   ]
  },
  {
   "cell_type": "code",
   "execution_count": null,
   "id": "1c86d489",
   "metadata": {},
   "outputs": [],
   "source": []
  },
  {
   "cell_type": "markdown",
   "id": "a6d04b1a",
   "metadata": {},
   "source": [
    "**Q21. How can you create a dictionary for a supplier with keys 'name','location' and values 'ABC Ltd','Mumbai'??**"
   ]
  },
  {
   "cell_type": "code",
   "execution_count": null,
   "id": "11e41876",
   "metadata": {},
   "outputs": [],
   "source": []
  },
  {
   "cell_type": "markdown",
   "id": "81f1cb7c",
   "metadata": {},
   "source": [
    "**Q22. How can you access the 'location' value from dictionary `supplier={'name':'ABC Ltd','location':'Mumbai'}`??**"
   ]
  },
  {
   "cell_type": "code",
   "execution_count": null,
   "id": "c146a7b4",
   "metadata": {},
   "outputs": [],
   "source": []
  },
  {
   "cell_type": "markdown",
   "id": "d8571b1e",
   "metadata": {},
   "source": [
    "**Q23. How can you add a new key 'rating' with value 4.5 in dictionary `supplier={'name':'ABC Ltd','location':'Mumbai'}`??**"
   ]
  },
  {
   "cell_type": "code",
   "execution_count": null,
   "id": "be888da7",
   "metadata": {},
   "outputs": [],
   "source": []
  },
  {
   "cell_type": "markdown",
   "id": "210029db",
   "metadata": {},
   "source": [
    "**Q24. How can you update the value of 'location' to 'Delhi' in dictionary `supplier={'name':'ABC Ltd','location':'Mumbai'}`??**"
   ]
  },
  {
   "cell_type": "code",
   "execution_count": null,
   "id": "5e53b58f",
   "metadata": {},
   "outputs": [],
   "source": []
  },
  {
   "cell_type": "markdown",
   "id": "8e89c8e8",
   "metadata": {},
   "source": [
    "**Q25. How can you remove the key 'location' from dictionary `supplier={'name':'ABC Ltd','location':'Mumbai'}`??**"
   ]
  },
  {
   "cell_type": "code",
   "execution_count": null,
   "id": "7ec02528",
   "metadata": {},
   "outputs": [],
   "source": []
  },
  {
   "cell_type": "markdown",
   "id": "513c584f",
   "metadata": {},
   "source": [
    "**Q26. How can you get all the keys from dictionary `supplier={'name':'ABC Ltd','location':'Mumbai'}`??**"
   ]
  },
  {
   "cell_type": "code",
   "execution_count": null,
   "id": "7fe93f46",
   "metadata": {},
   "outputs": [],
   "source": []
  },
  {
   "cell_type": "markdown",
   "id": "5f2a356e",
   "metadata": {},
   "source": [
    "**Q27. How can you get all the values from dictionary `supplier={'name':'ABC Ltd','location':'Mumbai'}`??**"
   ]
  },
  {
   "cell_type": "code",
   "execution_count": null,
   "id": "7362b079",
   "metadata": {},
   "outputs": [],
   "source": []
  },
  {
   "cell_type": "markdown",
   "id": "e0e93310",
   "metadata": {},
   "source": [
    "**Q28. How can you check if key 'rating' exists in dictionary `supplier={'name':'ABC Ltd','location':'Mumbai'}`??**"
   ]
  },
  {
   "cell_type": "code",
   "execution_count": null,
   "id": "2043f53c",
   "metadata": {},
   "outputs": [],
   "source": []
  },
  {
   "cell_type": "markdown",
   "id": "35f12da2",
   "metadata": {},
   "source": [
    "**Q29. How can you loop through both keys and values of dictionary `supplier={'name':'ABC Ltd','location':'Mumbai'}`??**"
   ]
  },
  {
   "cell_type": "code",
   "execution_count": null,
   "id": "fd352968",
   "metadata": {},
   "outputs": [],
   "source": []
  },
  {
   "cell_type": "markdown",
   "id": "c779ba78",
   "metadata": {},
   "source": [
    "**Q30. How can you create a dictionary mapping product codes `['P01','P02']` to stock counts `[150,300]`??**"
   ]
  },
  {
   "cell_type": "code",
   "execution_count": null,
   "id": "88d15373",
   "metadata": {},
   "outputs": [],
   "source": []
  }
 ],
 "metadata": {
  "kernelspec": {
   "display_name": "Python 3 (ipykernel)",
   "language": "python",
   "name": "python3"
  },
  "language_info": {
   "codemirror_mode": {
    "name": "ipython",
    "version": 3
   },
   "file_extension": ".py",
   "mimetype": "text/x-python",
   "name": "python",
   "nbconvert_exporter": "python",
   "pygments_lexer": "ipython3",
   "version": "3.11.3"
  }
 },
 "nbformat": 4,
 "nbformat_minor": 5
}
