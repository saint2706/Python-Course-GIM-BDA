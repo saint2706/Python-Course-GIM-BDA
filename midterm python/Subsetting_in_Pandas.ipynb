{
 "cells": [
  {
   "cell_type": "markdown",
   "id": "52052b2c",
   "metadata": {},
   "source": [
    "# Subsetting in Pandas\n",
    "\n",
    "## Prof. Dnyanesh Khedekar\n",
    "This notebook helps you master subsetting (selecting and filtering data) using the `customer_data.csv` dataset created earlier."
   ]
  },
  {
   "cell_type": "markdown",
   "id": "cb6c0f89",
   "metadata": {},
   "source": [
    "## Step 1. Load the Dataset\n",
    "We'll use the CSV created previously to explore subsetting techniques."
   ]
  },
  {
   "cell_type": "code",
   "execution_count": null,
   "id": "f22a5d89",
   "metadata": {},
   "outputs": [],
   "source": [
    "import pandas as pd\n",
    "df = pd.read_csv('customer_data.csv')\n",
    "df.head()"
   ]
  },
  {
   "cell_type": "markdown",
   "id": "6a094f5d",
   "metadata": {},
   "source": [
    "## 1️⃣ Select specific columns\n",
    "Show only the `Customer_ID`, `Age`, and `Region` columns."
   ]
  },
  {
   "cell_type": "code",
   "execution_count": null,
   "id": "e864789b",
   "metadata": {},
   "outputs": [],
   "source": [
    "df[['Customer_ID', 'Age', 'Region']].head()"
   ]
  },
  {
   "cell_type": "markdown",
   "id": "4cb89897",
   "metadata": {},
   "source": [
    "## 2️⃣ Filter rows based on one condition\n",
    "Display all customers whose **Age is greater than 40**."
   ]
  },
  {
   "cell_type": "code",
   "execution_count": null,
   "id": "0f6ff7f1",
   "metadata": {},
   "outputs": [],
   "source": [
    "df[df['Age'] > 40].head()"
   ]
  },
  {
   "cell_type": "markdown",
   "id": "a646558c",
   "metadata": {},
   "source": [
    "## 3️⃣ Filter rows based on multiple conditions\n",
    "Find customers from the **South region** whose **Income exceeds ₹50,000**."
   ]
  },
  {
   "cell_type": "code",
   "execution_count": null,
   "id": "7033a067",
   "metadata": {},
   "outputs": [],
   "source": [
    "df[(df['Region'] == 'South') & (df['Income'] > 50000)].head()"
   ]
  },
  {
   "cell_type": "markdown",
   "id": "e15160ca",
   "metadata": {},
   "source": [
    "## 4️⃣ Subset with `isin()`\n",
    "Retrieve records of customers from either the **North** or **West** regions."
   ]
  },
  {
   "cell_type": "code",
   "execution_count": null,
   "id": "ae91c6ea",
   "metadata": {},
   "outputs": [],
   "source": [
    "df[df['Region'].isin(['North', 'West'])].head()"
   ]
  },
  {
   "cell_type": "markdown",
   "id": "9c1faf33",
   "metadata": {},
   "source": [
    "## 5️⃣ Subset using string matching\n",
    "Find all customers whose **Region name starts with “E”** (like “East”)."
   ]
  },
  {
   "cell_type": "code",
   "execution_count": null,
   "id": "9e22f5b6",
   "metadata": {},
   "outputs": [],
   "source": [
    "df[df['Region'].str.startswith('E', na=False)].head()"
   ]
  },
  {
   "cell_type": "markdown",
   "id": "143a0028",
   "metadata": {},
   "source": [
    "## 6️⃣ Filter using `query()` method\n",
    "Get customers where **Gender is 'Female' and Age < 30** using the query interface."
   ]
  },
  {
   "cell_type": "code",
   "execution_count": null,
   "id": "232ea392",
   "metadata": {},
   "outputs": [],
   "source": [
    "df.query(\"Gender == 'Female' and Age < 30\").head()"
   ]
  },
  {
   "cell_type": "markdown",
   "id": "c978f10b",
   "metadata": {},
   "source": [
    "## 7️⃣ Subset using index ranges\n",
    "Display rows from index **50 to 60**."
   ]
  },
  {
   "cell_type": "code",
   "execution_count": null,
   "id": "09d2960d",
   "metadata": {},
   "outputs": [],
   "source": [
    "df.iloc[50:61]"
   ]
  },
  {
   "cell_type": "markdown",
   "id": "a1370fc9",
   "metadata": {},
   "source": [
    "## 8️⃣ Select rows with missing values\n",
    "Show all/head rows where **Income is missing (NaN)**."
   ]
  },
  {
   "cell_type": "code",
   "execution_count": null,
   "id": "2576c88d",
   "metadata": {},
   "outputs": [],
   "source": [
    "df[df['Income'].isna()].head()"
   ]
  },
  {
   "cell_type": "markdown",
   "id": "637cf52a",
   "metadata": {},
   "source": [
    "## 9️⃣ Conditional column creation + subsetting\n",
    "Create a new column `High_Spending` = True if `Purchase_Amount > 3000`, then show only those rows."
   ]
  },
  {
   "cell_type": "code",
   "execution_count": null,
   "id": "5b71ec3a",
   "metadata": {},
   "outputs": [],
   "source": [
    "df['High_Spending'] = df['Purchase_Amount'] > 3000\n",
    "df[df['High_Spending']].head()"
   ]
  },
  {
   "cell_type": "markdown",
   "id": "6064cf7a",
   "metadata": {},
   "source": [
    "## 🔟 Combine filtering and sorting\n",
    "Get top 5 customers (by **Income**) from the **East region** who are older than **35**."
   ]
  },
  {
   "cell_type": "code",
   "execution_count": null,
   "id": "d4088945",
   "metadata": {},
   "outputs": [],
   "source": [
    "df[(df['Region'] == 'East') & (df['Age'] > 35)].sort_values('Income', ascending=False).head(5)"
   ]
  },
  {
   "cell_type": "markdown",
   "id": "19119453",
   "metadata": {},
   "source": [
    "Great Job!"
   ]
  }
 ],
 "metadata": {
  "kernelspec": {
   "display_name": "Python 3 (ipykernel)",
   "language": "python",
   "name": "python3"
  },
  "language_info": {
   "codemirror_mode": {
    "name": "ipython",
    "version": 3
   },
   "file_extension": ".py",
   "mimetype": "text/x-python",
   "name": "python",
   "nbconvert_exporter": "python",
   "pygments_lexer": "ipython3",
   "version": "3.11.3"
  }
 },
 "nbformat": 4,
 "nbformat_minor": 5
}
