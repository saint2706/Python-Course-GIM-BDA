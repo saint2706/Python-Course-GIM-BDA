{
 "cells": [
  {
   "cell_type": "markdown",
   "id": "9cb7cb19",
   "metadata": {
    "id": "9cb7cb19"
   },
   "source": [
    "**Q1. Write a function `greet_customer(name)` that returns a greeting string like `Welcome, <name>!` ??**"
   ]
  },
  {
   "cell_type": "code",
   "execution_count": 2,
   "id": "ebd7263b",
   "metadata": {
    "colab": {
     "base_uri": "https://localhost:8080/",
     "height": 35
    },
    "executionInfo": {
     "elapsed": 14,
     "status": "ok",
     "timestamp": 1761399608888,
     "user": {
      "displayName": "Anmol Agarwal",
      "userId": "08013987210768969151"
     },
     "user_tz": -330
    },
    "id": "ebd7263b",
    "outputId": "667b24e3-8437-4747-eb0f-026c4048b5b7"
   },
   "outputs": [
    {
     "data": {
      "application/vnd.google.colaboratory.intrinsic+json": {
       "type": "string"
      },
      "text/plain": [
       "'Welcome, Anmol!'"
      ]
     },
     "execution_count": 2,
     "metadata": {},
     "output_type": "execute_result"
    }
   ],
   "source": [
    "def greet_customer(name):\n",
    "    return f\"Welcome, {name}!\"\n",
    "greet_customer(\"Anmol\")"
   ]
  },
  {
   "cell_type": "markdown",
   "id": "b11cf69c",
   "metadata": {
    "id": "b11cf69c"
   },
   "source": [
    "**Q2. Write a function `total_cost(price, qty)` that returns `price * qty` for an order amount??**"
   ]
  },
  {
   "cell_type": "code",
   "execution_count": 3,
   "id": "3c7bd37a",
   "metadata": {
    "colab": {
     "base_uri": "https://localhost:8080/"
    },
    "executionInfo": {
     "elapsed": 14,
     "status": "ok",
     "timestamp": 1761399781826,
     "user": {
      "displayName": "Anmol Agarwal",
      "userId": "08013987210768969151"
     },
     "user_tz": -330
    },
    "id": "3c7bd37a",
    "outputId": "76675493-e543-4cca-cc78-2ff58e6ba20c"
   },
   "outputs": [
    {
     "data": {
      "text/plain": [
       "200"
      ]
     },
     "execution_count": 3,
     "metadata": {},
     "output_type": "execute_result"
    }
   ],
   "source": [
    "def total_cost(price, qty):\n",
    "    return price * qty\n",
    "total_cost(100, 2)"
   ]
  },
  {
   "cell_type": "markdown",
   "id": "f28f9835",
   "metadata": {
    "id": "f28f9835"
   },
   "source": [
    "**Q3. Write a function `apply_gst(amount, rate=0.18)` that returns the amount including GST using a default rate if not provided??**"
   ]
  },
  {
   "cell_type": "code",
   "execution_count": 4,
   "id": "6da1bc15",
   "metadata": {
    "colab": {
     "base_uri": "https://localhost:8080/"
    },
    "executionInfo": {
     "elapsed": 13,
     "status": "ok",
     "timestamp": 1761399804727,
     "user": {
      "displayName": "Anmol Agarwal",
      "userId": "08013987210768969151"
     },
     "user_tz": -330
    },
    "id": "6da1bc15",
    "outputId": "b35b6254-89c1-4311-904c-f88de3414647"
   },
   "outputs": [
    {
     "data": {
      "text/plain": [
       "118.0"
      ]
     },
     "execution_count": 4,
     "metadata": {},
     "output_type": "execute_result"
    }
   ],
   "source": [
    "def apply_gst(amount, rate=0.18):\n",
    "    return amount * (1 + rate)\n",
    "apply_gst(100)"
   ]
  },
  {
   "cell_type": "markdown",
   "id": "243ff6b6",
   "metadata": {
    "id": "243ff6b6"
   },
   "source": [
    "**Q4. Write a function `is_target_met(sales, target)` that returns True if sales >= target, else False??**"
   ]
  },
  {
   "cell_type": "code",
   "execution_count": 10,
   "id": "681b2b1a",
   "metadata": {
    "colab": {
     "base_uri": "https://localhost:8080/"
    },
    "executionInfo": {
     "elapsed": 3119,
     "status": "ok",
     "timestamp": 1761399946539,
     "user": {
      "displayName": "Anmol Agarwal",
      "userId": "08013987210768969151"
     },
     "user_tz": -330
    },
    "id": "681b2b1a",
    "outputId": "1a863873-0133-4c37-ac31-171235a7708b"
   },
   "outputs": [
    {
     "name": "stdout",
     "output_type": "stream",
     "text": [
      "5\n",
      "20\n"
     ]
    },
    {
     "data": {
      "text/plain": [
       "False"
      ]
     },
     "execution_count": 10,
     "metadata": {},
     "output_type": "execute_result"
    }
   ],
   "source": [
    "def is_target_met(sales, target):\n",
    "    return sales >= target\n",
    "\n",
    "sales = input()\n",
    "target = input()\n",
    "is_target_met(int(sales), int(target))"
   ]
  },
  {
   "cell_type": "markdown",
   "id": "ace3479b",
   "metadata": {
    "id": "ace3479b"
   },
   "source": [
    "**Q5. Write a function `full_email(first, last, domain='company.com')` that builds `<first>.<last>@<domain>` in lowercase??**"
   ]
  },
  {
   "cell_type": "code",
   "execution_count": 11,
   "id": "4b151be8",
   "metadata": {
    "colab": {
     "base_uri": "https://localhost:8080/",
     "height": 35
    },
    "executionInfo": {
     "elapsed": 20,
     "status": "ok",
     "timestamp": 1761399995977,
     "user": {
      "displayName": "Anmol Agarwal",
      "userId": "08013987210768969151"
     },
     "user_tz": -330
    },
    "id": "4b151be8",
    "outputId": "bb62309d-3eaa-4eae-ff13-8a77fa6b91c7"
   },
   "outputs": [
    {
     "data": {
      "application/vnd.google.colaboratory.intrinsic+json": {
       "type": "string"
      },
      "text/plain": [
       "'anmol.kumar@company.com'"
      ]
     },
     "execution_count": 11,
     "metadata": {},
     "output_type": "execute_result"
    }
   ],
   "source": [
    "def full_email(first, last, domain='company.com'):\n",
    "    return f\"{first.lower()}.{last.lower()}@{domain}\"\n",
    "full_email(\"Anmol\", \"Kumar\")"
   ]
  },
  {
   "cell_type": "markdown",
   "id": "692e0e85",
   "metadata": {
    "id": "692e0e85"
   },
   "source": [
    "**Q6. Write a function `avg_rating(*ratings)` that returns the average of any number of numeric ratings??**"
   ]
  },
  {
   "cell_type": "code",
   "execution_count": 18,
   "id": "eceb33e7",
   "metadata": {
    "colab": {
     "base_uri": "https://localhost:8080/"
    },
    "executionInfo": {
     "elapsed": 12,
     "status": "ok",
     "timestamp": 1761400393706,
     "user": {
      "displayName": "Anmol Agarwal",
      "userId": "08013987210768969151"
     },
     "user_tz": -330
    },
    "id": "eceb33e7",
    "outputId": "d36a1776-a332-40a6-9741-4a45b4000392"
   },
   "outputs": [
    {
     "data": {
      "text/plain": [
       "3.0"
      ]
     },
     "execution_count": 18,
     "metadata": {},
     "output_type": "execute_result"
    }
   ],
   "source": [
    "def avg_rating(*ratings):\n",
    "    return sum(ratings) / len(ratings)\n",
    "avg_rating(1, 2, 3, 4, 5)"
   ]
  },
  {
   "cell_type": "markdown",
   "id": "d960c9ea",
   "metadata": {
    "id": "d960c9ea"
   },
   "source": [
    "**Q7. Write a function `format_invoice(**fields)` that returns a string like `INV:<id> - <client> - <amount>` using keys `id`, `client`, `amount` from kwargs??**"
   ]
  },
  {
   "cell_type": "code",
   "execution_count": 13,
   "id": "883b544e",
   "metadata": {
    "colab": {
     "base_uri": "https://localhost:8080/"
    },
    "executionInfo": {
     "elapsed": 17,
     "status": "ok",
     "timestamp": 1761400206125,
     "user": {
      "displayName": "Anmol Agarwal",
      "userId": "08013987210768969151"
     },
     "user_tz": -330
    },
    "id": "883b544e",
    "outputId": "ce8aac3c-ffce-4558-aa5d-1b35798af487"
   },
   "outputs": [
    {
     "name": "stdout",
     "output_type": "stream",
     "text": [
      "INV:123 - ABC Corp - 1000\n",
      "INV:456 - XYZ Ltd - 500.50\n"
     ]
    }
   ],
   "source": [
    "def format_invoice(**fields):\n",
    "    return f\"INV:{fields.get('id')} - {fields.get('client')} - {fields.get('amount')}\"\n",
    "\n",
    "# Example usage:\n",
    "print(format_invoice(id='123', client='ABC Corp', amount='1000'))\n",
    "print(format_invoice(client='XYZ Ltd', id='456', amount='500.50'))"
   ]
  },
  {
   "cell_type": "markdown",
   "id": "e80b73bf",
   "metadata": {
    "id": "e80b73bf"
   },
   "source": [
    "**Q8. Write a function `percent_change(old, new)` that returns percentage change rounded to 2 decimals (positive or negative)??**"
   ]
  },
  {
   "cell_type": "code",
   "execution_count": 19,
   "id": "e56d881d",
   "metadata": {
    "colab": {
     "base_uri": "https://localhost:8080/"
    },
    "executionInfo": {
     "elapsed": 16,
     "status": "ok",
     "timestamp": 1761400560662,
     "user": {
      "displayName": "Anmol Agarwal",
      "userId": "08013987210768969151"
     },
     "user_tz": -330
    },
    "id": "e56d881d",
    "outputId": "5ad35de2-9416-4bc8-e1f0-4731796c3fae"
   },
   "outputs": [
    {
     "data": {
      "text/plain": [
       "20.0"
      ]
     },
     "execution_count": 19,
     "metadata": {},
     "output_type": "execute_result"
    }
   ],
   "source": [
    "def percent_change(old, new):\n",
    "    return round(((new - old) / old) * 100, 2)\n",
    "percent_change(100, 120)"
   ]
  },
  {
   "cell_type": "markdown",
   "id": "a56098c9",
   "metadata": {
    "id": "a56098c9"
   },
   "source": [
    "**Q9. Write a function `sanitize_sku(sku)` that trims spaces and converts the SKU to uppercase??**"
   ]
  },
  {
   "cell_type": "code",
   "execution_count": 23,
   "id": "938566ef",
   "metadata": {
    "colab": {
     "base_uri": "https://localhost:8080/",
     "height": 35
    },
    "executionInfo": {
     "elapsed": 10,
     "status": "ok",
     "timestamp": 1761400619522,
     "user": {
      "displayName": "Anmol Agarwal",
      "userId": "08013987210768969151"
     },
     "user_tz": -330
    },
    "id": "938566ef",
    "outputId": "40134641-49ae-42b1-8dbd-1a35cc2fb3a9"
   },
   "outputs": [
    {
     "data": {
      "application/vnd.google.colaboratory.intrinsic+json": {
       "type": "string"
      },
      "text/plain": [
       "'ABC123'"
      ]
     },
     "execution_count": 23,
     "metadata": {},
     "output_type": "execute_result"
    }
   ],
   "source": [
    "def sanitize_sku(sku):\n",
    "    return sku.strip().upper()\n",
    "sanitize_sku(\"   AbC123   \")"
   ]
  },
  {
   "cell_type": "markdown",
   "id": "0fb6d427",
   "metadata": {
    "id": "0fb6d427"
   },
   "source": [
    "**Q10. Write a function `cap_words(text)` that returns the sentence with each word capitalized (don’t use external libraries)??**"
   ]
  },
  {
   "cell_type": "code",
   "execution_count": 25,
   "id": "968fc87f",
   "metadata": {
    "colab": {
     "base_uri": "https://localhost:8080/",
     "height": 35
    },
    "executionInfo": {
     "elapsed": 18,
     "status": "ok",
     "timestamp": 1761400737907,
     "user": {
      "displayName": "Anmol Agarwal",
      "userId": "08013987210768969151"
     },
     "user_tz": -330
    },
    "id": "968fc87f",
    "outputId": "ff149e7f-39f0-4ced-9404-1ba4768bc148"
   },
   "outputs": [
    {
     "data": {
      "application/vnd.google.colaboratory.intrinsic+json": {
       "type": "string"
      },
      "text/plain": [
       "'HELLO HALLLE'"
      ]
     },
     "execution_count": 25,
     "metadata": {},
     "output_type": "execute_result"
    }
   ],
   "source": [
    "def cap_words(text):\n",
    "  return text.upper()\n",
    "\n",
    "cap_words(\"hello hallle\")"
   ]
  },
  {
   "cell_type": "markdown",
   "id": "32ee14c1",
   "metadata": {
    "id": "32ee14c1"
   },
   "source": [
    "**Q11. Write a function `top_sellers(sales_dict, n)` that takes a dict like `{'A':1200,'B':900,'C':1500}` and returns a list of the top `n` product IDs by sales (highest first)??**"
   ]
  },
  {
   "cell_type": "code",
   "execution_count": 32,
   "id": "c5ecfcd5",
   "metadata": {
    "colab": {
     "base_uri": "https://localhost:8080/"
    },
    "executionInfo": {
     "elapsed": 15,
     "status": "ok",
     "timestamp": 1761400886321,
     "user": {
      "displayName": "Anmol Agarwal",
      "userId": "08013987210768969151"
     },
     "user_tz": -330
    },
    "id": "c5ecfcd5",
    "outputId": "66ed6969-5258-4815-923a-605292832387"
   },
   "outputs": [
    {
     "data": {
      "text/plain": [
       "['C']"
      ]
     },
     "execution_count": 32,
     "metadata": {},
     "output_type": "execute_result"
    }
   ],
   "source": [
    "def top_sellers(sales_dict, n):\n",
    "    return sorted(sales_dict, key=sales_dict.get, reverse=True)[:n]\n",
    "top_sellers({'A':1200,'B':900,'C':1500}, 1)"
   ]
  },
  {
   "cell_type": "markdown",
   "id": "147f47bc",
   "metadata": {
    "id": "147f47bc"
   },
   "source": [
    "**Q12. Write a function `filter_high_value(orders, threshold)` where `orders` is a list of amounts; return only amounts strictly above `threshold`??**"
   ]
  },
  {
   "cell_type": "code",
   "execution_count": 1,
   "id": "0a72d779",
   "metadata": {
    "id": "0a72d779"
   },
   "outputs": [
    {
     "name": "stdout",
     "output_type": "stream",
     "text": [
      "[250, 300]\n"
     ]
    }
   ],
   "source": [
    "def filter_high_value(orders, threshold):\n",
    "    return [amount for amount in orders if amount > threshold]\n",
    "\n",
    "# Example usage\n",
    "orders = [100, 250, 300, 150]\n",
    "result = filter_high_value(orders, 200)\n",
    "print(result)"
   ]
  },
  {
   "cell_type": "markdown",
   "id": "a839c04b",
   "metadata": {
    "id": "a839c04b"
   },
   "source": [
    "**Q13. Write a function `tag_discounts(prices, cutoff)` that returns `['HIGH' if p>=cutoff else 'LOW' for each price]` without using list comprehensions (use a loop)??**"
   ]
  },
  {
   "cell_type": "code",
   "execution_count": 2,
   "id": "6d55eeb9",
   "metadata": {
    "id": "6d55eeb9"
   },
   "outputs": [
    {
     "name": "stdout",
     "output_type": "stream",
     "text": [
      "['LOW', 'HIGH', 'HIGH', 'LOW']\n"
     ]
    }
   ],
   "source": [
    "def tag_discounts(prices, cutoff):\n",
    "    tags = []\n",
    "    for p in prices:\n",
    "        if p >= cutoff:\n",
    "            tags.append('HIGH')\n",
    "        else:\n",
    "            tags.append('LOW')\n",
    "    return tags\n",
    "\n",
    "# Example usage\n",
    "prices = [100, 250, 300, 150]\n",
    "result = tag_discounts(prices, 200)\n",
    "print(result)"
   ]
  },
  {
   "cell_type": "markdown",
   "id": "b5c613d4",
   "metadata": {
    "id": "b5c613d4"
   },
   "source": [
    "**Q14. Write a function `merge_stocks(main, incoming)` that merges two dictionaries of stocks by summing counts for matching keys and keeping non-overlapping ones??**"
   ]
  },
  {
   "cell_type": "code",
   "execution_count": 3,
   "id": "8b62e470",
   "metadata": {
    "id": "8b62e470"
   },
   "outputs": [
    {
     "name": "stdout",
     "output_type": "stream",
     "text": [
      "{'A': 100, 'B': 350, 'C': 80, 'D': 70}\n"
     ]
    }
   ],
   "source": [
    "def merge_stocks(main, incoming):\n",
    "    merged = main.copy()  # Start with main dictionary\n",
    "    for key, value in incoming.items():\n",
    "        if key in merged:\n",
    "            merged[key] += value  # Sum counts for matching keys\n",
    "        else:\n",
    "            merged[key] = value   # Add non-overlapping keys\n",
    "    return merged\n",
    "\n",
    "# Example usage\n",
    "main_stocks = {'A': 100, 'B': 200, 'C': 50}\n",
    "incoming_stocks = {'B': 150, 'C': 30, 'D': 70}\n",
    "\n",
    "result = merge_stocks(main_stocks, incoming_stocks)\n",
    "print(result)"
   ]
  },
  {
   "cell_type": "markdown",
   "id": "26afd3b7",
   "metadata": {
    "id": "26afd3b7"
   },
   "source": [
    "**Q15. Write a function `unique_clients(records)` that takes a list of client names (with duplicates and varying cases) and returns a sorted list of unique names in title case??**"
   ]
  },
  {
   "cell_type": "code",
   "execution_count": 4,
   "id": "8a4f3480",
   "metadata": {
    "id": "8a4f3480"
   },
   "outputs": [
    {
     "name": "stdout",
     "output_type": "stream",
     "text": [
      "['Infosys', 'Reliance', 'Tata']\n"
     ]
    }
   ],
   "source": [
    "def unique_clients(records):\n",
    "    # Convert all names to title case and remove duplicates using set\n",
    "    unique_names = {name.title() for name in records}\n",
    "    # Return a sorted list\n",
    "    return sorted(unique_names)\n",
    "\n",
    "# Example usage\n",
    "clients = ['tata', 'Infosys', 'RELIANCE', 'tata', 'infosys']\n",
    "result = unique_clients(clients)\n",
    "print(result)"
   ]
  },
  {
   "cell_type": "markdown",
   "id": "60a6aa56",
   "metadata": {
    "id": "60a6aa56"
   },
   "source": [
    "**Q16. Write a recursive function `factorial(n)` that returns n! and raises `ValueError` if `n` is negative??**"
   ]
  },
  {
   "cell_type": "code",
   "execution_count": 5,
   "id": "1d7c9813",
   "metadata": {
    "id": "1d7c9813"
   },
   "outputs": [
    {
     "name": "stdout",
     "output_type": "stream",
     "text": [
      "120\n"
     ]
    }
   ],
   "source": [
    "def factorial(n):\n",
    "    if n < 0:\n",
    "        raise ValueError(\"Factorial is not defined for negative numbers\")\n",
    "    if n == 0 or n == 1:\n",
    "        return 1\n",
    "    return n * factorial(n - 1)\n",
    "\n",
    "# Example usage\n",
    "print(factorial(5))"
   ]
  },
  {
   "cell_type": "markdown",
   "id": "d323c69a",
   "metadata": {
    "id": "d323c69a"
   },
   "source": [
    "**Q17. Write a recursive function `flatten(nested)` that flattens a list like `[[1,2],[3,[4]]]` into `[1,2,3,4]`??**"
   ]
  },
  {
   "cell_type": "code",
   "execution_count": 6,
   "id": "d34a59f6",
   "metadata": {
    "id": "d34a59f6"
   },
   "outputs": [
    {
     "name": "stdout",
     "output_type": "stream",
     "text": [
      "[1, 2, 3, 4]\n"
     ]
    }
   ],
   "source": [
    "def flatten(nested):\n",
    "    flat_list = []\n",
    "    for item in nested:\n",
    "        if isinstance(item, list):\n",
    "            flat_list.extend(flatten(item))  # Recursively flatten sublist\n",
    "        else:\n",
    "            flat_list.append(item)           # Append non-list item\n",
    "    return flat_list\n",
    "\n",
    "# Example usage\n",
    "nested_list = [[1, 2], [3, [4]]]\n",
    "result = flatten(nested_list)\n",
    "print(result)"
   ]
  },
  {
   "cell_type": "markdown",
   "id": "cb20298a",
   "metadata": {
    "id": "cb20298a"
   },
   "source": [
    "**Q18. Write a function `make_incrementer(step)` that returns a new function which, when called with `x`, returns `x + step` (closure)??**"
   ]
  },
  {
   "cell_type": "code",
   "execution_count": 10,
   "id": "1b601261",
   "metadata": {
    "id": "1b601261"
   },
   "outputs": [
    {
     "name": "stdout",
     "output_type": "stream",
     "text": [
      "15\n",
      "25\n",
      "12\n"
     ]
    }
   ],
   "source": [
    "def make_incrementer(step):\n",
    "    def increment(x):\n",
    "        return x + step\n",
    "    return increment\n",
    "\n",
    "# Example usage\n",
    "inc_by_5 = make_incrementer(5)\n",
    "print(inc_by_5(10))\n",
    "print(inc_by_5(20))\n",
    "\n",
    "inc_by_2 = make_incrementer(2)\n",
    "print(inc_by_2(10))"
   ]
  },
  {
   "cell_type": "markdown",
   "id": "fc8d45b9",
   "metadata": {
    "id": "fc8d45b9"
   },
   "source": [
    "**Q19. Write a function `safe_div(a, b)` that returns `a/b` but returns `None` if `b==0` instead of raising an error??**"
   ]
  },
  {
   "cell_type": "code",
   "execution_count": 11,
   "id": "a36963be",
   "metadata": {
    "id": "a36963be"
   },
   "outputs": [
    {
     "name": "stdout",
     "output_type": "stream",
     "text": [
      "5.0\n"
     ]
    }
   ],
   "source": [
    "def safe_div(a, b):\n",
    "    if b == 0:\n",
    "        return None\n",
    "    return a / b\n",
    "\n",
    "# Example usage\n",
    "print(safe_div(10, 2))"
   ]
  },
  {
   "cell_type": "code",
   "execution_count": 12,
   "id": "f443f88d-834f-4cba-a062-219c58b685c8",
   "metadata": {},
   "outputs": [
    {
     "name": "stdout",
     "output_type": "stream",
     "text": [
      "None\n"
     ]
    }
   ],
   "source": [
    "print(safe_div(10,0))"
   ]
  },
  {
   "cell_type": "markdown",
   "id": "0b85458f",
   "metadata": {
    "id": "0b85458f"
   },
   "source": [
    "**Q20. Write a function `readable_currency(amount)` that returns a string with thousands separators (e.g., `1,234,567.89`) without using external libraries??**"
   ]
  },
  {
   "cell_type": "code",
   "execution_count": 13,
   "id": "6877f6fc",
   "metadata": {
    "id": "6877f6fc"
   },
   "outputs": [
    {
     "name": "stdout",
     "output_type": "stream",
     "text": [
      "1,234,567.89\n"
     ]
    }
   ],
   "source": [
    "def readable_currency(amount):\n",
    "    return \"{:,.2f}\".format(amount)\n",
    "\n",
    "# Example usage\n",
    "print(readable_currency(1234567.89))"
   ]
  },
  {
   "cell_type": "code",
   "execution_count": 14,
   "id": "2d6ae261-e387-47d0-b24a-2231c3946578",
   "metadata": {},
   "outputs": [
    {
     "name": "stdout",
     "output_type": "stream",
     "text": [
      "1,000.00\n"
     ]
    }
   ],
   "source": [
    "print(readable_currency(1000))"
   ]
  }
 ],
 "metadata": {
  "colab": {
   "provenance": []
  },
  "kernelspec": {
   "display_name": "Python 3 (ipykernel)",
   "language": "python",
   "name": "python3"
  },
  "language_info": {
   "codemirror_mode": {
    "name": "ipython",
    "version": 3
   },
   "file_extension": ".py",
   "mimetype": "text/x-python",
   "name": "python",
   "nbconvert_exporter": "python",
   "pygments_lexer": "ipython3",
   "version": "3.13.5"
  }
 },
 "nbformat": 4,
 "nbformat_minor": 5
}
