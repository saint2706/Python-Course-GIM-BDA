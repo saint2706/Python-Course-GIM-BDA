{
 "cells": [
  {
   "cell_type": "markdown",
   "id": "a1ecf2c9",
   "metadata": {
    "id": "a1ecf2c9"
   },
   "source": [
    "**Q1. You have a list of sales figures `[120, 300, 150, 400]`. How can you use list comprehension to calculate a 10% commission for each sales value??**"
   ]
  },
  {
   "cell_type": "code",
   "execution_count": 3,
   "id": "edfe1e0e-2375-4795-b277-65fdd9292d05",
   "metadata": {
    "id": "AEEYu7Hi_y2R"
   },
   "outputs": [
    {
     "name": "stdout",
     "output_type": "stream",
     "text": [
      "[12.0, 30.0, 15.0, 40.0]\n"
     ]
    }
   ],
   "source": [
    "sales = [120, 300, 150, 400]\n",
    "\n",
    "commission = [s * 0.10 for s in sales]\n",
    "print(commission)"
   ]
  },
  {
   "cell_type": "markdown",
   "id": "8cdfed17",
   "metadata": {
    "id": "8cdfed17"
   },
   "source": [
    "**Q2. Given a list of employee names `['Alice', 'Bob', 'Charlie']`, how can you use list comprehension to create email IDs by adding `@company.com`??**"
   ]
  },
  {
   "cell_type": "code",
   "execution_count": 4,
   "id": "0605e399",
   "metadata": {
    "id": "0605e399"
   },
   "outputs": [
    {
     "name": "stdout",
     "output_type": "stream",
     "text": [
      "['Alice@company.com', 'Bob@company.com', 'Charlie@company.com']\n"
     ]
    }
   ],
   "source": [
    "names = ['Alice', 'Bob', 'Charlie']\n",
    "\n",
    "email = [n+\"@company.com\" for n in names]\n",
    "print(email)"
   ]
  },
  {
   "cell_type": "markdown",
   "id": "73257ced",
   "metadata": {
    "id": "73257ced"
   },
   "source": [
    "**Q3. From a list of product prices `[50, 120, 300, 25]`, how can you use list comprehension to filter only those greater than 100??**"
   ]
  },
  {
   "cell_type": "code",
   "execution_count": 5,
   "id": "cf08d294",
   "metadata": {
    "id": "cf08d294"
   },
   "outputs": [
    {
     "name": "stdout",
     "output_type": "stream",
     "text": [
      "[120, 300]\n"
     ]
    }
   ],
   "source": [
    "prices = [50, 120, 300, 25]\n",
    "\n",
    "high_prices = [p for p in prices if p>100]\n",
    "print(high_prices)"
   ]
  },
  {
   "cell_type": "markdown",
   "id": "3375f876",
   "metadata": {
    "id": "3375f876"
   },
   "source": [
    "**Q4. If you have a list of quantities `[2, 4, 6, 8]`, how can you use list comprehension to generate their square values??**"
   ]
  },
  {
   "cell_type": "code",
   "execution_count": 7,
   "id": "6f3abd30",
   "metadata": {
    "id": "6f3abd30"
   },
   "outputs": [
    {
     "name": "stdout",
     "output_type": "stream",
     "text": [
      "[4, 16, 36, 64]\n"
     ]
    }
   ],
   "source": [
    "quantities = [2, 4, 6, 8]\n",
    "\n",
    "square = [q**2 for q in quantities]\n",
    "print(square)"
   ]
  },
  {
   "cell_type": "markdown",
   "id": "022185d2",
   "metadata": {
    "id": "022185d2"
   },
   "source": [
    "**Q5. From a list of customer feedback words `['good', 'bad', 'excellent']`, how can you use list comprehension to convert each to uppercase??**"
   ]
  },
  {
   "cell_type": "code",
   "execution_count": 10,
   "id": "cbf5cc0a",
   "metadata": {
    "id": "cbf5cc0a"
   },
   "outputs": [
    {
     "name": "stdout",
     "output_type": "stream",
     "text": [
      "['GOOD', 'BAD', 'EXCELLENT']\n"
     ]
    }
   ],
   "source": [
    "feedback = ['good', 'bad', 'excellent']\n",
    "\n",
    "uppercase_feedback = [word.upper() for word in feedback]\n",
    "print(uppercase_feedback)"
   ]
  },
  {
   "cell_type": "markdown",
   "id": "8660b1db",
   "metadata": {
    "id": "8660b1db"
   },
   "source": [
    "**Q6. How can you use a lambda function to calculate profit given revenue and cost??**"
   ]
  },
  {
   "cell_type": "code",
   "execution_count": 11,
   "id": "bfc26c33",
   "metadata": {
    "id": "bfc26c33"
   },
   "outputs": [
    {
     "name": "stdout",
     "output_type": "stream",
     "text": [
      "1500\n",
      "4000\n"
     ]
    }
   ],
   "source": [
    "profit = lambda revenue, cost: revenue - cost\n",
    "\n",
    "# Example usage\n",
    "print(profit(5000, 3500))\n",
    "print(profit(12000, 8000))"
   ]
  },
  {
   "cell_type": "markdown",
   "id": "1163b28d",
   "metadata": {
    "id": "1163b28d"
   },
   "source": [
    "**Q7. Write a lambda function to calculate discount price given original price and discount percentage??**"
   ]
  },
  {
   "cell_type": "code",
   "execution_count": 16,
   "id": "c7acd904",
   "metadata": {
    "id": "c7acd904"
   },
   "outputs": [
    {
     "name": "stdout",
     "output_type": "stream",
     "text": [
      "[900.0, 1350.0, 1800.0]\n"
     ]
    }
   ],
   "source": [
    "discount_price = lambda price, discount_percent: price * (1 - discount_percent / 100)\n",
    "\n",
    "# List of original prices\n",
    "prices = [1000, 1500, 2000]\n",
    "\n",
    "# Discount percentage\n",
    "discount = 10\n",
    "\n",
    "# Apply the lambda to each price using list comprehension\n",
    "discounted_prices = [discount_price(p, discount) for p in prices]\n",
    "print(discounted_prices)"
   ]
  },
  {
   "cell_type": "markdown",
   "id": "f281e7bd",
   "metadata": {
    "id": "f281e7bd"
   },
   "source": [
    "**Q8. How can you create a lambda function that checks if a transaction amount is above 500??**"
   ]
  },
  {
   "cell_type": "code",
   "execution_count": 15,
   "id": "dccd60d7",
   "metadata": {
    "id": "dccd60d7"
   },
   "outputs": [
    {
     "name": "stdout",
     "output_type": "stream",
     "text": [
      "[False, True, False, True]\n"
     ]
    }
   ],
   "source": [
    "is_above_500 = lambda amount: amount > 500\n",
    "\n",
    "# Example list of transactions\n",
    "transactions = [200, 600, 450, 800]\n",
    "\n",
    "# Apply the lambda function to the list using list comprehension\n",
    "results = [is_above_500(t) for t in transactions]\n",
    "print(results)"
   ]
  },
  {
   "cell_type": "markdown",
   "id": "026f5709",
   "metadata": {
    "id": "026f5709"
   },
   "source": [
    "**Q9. Write a lambda function to find maximum of two sales amounts??**"
   ]
  },
  {
   "cell_type": "code",
   "execution_count": 17,
   "id": "f8694b7d",
   "metadata": {
    "id": "f8694b7d"
   },
   "outputs": [
    {
     "name": "stdout",
     "output_type": "stream",
     "text": [
      "1500\n"
     ]
    }
   ],
   "source": [
    "max_sales = lambda a, b: a if a > b else b\n",
    "\n",
    "# Example usage\n",
    "print(max_sales(1200, 1500))"
   ]
  },
  {
   "cell_type": "markdown",
   "id": "a918ebd6",
   "metadata": {
    "id": "a918ebd6"
   },
   "source": [
    "**Q10. How can you use lambda to calculate GST (18%) on a given bill amount??**"
   ]
  },
  {
   "cell_type": "code",
   "execution_count": 18,
   "id": "06236dbc",
   "metadata": {
    "id": "06236dbc"
   },
   "outputs": [
    {
     "name": "stdout",
     "output_type": "stream",
     "text": [
      "180.0\n"
     ]
    }
   ],
   "source": [
    "gst = lambda bill: bill * 0.18\n",
    "\n",
    "# Example usage\n",
    "print(gst(1000))"
   ]
  },
  {
   "cell_type": "markdown",
   "id": "2acc7615",
   "metadata": {
    "id": "2acc7615"
   },
   "source": [
    "**Q11. You have a list of product prices `[100, 200, 300]`. How can you use `map` to increase each price by 15%??**"
   ]
  },
  {
   "cell_type": "code",
   "execution_count": 21,
   "id": "6a7eb7c8",
   "metadata": {
    "colab": {
     "base_uri": "https://localhost:8080/"
    },
    "executionInfo": {
     "elapsed": 72,
     "status": "ok",
     "timestamp": 1761479272801,
     "user": {
      "displayName": "Aryan kant BDA",
      "userId": "06520540236429124935"
     },
     "user_tz": -330
    },
    "id": "6a7eb7c8",
    "outputId": "f7b683a3-3931-480b-f4aa-33d43a5a2366"
   },
   "outputs": [
    {
     "name": "stdout",
     "output_type": "stream",
     "text": [
      "[114.99999999999999, 229.99999999999997, 345.0]\n"
     ]
    }
   ],
   "source": [
    "prices = [100, 200, 300]\n",
    "\n",
    "# Increase each price by 15% using map and lambda\n",
    "updated_prices = list(map(lambda p: p * 1.15, prices))\n",
    "print(updated_prices)"
   ]
  },
  {
   "cell_type": "markdown",
   "id": "8f696c30",
   "metadata": {
    "id": "8f696c30"
   },
   "source": [
    "**Q12. Given a list of employee working hours `[8, 7, 9]`, how can you use `map` to calculate overtime pay assuming 100 per hour??**"
   ]
  },
  {
   "cell_type": "code",
   "execution_count": 22,
   "id": "e639d3f5",
   "metadata": {
    "colab": {
     "base_uri": "https://localhost:8080/"
    },
    "executionInfo": {
     "elapsed": 27,
     "status": "ok",
     "timestamp": 1761479355994,
     "user": {
      "displayName": "Aryan kant BDA",
      "userId": "06520540236429124935"
     },
     "user_tz": -330
    },
    "id": "e639d3f5",
    "outputId": "7fc05dfb-0082-45cb-87dd-be59fcf90659"
   },
   "outputs": [
    {
     "name": "stdout",
     "output_type": "stream",
     "text": [
      "[800, 700, 900]\n"
     ]
    }
   ],
   "source": [
    "working_hours =[8, 7, 9]\n",
    "overtime_pay= list(map(lambda x: x*100, working_hours))\n",
    "print(overtime_pay)"
   ]
  },
  {
   "cell_type": "markdown",
   "id": "04c0c315",
   "metadata": {
    "id": "04c0c315"
   },
   "source": [
    "**Q13. How can you use `map` with lambda to convert a list of product names to uppercase??**"
   ]
  },
  {
   "cell_type": "code",
   "execution_count": 23,
   "id": "59fc7faf",
   "metadata": {
    "colab": {
     "base_uri": "https://localhost:8080/"
    },
    "executionInfo": {
     "elapsed": 76,
     "status": "ok",
     "timestamp": 1761482157090,
     "user": {
      "displayName": "Aryan kant BDA",
      "userId": "06520540236429124935"
     },
     "user_tz": -330
    },
    "id": "59fc7faf",
    "outputId": "f81304ad-c135-45bc-83f5-5fec35eec590"
   },
   "outputs": [
    {
     "name": "stdout",
     "output_type": "stream",
     "text": [
      "['ECHO', 'FIRETV', 'KINDLE', 'FIREOS', 'ATHENA']\n"
     ]
    }
   ],
   "source": [
    "product_names = ['echo', 'firetv', 'kindle', 'fireos', 'athena']\n",
    "product_names_uppercase = list(map(lambda x: x.upper(),product_names))\n",
    "print(product_names_uppercase)"
   ]
  },
  {
   "cell_type": "markdown",
   "id": "08a6cee0",
   "metadata": {
    "id": "08a6cee0"
   },
   "source": [
    "**Q14. You have a list of revenue figures `[1000, 2000, 3000]`. How can you use `map` to calculate net revenue after 10% tax??**"
   ]
  },
  {
   "cell_type": "code",
   "execution_count": 24,
   "id": "61568857",
   "metadata": {
    "colab": {
     "base_uri": "https://localhost:8080/"
    },
    "executionInfo": {
     "elapsed": 28,
     "status": "ok",
     "timestamp": 1761482233404,
     "user": {
      "displayName": "Aryan kant BDA",
      "userId": "06520540236429124935"
     },
     "user_tz": -330
    },
    "id": "61568857",
    "outputId": "bb164f85-3604-4910-8e9c-93f4ad45c97e"
   },
   "outputs": [
    {
     "name": "stdout",
     "output_type": "stream",
     "text": [
      "[900.0, 1800.0, 2700.0]\n"
     ]
    }
   ],
   "source": [
    "rev = [1000, 2000, 3000]\n",
    "net_rev = list(map(lambda x: x*0.9, rev))\n",
    "print(net_rev)"
   ]
  },
  {
   "cell_type": "markdown",
   "id": "46d706c4",
   "metadata": {
    "id": "46d706c4"
   },
   "source": [
    "**Q15. Given a list of marks `[45, 78, 90]`, how can you use `map` to convert them into grades using a lambda??**"
   ]
  },
  {
   "cell_type": "code",
   "execution_count": 25,
   "id": "ddedbe85",
   "metadata": {
    "colab": {
     "base_uri": "https://localhost:8080/"
    },
    "executionInfo": {
     "elapsed": 46,
     "status": "ok",
     "timestamp": 1761484633923,
     "user": {
      "displayName": "Aryan kant BDA",
      "userId": "06520540236429124935"
     },
     "user_tz": -330
    },
    "id": "ddedbe85",
    "outputId": "0345db8e-2430-4c36-ed2f-5da8156ce1ac"
   },
   "outputs": [
    {
     "name": "stdout",
     "output_type": "stream",
     "text": [
      "['C', 'B', 'A']\n"
     ]
    }
   ],
   "source": [
    "marks =[45, 78, 90]\n",
    "grades = list(map(lambda x: 'A' if x >= 90 else ('B' if x >= 70 else 'C'), marks))\n",
    "print(grades)"
   ]
  },
  {
   "cell_type": "markdown",
   "id": "82f091f7",
   "metadata": {
    "id": "82f091f7"
   },
   "source": [
    "**Q16. How can you use `filter` to find products above 500 from `[200, 450, 600, 750]`??**"
   ]
  },
  {
   "cell_type": "code",
   "execution_count": 28,
   "id": "777ec2ac",
   "metadata": {
    "id": "777ec2ac"
   },
   "outputs": [
    {
     "name": "stdout",
     "output_type": "stream",
     "text": [
      "[600, 750]\n"
     ]
    }
   ],
   "source": [
    "products = [200, 450, 600, 750]\n",
    "above_500 = list(filter(lambda x: x > 500, products))\n",
    "print(above_500)"
   ]
  },
  {
   "cell_type": "markdown",
   "id": "699c50d7",
   "metadata": {
    "id": "699c50d7"
   },
   "source": [
    "**Q17. Given employee ages `[22, 34, 19, 45]`, how can you use `filter` to find only those above 30??**"
   ]
  },
  {
   "cell_type": "code",
   "execution_count": 29,
   "id": "c6369dff",
   "metadata": {
    "id": "c6369dff"
   },
   "outputs": [
    {
     "name": "stdout",
     "output_type": "stream",
     "text": [
      "[34, 45]\n"
     ]
    }
   ],
   "source": [
    "ages = [22, 34, 19, 45]\n",
    "\n",
    "above_30 = list(filter(lambda a:a > 30, ages))\n",
    "print(above_30)"
   ]
  },
  {
   "cell_type": "markdown",
   "id": "c3485cb1",
   "metadata": {
    "id": "c3485cb1"
   },
   "source": [
    "**Q18. How can you use `filter` to extract transactions greater than 1000 from `[500, 1200, 2500, 800]`??**"
   ]
  },
  {
   "cell_type": "code",
   "execution_count": 30,
   "id": "f14663a7",
   "metadata": {
    "id": "f14663a7"
   },
   "outputs": [
    {
     "name": "stdout",
     "output_type": "stream",
     "text": [
      "[1200, 2500]\n"
     ]
    }
   ],
   "source": [
    "transactions = [500, 1200, 2500, 800]\n",
    "transactions_above_1000 = list(filter(lambda x: x > 1000, transactions))\n",
    "print(transactions_above_1000)"
   ]
  },
  {
   "cell_type": "markdown",
   "id": "7b27bb90",
   "metadata": {
    "id": "7b27bb90"
   },
   "source": [
    "**Q19. Given a list of customers `['Sam', 'Anna', 'Sophia', 'Raj']`, how can you use `filter` to select names starting with 'S'??**"
   ]
  },
  {
   "cell_type": "code",
   "execution_count": 31,
   "id": "ef44c255",
   "metadata": {
    "colab": {
     "base_uri": "https://localhost:8080/"
    },
    "executionInfo": {
     "elapsed": 22,
     "status": "ok",
     "timestamp": 1761484988488,
     "user": {
      "displayName": "Aryan kant BDA",
      "userId": "06520540236429124935"
     },
     "user_tz": -330
    },
    "id": "ef44c255",
    "outputId": "87b6a65f-7d67-4f6a-b2f3-f8b34d07ab26"
   },
   "outputs": [
    {
     "name": "stdout",
     "output_type": "stream",
     "text": [
      "['Sam', 'Sophia']\n"
     ]
    }
   ],
   "source": [
    "names = ['Sam', 'Anna', 'Sophia', 'Raj']\n",
    "names_s = list(filter(lambda x: x.startswith('S') ,names))\n",
    "print(names_s)"
   ]
  },
  {
   "cell_type": "markdown",
   "id": "3e34c928",
   "metadata": {
    "id": "3e34c928"
   },
   "source": [
    "**Q20. How can you use `filter` with lambda to keep only even invoice numbers `[101, 102, 103, 104]`??**"
   ]
  },
  {
   "cell_type": "code",
   "execution_count": 33,
   "id": "a81ce2c6",
   "metadata": {
    "colab": {
     "base_uri": "https://localhost:8080/"
    },
    "executionInfo": {
     "elapsed": 25,
     "status": "ok",
     "timestamp": 1761485083002,
     "user": {
      "displayName": "Aryan kant BDA",
      "userId": "06520540236429124935"
     },
     "user_tz": -330
    },
    "id": "a81ce2c6",
    "outputId": "5843e0a8-a5d7-4086-c847-6b6079a47f91"
   },
   "outputs": [
    {
     "name": "stdout",
     "output_type": "stream",
     "text": [
      "[102, 104]\n"
     ]
    }
   ],
   "source": [
    "invoice_nums = [101, 102, 103, 104]\n",
    "even_invoice_nums = list(filter(lambda x: x%2==0,invoice_nums))\n",
    "print(even_invoice_nums)"
   ]
  },
  {
   "cell_type": "markdown",
   "id": "05d0be64",
   "metadata": {
    "id": "05d0be64"
   },
   "source": [
    "**Q21. Using list comprehension, how can you compute final prices by adding 18% GST to `[100, 200, 300]`??**"
   ]
  },
  {
   "cell_type": "code",
   "execution_count": 34,
   "id": "fe456de5",
   "metadata": {
    "id": "fe456de5"
   },
   "outputs": [
    {
     "name": "stdout",
     "output_type": "stream",
     "text": [
      "[118.0, 236.0, 354.0]\n"
     ]
    }
   ],
   "source": [
    "prices = [100, 200, 300]\n",
    "final_prices = [price*1.18 for price in prices]\n",
    "print(final_prices)"
   ]
  },
  {
   "cell_type": "markdown",
   "id": "0e03110d",
   "metadata": {
    "id": "0e03110d"
   },
   "source": [
    "**Q22. How can you use `map` and `lambda` together to compute square of `[5, 10, 15]`??**"
   ]
  },
  {
   "cell_type": "code",
   "execution_count": 35,
   "id": "cafa2ed0",
   "metadata": {
    "colab": {
     "base_uri": "https://localhost:8080/"
    },
    "executionInfo": {
     "elapsed": 24,
     "status": "ok",
     "timestamp": 1761485253009,
     "user": {
      "displayName": "Aryan kant BDA",
      "userId": "06520540236429124935"
     },
     "user_tz": -330
    },
    "id": "cafa2ed0",
    "outputId": "f20a856c-c924-4c06-b5cf-4de4d0abdc62"
   },
   "outputs": [
    {
     "data": {
      "text/plain": [
       "[25, 100, 225]"
      ]
     },
     "execution_count": 35,
     "metadata": {},
     "output_type": "execute_result"
    }
   ],
   "source": [
    "numbers = [5, 10, 15]\n",
    "squares = list(map(lambda x: x*x, numbers))\n",
    "squares"
   ]
  },
  {
   "cell_type": "markdown",
   "id": "a79dd1c6",
   "metadata": {
    "id": "a79dd1c6"
   },
   "source": [
    "**Q23. Using `filter` and `lambda`, how can you select employees with salaries greater than 50k from `[40000, 55000, 60000, 30000]`??**"
   ]
  },
  {
   "cell_type": "code",
   "execution_count": 36,
   "id": "019ac979",
   "metadata": {
    "id": "019ac979"
   },
   "outputs": [
    {
     "data": {
      "text/plain": [
       "[550000, 600000]"
      ]
     },
     "execution_count": 36,
     "metadata": {},
     "output_type": "execute_result"
    }
   ],
   "source": [
    "salaries = [40000, 550000, 600000, 30000]\n",
    "\n",
    "above_50k = list(filter(lambda s: s>50000, salaries))\n",
    "above_50k"
   ]
  },
  {
   "cell_type": "markdown",
   "id": "b8e9f1aa",
   "metadata": {
    "id": "b8e9f1aa"
   },
   "source": [
    "**Q24. How can you combine `map` and `filter` to first increase all prices by 10% and then select only those above 200 from `[100, 150, 250]`??**"
   ]
  },
  {
   "cell_type": "code",
   "execution_count": 42,
   "id": "7fa55e47",
   "metadata": {
    "colab": {
     "base_uri": "https://localhost:8080/"
    },
    "executionInfo": {
     "elapsed": 32,
     "status": "ok",
     "timestamp": 1761485359269,
     "user": {
      "displayName": "Aryan kant BDA",
      "userId": "06520540236429124935"
     },
     "user_tz": -330
    },
    "id": "7fa55e47",
    "outputId": "4c924842-579e-460c-9fbc-e748eceb17a3"
   },
   "outputs": [
    {
     "name": "stdout",
     "output_type": "stream",
     "text": [
      "[275.0]\n"
     ]
    }
   ],
   "source": [
    "prices = [100, 150, 250]\n",
    "\n",
    "# Step 1: Increase each price by 10% using map\n",
    "increased_prices = map(lambda p: p * 1.1, prices)\n",
    "\n",
    "# Step 2: Select only prices above 200 using filter\n",
    "filtered_prices = filter(lambda p: p > 200, increased_prices)\n",
    "\n",
    "# Convert the result to a list\n",
    "result = list(filtered_prices)\n",
    "print(result)"
   ]
  },
  {
   "cell_type": "markdown",
   "id": "80a82261",
   "metadata": {
    "id": "80a82261"
   },
   "source": [
    "**Q25. Using list comprehension, how can you replace all negative values with 0 in `[10, -5, 20, -8]`??**"
   ]
  },
  {
   "cell_type": "code",
   "execution_count": 44,
   "id": "1898510c",
   "metadata": {
    "colab": {
     "base_uri": "https://localhost:8080/"
    },
    "executionInfo": {
     "elapsed": 19,
     "status": "ok",
     "timestamp": 1761485541394,
     "user": {
      "displayName": "Aryan kant BDA",
      "userId": "06520540236429124935"
     },
     "user_tz": -330
    },
    "id": "1898510c",
    "outputId": "e1a95ba2-7785-4476-9d4e-40291e520fe2"
   },
   "outputs": [
    {
     "name": "stdout",
     "output_type": "stream",
     "text": [
      "[10, 0, 20, 0]\n"
     ]
    }
   ],
   "source": [
    "numbers = [10, -5, 20, -8]\n",
    "updated_numbers = [x if x > 0 else 0 for x in numbers]\n",
    "print(updated_numbers)"
   ]
  },
  {
   "cell_type": "markdown",
   "id": "c9a35feb",
   "metadata": {
    "id": "c9a35feb"
   },
   "source": [
    "**Q26. How can you use `map` to format a list of invoice numbers `[1, 2, 3]` as `INV-1, INV-2, INV-3`??**"
   ]
  },
  {
   "cell_type": "code",
   "execution_count": 45,
   "id": "bafe1ba2",
   "metadata": {
    "colab": {
     "base_uri": "https://localhost:8080/"
    },
    "executionInfo": {
     "elapsed": 54,
     "status": "ok",
     "timestamp": 1761485656418,
     "user": {
      "displayName": "Aryan kant BDA",
      "userId": "06520540236429124935"
     },
     "user_tz": -330
    },
    "id": "bafe1ba2",
    "outputId": "d6ee31ff-b3a5-4300-badc-d4b4672b13ed"
   },
   "outputs": [
    {
     "name": "stdout",
     "output_type": "stream",
     "text": [
      "['INV-1', 'INV-2', 'INV-3']\n"
     ]
    }
   ],
   "source": [
    "invoice_numbers = [1, 2, 3]\n",
    "formatted_invoices = list(map(lambda x: f'INV-{x}', invoice_numbers))\n",
    "print(formatted_invoices)"
   ]
  },
  {
   "cell_type": "markdown",
   "id": "92cd3284",
   "metadata": {
    "id": "92cd3284"
   },
   "source": [
    "**Q27. Using `filter`, how can you extract only profitable transactions from `[100, -50, 200, -30]`??**"
   ]
  },
  {
   "cell_type": "code",
   "execution_count": 46,
   "id": "e2142d0c",
   "metadata": {
    "id": "e2142d0c"
   },
   "outputs": [
    {
     "name": "stdout",
     "output_type": "stream",
     "text": [
      "[100, 200]\n"
     ]
    }
   ],
   "source": [
    "transactions = [100, -50, 200, -30]\n",
    "\n",
    "profitable_transactions = list(filter(lambda t:t>0, transactions))\n",
    "print(profitable_transactions)"
   ]
  },
  {
   "cell_type": "markdown",
   "id": "bcda4c1f",
   "metadata": {
    "id": "bcda4c1f"
   },
   "source": [
    "**Q28. How can you use lambda in sorting a list of tuples `[('A', 300), ('B', 100), ('C', 200)]` by the second element??**"
   ]
  },
  {
   "cell_type": "code",
   "execution_count": 48,
   "id": "33a4325f",
   "metadata": {
    "colab": {
     "base_uri": "https://localhost:8080/"
    },
    "executionInfo": {
     "elapsed": 25,
     "status": "ok",
     "timestamp": 1761485801369,
     "user": {
      "displayName": "Aryan kant BDA",
      "userId": "06520540236429124935"
     },
     "user_tz": -330
    },
    "id": "33a4325f",
    "outputId": "ff3e0e59-a919-4b95-bcf3-cbc1e9158fde"
   },
   "outputs": [
    {
     "data": {
      "text/plain": [
       "[('B', 100), ('C', 200), ('A', 300)]"
      ]
     },
     "execution_count": 48,
     "metadata": {},
     "output_type": "execute_result"
    }
   ],
   "source": [
    "data =  [('A', 300), ('B', 100), ('C', 200)]\n",
    "tuples = sorted(data, key=lambda x: x[1])\n",
    "tuples"
   ]
  },
  {
   "cell_type": "markdown",
   "id": "82799cfa",
   "metadata": {
    "id": "82799cfa"
   },
   "source": [
    "**Q29. Using list comprehension, how can you flatten `[[1,2],[3,4],[5,6]]` into `[1,2,3,4,5,6]`??**"
   ]
  },
  {
   "cell_type": "code",
   "execution_count": 49,
   "id": "aedea650",
   "metadata": {
    "colab": {
     "base_uri": "https://localhost:8080/"
    },
    "executionInfo": {
     "elapsed": 26,
     "status": "ok",
     "timestamp": 1761486056567,
     "user": {
      "displayName": "Aryan kant BDA",
      "userId": "06520540236429124935"
     },
     "user_tz": -330
    },
    "id": "aedea650",
    "outputId": "1cc9d2e6-044e-4c8d-b163-b893cc7adf2a"
   },
   "outputs": [
    {
     "data": {
      "text/plain": [
       "[1, 2, 3, 4, 5, 6]"
      ]
     },
     "execution_count": 49,
     "metadata": {},
     "output_type": "execute_result"
    }
   ],
   "source": [
    "to_flatten = [[1,2],[3,4],[5,6]]\n",
    "after_flattening = [j for x in to_flatten for j in x]\n",
    "after_flattening"
   ]
  },
  {
   "cell_type": "markdown",
   "id": "2c6634fb",
   "metadata": {
    "id": "2c6634fb"
   },
   "source": [
    "**Q30. How can you use `map` and `lambda` to convert `[10, 20, 30]` into their string equivalents??**"
   ]
  },
  {
   "cell_type": "code",
   "execution_count": 50,
   "id": "589c2b8d",
   "metadata": {
    "colab": {
     "base_uri": "https://localhost:8080/"
    },
    "executionInfo": {
     "elapsed": 39,
     "status": "ok",
     "timestamp": 1761486135608,
     "user": {
      "displayName": "Aryan kant BDA",
      "userId": "06520540236429124935"
     },
     "user_tz": -330
    },
    "id": "589c2b8d",
    "outputId": "dd9214dd-41d2-4d18-ed43-71599ebb8a33"
   },
   "outputs": [
    {
     "data": {
      "text/plain": [
       "['10', '20', '30']"
      ]
     },
     "execution_count": 50,
     "metadata": {},
     "output_type": "execute_result"
    }
   ],
   "source": [
    "nums = [10, 20, 30]\n",
    "strs = list(map(lambda x: str(x), nums))\n",
    "strs"
   ]
  },
  {
   "cell_type": "markdown",
   "id": "64d5789a",
   "metadata": {
    "id": "64d5789a"
   },
   "source": [
    "**Q31. Using `filter` and `lambda`, how can you select all words longer than 5 characters from `['apple', 'banana', 'kiwi', 'watermelon']`??**"
   ]
  },
  {
   "cell_type": "code",
   "execution_count": 51,
   "id": "377e0af6",
   "metadata": {
    "colab": {
     "base_uri": "https://localhost:8080/"
    },
    "executionInfo": {
     "elapsed": 49,
     "status": "ok",
     "timestamp": 1761486189695,
     "user": {
      "displayName": "Aryan kant BDA",
      "userId": "06520540236429124935"
     },
     "user_tz": -330
    },
    "id": "377e0af6",
    "outputId": "743c36a4-b57e-4862-c53f-44a9db832a05"
   },
   "outputs": [
    {
     "data": {
      "text/plain": [
       "['banana', 'watermelon']"
      ]
     },
     "execution_count": 51,
     "metadata": {},
     "output_type": "execute_result"
    }
   ],
   "source": [
    "fruits = ['apple', 'banana', 'kiwi', 'watermelon']\n",
    "long_fruits = list(filter(lambda x: len(x) > 5, fruits ))\n",
    "long_fruits"
   ]
  },
  {
   "cell_type": "markdown",
   "id": "bde85113",
   "metadata": {
    "id": "bde85113"
   },
   "source": [
    "**Q32. How can you use list comprehension to extract the first character from each word in `['Sales', 'Marketing', 'Finance']`??**"
   ]
  },
  {
   "cell_type": "code",
   "execution_count": null,
   "id": "bf7fb348",
   "metadata": {
    "colab": {
     "base_uri": "https://localhost:8080/"
    },
    "executionInfo": {
     "elapsed": 55,
     "status": "ok",
     "timestamp": 1761486254563,
     "user": {
      "displayName": "Aryan kant BDA",
      "userId": "06520540236429124935"
     },
     "user_tz": -330
    },
    "id": "bf7fb348",
    "outputId": "7068376a-bbe1-4faf-f424-6b0fbec3b517"
   },
   "outputs": [
    {
     "data": {
      "text/plain": [
       "['S', 'M', 'F']"
      ]
     },
     "execution_count": 27,
     "metadata": {},
     "output_type": "execute_result"
    }
   ],
   "source": [
    "depts = ['Sales', 'Marketing', 'Finance']\n",
    "spc_depts = [x[0] for x in depts]\n",
    "spc_depts"
   ]
  },
  {
   "cell_type": "markdown",
   "id": "f04127be",
   "metadata": {
    "id": "f04127be"
   },
   "source": [
    "**Q33. Using `map` and `lambda`, how can you calculate square roots of `[4, 9, 16]`??**"
   ]
  },
  {
   "cell_type": "code",
   "execution_count": 52,
   "id": "16530bd5",
   "metadata": {
    "colab": {
     "base_uri": "https://localhost:8080/"
    },
    "executionInfo": {
     "elapsed": 26,
     "status": "ok",
     "timestamp": 1761486341875,
     "user": {
      "displayName": "Aryan kant BDA",
      "userId": "06520540236429124935"
     },
     "user_tz": -330
    },
    "id": "16530bd5",
    "outputId": "add8bb4a-1f6c-4fa3-f4af-22a5b5121d95"
   },
   "outputs": [
    {
     "data": {
      "text/plain": [
       "[2.0, 3.0, 4.0]"
      ]
     },
     "execution_count": 52,
     "metadata": {},
     "output_type": "execute_result"
    }
   ],
   "source": [
    "import math\n",
    "nums = [4, 9, 16]\n",
    "sqrts = list(map(lambda x: math.sqrt(x), nums))\n",
    "sqrts"
   ]
  },
  {
   "cell_type": "markdown",
   "id": "5d1a41be",
   "metadata": {
    "id": "5d1a41be"
   },
   "source": [
    "**Q34. How can you use `filter` and `lambda` to select only positive numbers from `[-10, 0, 5, 15]`??**"
   ]
  },
  {
   "cell_type": "code",
   "execution_count": 53,
   "id": "8fd22bf6",
   "metadata": {
    "colab": {
     "base_uri": "https://localhost:8080/"
    },
    "executionInfo": {
     "elapsed": 19,
     "status": "ok",
     "timestamp": 1761486387496,
     "user": {
      "displayName": "Aryan kant BDA",
      "userId": "06520540236429124935"
     },
     "user_tz": -330
    },
    "id": "8fd22bf6",
    "outputId": "66c7d61a-8ca6-4e81-bdf6-9a03c5c84ff1"
   },
   "outputs": [
    {
     "data": {
      "text/plain": [
       "[5, 15]"
      ]
     },
     "execution_count": 53,
     "metadata": {},
     "output_type": "execute_result"
    }
   ],
   "source": [
    "nums = [-10, 0, 5, 15]\n",
    "pos_nums = list(filter(lambda x: x> 0, nums))\n",
    "pos_nums"
   ]
  },
  {
   "cell_type": "markdown",
   "id": "08189d63",
   "metadata": {
    "id": "08189d63"
   },
   "source": [
    "**Q35. Using list comprehension, how can you generate all possible pairs from `[1,2]` and `[3,4]`??**"
   ]
  },
  {
   "cell_type": "code",
   "execution_count": null,
   "id": "6d77ab4b",
   "metadata": {
    "colab": {
     "base_uri": "https://localhost:8080/"
    },
    "executionInfo": {
     "elapsed": 28,
     "status": "ok",
     "timestamp": 1761486652545,
     "user": {
      "displayName": "Aryan kant BDA",
      "userId": "06520540236429124935"
     },
     "user_tz": -330
    },
    "id": "6d77ab4b",
    "outputId": "aff27b3f-14f5-41a9-e2ab-b6fb0aec0406"
   },
   "outputs": [
    {
     "data": {
      "text/plain": [
       "[(1, 3), (1, 4), (2, 3), (2, 4)]"
      ]
     },
     "execution_count": 32,
     "metadata": {},
     "output_type": "execute_result"
    }
   ],
   "source": [
    "a = [1,2]\n",
    "b = [3,4]\n",
    "pairs = [(x,y) for x in a for y in b]\n",
    "pairs"
   ]
  }
 ],
 "metadata": {
  "colab": {
   "provenance": [
    {
     "file_id": "1xIVRWeXvC2mj4CGhc6dnpWA82gkM7ZCE",
     "timestamp": 1761507013407
    }
   ]
  },
  "kernelspec": {
   "display_name": "Python 3 (ipykernel)",
   "language": "python",
   "name": "python3"
  },
  "language_info": {
   "codemirror_mode": {
    "name": "ipython",
    "version": 3
   },
   "file_extension": ".py",
   "mimetype": "text/x-python",
   "name": "python",
   "nbconvert_exporter": "python",
   "pygments_lexer": "ipython3",
   "version": "3.13.5"
  }
 },
 "nbformat": 4,
 "nbformat_minor": 5
}
