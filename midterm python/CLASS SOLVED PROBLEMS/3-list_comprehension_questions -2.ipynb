{
 "cells": [
  {
   "cell_type": "markdown",
   "id": "01e4e0ab",
   "metadata": {
    "id": "01e4e0ab"
   },
   "source": [
    "**Q1. How can you create a list of squares of product quantities `[2,3,4,5]` using list comprehension??**"
   ]
  },
  {
   "cell_type": "code",
   "execution_count": 3,
   "id": "9a7382d4",
   "metadata": {
    "colab": {
     "base_uri": "https://localhost:8080/"
    },
    "executionInfo": {
     "elapsed": 15,
     "status": "ok",
     "timestamp": 1761398797534,
     "user": {
      "displayName": "Anmol Agarwal",
      "userId": "08013987210768969151"
     },
     "user_tz": -330
    },
    "id": "9a7382d4",
    "outputId": "f352ed06-597c-410d-cb57-6ba5278ff421"
   },
   "outputs": [
    {
     "name": "stdout",
     "output_type": "stream",
     "text": [
      "[4, 9, 16, 25]\n"
     ]
    }
   ],
   "source": [
    "quantities = [2, 3, 4, 5]\n",
    "\n",
    "squares = [q**2 for q in quantities]\n",
    "print(squares)"
   ]
  },
  {
   "cell_type": "markdown",
   "id": "d8e02ab7",
   "metadata": {
    "id": "d8e02ab7"
   },
   "source": [
    "**Q2. From sales values `[120,250,400,90]`, how can you extract only those greater than 200 using list comprehension??**"
   ]
  },
  {
   "cell_type": "code",
   "execution_count": 4,
   "id": "11db950d",
   "metadata": {
    "colab": {
     "base_uri": "https://localhost:8080/"
    },
    "executionInfo": {
     "elapsed": 8,
     "status": "ok",
     "timestamp": 1761398812876,
     "user": {
      "displayName": "Anmol Agarwal",
      "userId": "08013987210768969151"
     },
     "user_tz": -330
    },
    "id": "11db950d",
    "outputId": "a8a20701-02de-48da-d612-5969c8c2e69d"
   },
   "outputs": [
    {
     "name": "stdout",
     "output_type": "stream",
     "text": [
      "[250, 400]\n"
     ]
    }
   ],
   "source": [
    "sales = [120,250,400,90]\n",
    "\n",
    "high_sales = [s for s in sales if s>200]\n",
    "print(high_sales)"
   ]
  },
  {
   "cell_type": "markdown",
   "id": "ab63bbfd",
   "metadata": {
    "id": "ab63bbfd"
   },
   "source": [
    "**Q3. How can you generate a list of customer emails from names `['Ravi','Meera','John']` by adding `@shop.com` using list comprehension??**"
   ]
  },
  {
   "cell_type": "code",
   "execution_count": 5,
   "id": "J1JSTp9ajVVw",
   "metadata": {
    "colab": {
     "base_uri": "https://localhost:8080/"
    },
    "executionInfo": {
     "elapsed": 5,
     "status": "ok",
     "timestamp": 1761398851138,
     "user": {
      "displayName": "Anmol Agarwal",
      "userId": "08013987210768969151"
     },
     "user_tz": -330
    },
    "id": "J1JSTp9ajVVw",
    "outputId": "47ef2837-5b6b-4098-9cfc-e4da0ded52f3"
   },
   "outputs": [
    {
     "name": "stdout",
     "output_type": "stream",
     "text": [
      "['Ravi@shop.com', 'Meera@shop.com', 'John@shop.com']\n"
     ]
    }
   ],
   "source": [
    "names = ['Ravi','Meera','John']\n",
    "email = [n+\"@shop.com\" for n in names]\n",
    "print(email)"
   ]
  },
  {
   "cell_type": "markdown",
   "id": "1539d14a",
   "metadata": {
    "id": "1539d14a"
   },
   "source": [
    "**Q4. How can you convert product names `['laptop','mouse','printer']` to uppercase using list comprehension??**"
   ]
  },
  {
   "cell_type": "code",
   "execution_count": 7,
   "id": "aa367b55",
   "metadata": {
    "colab": {
     "base_uri": "https://localhost:8080/"
    },
    "executionInfo": {
     "elapsed": 11,
     "status": "ok",
     "timestamp": 1761398898900,
     "user": {
      "displayName": "Anmol Agarwal",
      "userId": "08013987210768969151"
     },
     "user_tz": -330
    },
    "id": "aa367b55",
    "outputId": "f8364605-c6eb-4890-9b1f-071fd10da290"
   },
   "outputs": [
    {
     "name": "stdout",
     "output_type": "stream",
     "text": [
      "['LAPTOP', 'MOUSE', 'PRINTER']\n"
     ]
    }
   ],
   "source": [
    "products =['laptop','mouse','printer']\n",
    "uppercase_products = [p.upper() for p in products]\n",
    "print(uppercase_products)"
   ]
  },
  {
   "cell_type": "markdown",
   "id": "d866014a",
   "metadata": {
    "id": "d866014a"
   },
   "source": [
    "**Q5. How can you create a list of even invoice numbers from `[101,102,103,104,105]` using list comprehension??**"
   ]
  },
  {
   "cell_type": "code",
   "execution_count": 10,
   "id": "d0a2af80",
   "metadata": {
    "colab": {
     "base_uri": "https://localhost:8080/"
    },
    "executionInfo": {
     "elapsed": 10,
     "status": "ok",
     "timestamp": 1761398918634,
     "user": {
      "displayName": "Anmol Agarwal",
      "userId": "08013987210768969151"
     },
     "user_tz": -330
    },
    "id": "d0a2af80",
    "outputId": "9decd1e3-756d-4a2d-f05f-94f635b09e9d"
   },
   "outputs": [
    {
     "name": "stdout",
     "output_type": "stream",
     "text": [
      "[102, 104]\n"
     ]
    }
   ],
   "source": [
    "invoice_numbers = [101, 102, 103, 104, 105]\n",
    "\n",
    "even_invoices = [num for num in invoice_numbers if num % 2 == 0]\n",
    "print(even_invoices)"
   ]
  },
  {
   "cell_type": "markdown",
   "id": "1184716b",
   "metadata": {
    "id": "1184716b"
   },
   "source": [
    "**Q6. How can you calculate 10% discount on prices `[500,1000,1500]` using list comprehension??**"
   ]
  },
  {
   "cell_type": "code",
   "execution_count": 12,
   "id": "d17f1d8c",
   "metadata": {
    "colab": {
     "base_uri": "https://localhost:8080/"
    },
    "executionInfo": {
     "elapsed": 55,
     "status": "ok",
     "timestamp": 1761398948240,
     "user": {
      "displayName": "Anmol Agarwal",
      "userId": "08013987210768969151"
     },
     "user_tz": -330
    },
    "id": "d17f1d8c",
    "outputId": "8e4307eb-2102-4f75-b9fb-7c3e89c81a11"
   },
   "outputs": [
    {
     "name": "stdout",
     "output_type": "stream",
     "text": [
      "[450.0, 900.0, 1350.0]\n"
     ]
    }
   ],
   "source": [
    "prices = [500, 1000, 1500]\n",
    "\n",
    "discounted_prices = [price * 0.9 for price in prices]\n",
    "print(discounted_prices)"
   ]
  },
  {
   "cell_type": "markdown",
   "id": "fa734704",
   "metadata": {
    "id": "fa734704"
   },
   "source": [
    "**Q7. How can you replace negative profit values with 0 in `[1200,-300,800,-150]` using list comprehension??**"
   ]
  },
  {
   "cell_type": "code",
   "execution_count": 13,
   "id": "17f88fee",
   "metadata": {
    "colab": {
     "base_uri": "https://localhost:8080/"
    },
    "executionInfo": {
     "elapsed": 8,
     "status": "ok",
     "timestamp": 1761398974624,
     "user": {
      "displayName": "Anmol Agarwal",
      "userId": "08013987210768969151"
     },
     "user_tz": -330
    },
    "id": "17f88fee",
    "outputId": "0143d402-3c32-485d-e567-add052c21d79"
   },
   "outputs": [
    {
     "name": "stdout",
     "output_type": "stream",
     "text": [
      "[1200, 0, 800, 0]\n"
     ]
    }
   ],
   "source": [
    "profits = [1200, -300, 800, -150]\n",
    "\n",
    "adjusted_profits = [p if p >= 0 else 0 for p in profits]\n",
    "print(adjusted_profits)"
   ]
  },
  {
   "cell_type": "markdown",
   "id": "6f90a89a",
   "metadata": {
    "id": "6f90a89a"
   },
   "source": [
    "**Q8. How can you extract the first letter of each department in `['Finance','HR','Operations']` using list comprehension??**"
   ]
  },
  {
   "cell_type": "code",
   "execution_count": 14,
   "id": "c10a7f84",
   "metadata": {
    "colab": {
     "base_uri": "https://localhost:8080/"
    },
    "executionInfo": {
     "elapsed": 13,
     "status": "ok",
     "timestamp": 1761399030130,
     "user": {
      "displayName": "Anmol Agarwal",
      "userId": "08013987210768969151"
     },
     "user_tz": -330
    },
    "id": "c10a7f84",
    "outputId": "9c8ed077-3624-4585-f186-43eb7bda0c21"
   },
   "outputs": [
    {
     "name": "stdout",
     "output_type": "stream",
     "text": [
      "['F', 'H', 'O']\n"
     ]
    }
   ],
   "source": [
    "departments = ['Finance', 'HR', 'Operations']\n",
    "\n",
    "dept_first_letters = [d[0] for d in departments]\n",
    "print(dept_first_letters)"
   ]
  },
  {
   "cell_type": "markdown",
   "id": "5d625def",
   "metadata": {
    "id": "5d625def"
   },
   "source": [
    "**Q9. How can you flatten the nested list of orders `[[101,102],[103,104],[105]]` into a single list using list comprehension??**"
   ]
  },
  {
   "cell_type": "code",
   "execution_count": 16,
   "id": "d333e49b",
   "metadata": {
    "colab": {
     "base_uri": "https://localhost:8080/"
    },
    "executionInfo": {
     "elapsed": 13,
     "status": "ok",
     "timestamp": 1761399120685,
     "user": {
      "displayName": "Anmol Agarwal",
      "userId": "08013987210768969151"
     },
     "user_tz": -330
    },
    "id": "d333e49b",
    "outputId": "25b539d0-4b48-4cd3-c4bb-dd25b68f201d"
   },
   "outputs": [
    {
     "name": "stdout",
     "output_type": "stream",
     "text": [
      "[101, 102, 103, 104, 105]\n"
     ]
    }
   ],
   "source": [
    "l =[[101,102],[103,104],[105]]\n",
    "l = [i for j in l for i in j]\n",
    "print(l)"
   ]
  },
  {
   "cell_type": "code",
   "execution_count": 20,
   "id": "1d1605c6-7bb0-4442-a8d5-dcac869e5303",
   "metadata": {},
   "outputs": [
    {
     "name": "stdout",
     "output_type": "stream",
     "text": [
      "[101, 102, 103, 104, 105]\n"
     ]
    }
   ],
   "source": [
    "#Alt\n",
    "orders = [[101, 102], [103, 104], [105]]\n",
    "\n",
    "flat_orders = [item for sublist in orders for item in sublist]\n",
    "print(flat_orders)"
   ]
  },
  {
   "cell_type": "markdown",
   "id": "37fb7985",
   "metadata": {
    "id": "37fb7985"
   },
   "source": [
    "**Q10. How can you generate a list of squares only for even numbers from `[1,2,3,4,5,6]` using list comprehension??**"
   ]
  },
  {
   "cell_type": "code",
   "execution_count": 22,
   "id": "a006e615",
   "metadata": {
    "colab": {
     "base_uri": "https://localhost:8080/"
    },
    "executionInfo": {
     "elapsed": 11,
     "status": "ok",
     "timestamp": 1761399153592,
     "user": {
      "displayName": "Anmol Agarwal",
      "userId": "08013987210768969151"
     },
     "user_tz": -330
    },
    "id": "a006e615",
    "outputId": "783c410b-6cb2-4299-e53b-55a39e9588de"
   },
   "outputs": [
    {
     "name": "stdout",
     "output_type": "stream",
     "text": [
      "[4, 16, 36]\n"
     ]
    }
   ],
   "source": [
    "numbers = [1, 2, 3, 4, 5, 6]\n",
    "\n",
    "even_squares = [n**2 for n in numbers if n % 2 == 0]\n",
    "print(even_squares)"
   ]
  },
  {
   "cell_type": "markdown",
   "id": "0c83abc0",
   "metadata": {
    "id": "0c83abc0"
   },
   "source": [
    "**Q11. How can you label each sale as 'High' if >200 else 'Low' for `[120,250,90,300]` using list comprehension??**"
   ]
  },
  {
   "cell_type": "code",
   "execution_count": 23,
   "id": "2db09b81",
   "metadata": {
    "colab": {
     "base_uri": "https://localhost:8080/"
    },
    "executionInfo": {
     "elapsed": 12,
     "status": "ok",
     "timestamp": 1761399175944,
     "user": {
      "displayName": "Anmol Agarwal",
      "userId": "08013987210768969151"
     },
     "user_tz": -330
    },
    "id": "2db09b81",
    "outputId": "71cae796-345d-4e28-e180-1d2f68c41f4c"
   },
   "outputs": [
    {
     "name": "stdout",
     "output_type": "stream",
     "text": [
      "['Low', 'High', 'Low', 'High']\n"
     ]
    }
   ],
   "source": [
    "sales = [120, 250, 90, 300]\n",
    "\n",
    "labels = ['High' if s > 200 else 'Low' for s in sales]\n",
    "print(labels)"
   ]
  },
  {
   "cell_type": "markdown",
   "id": "680ec325",
   "metadata": {
    "id": "680ec325"
   },
   "source": [
    "**Q12. How can you compute GST (18%) on each bill in `[1000,2000,3000]` using list comprehension??**"
   ]
  },
  {
   "cell_type": "code",
   "execution_count": 24,
   "id": "34efc28b",
   "metadata": {
    "id": "34efc28b"
   },
   "outputs": [
    {
     "name": "stdout",
     "output_type": "stream",
     "text": [
      "[180.0, 360.0, 540.0]\n"
     ]
    }
   ],
   "source": [
    "bills = [1000, 2000, 3000]\n",
    "\n",
    "gst = [bill * 0.18 for bill in bills]\n",
    "print(gst)"
   ]
  },
  {
   "cell_type": "markdown",
   "id": "2e4a2bd2",
   "metadata": {
    "id": "2e4a2bd2"
   },
   "source": [
    "**Q13. How can you create a list of word lengths from `['data','analytics','python']` using list comprehension??**"
   ]
  },
  {
   "cell_type": "code",
   "execution_count": 25,
   "id": "31a83697",
   "metadata": {
    "id": "31a83697"
   },
   "outputs": [
    {
     "name": "stdout",
     "output_type": "stream",
     "text": [
      "[4, 9, 6]\n"
     ]
    }
   ],
   "source": [
    "words = ['data', 'analytics', 'python']\n",
    "lengths = [len(word) for word in words]\n",
    "print(lengths)"
   ]
  },
  {
   "cell_type": "markdown",
   "id": "bafbb5dc",
   "metadata": {
    "id": "bafbb5dc"
   },
   "source": [
    "**Q14. How can you filter out all customers whose names start with 'A' from `['Amit','Neha','Arjun','Riya']` using list comprehension??**"
   ]
  },
  {
   "cell_type": "code",
   "execution_count": 26,
   "id": "940068bb",
   "metadata": {
    "id": "940068bb"
   },
   "outputs": [
    {
     "name": "stdout",
     "output_type": "stream",
     "text": [
      "['Amit', 'Arjun']\n"
     ]
    }
   ],
   "source": [
    "customers = ['Amit', 'Neha', 'Arjun', 'Riya']\n",
    "\n",
    "a_customers = [c for c in customers if c.startswith('A')]\n",
    "print(a_customers)"
   ]
  },
  {
   "cell_type": "markdown",
   "id": "0f354ad2",
   "metadata": {
    "id": "0f354ad2"
   },
   "source": [
    "**Q15. How can you create a list of cubes for numbers `[1,2,3,4]` using list comprehension??**"
   ]
  },
  {
   "cell_type": "code",
   "execution_count": 27,
   "id": "9fb97da3",
   "metadata": {
    "id": "9fb97da3"
   },
   "outputs": [
    {
     "name": "stdout",
     "output_type": "stream",
     "text": [
      "[1, 8, 27, 64]\n"
     ]
    }
   ],
   "source": [
    "numbers = [1, 2, 3, 4]\n",
    "cubes = [n**3 for n in numbers]\n",
    "print(cubes)"
   ]
  },
  {
   "cell_type": "markdown",
   "id": "d3ad01ba",
   "metadata": {
    "id": "d3ad01ba"
   },
   "source": [
    "**Q16. How can you generate a list of only odd transaction IDs from `[200,201,202,203,204]` using list comprehension??**"
   ]
  },
  {
   "cell_type": "code",
   "execution_count": 28,
   "id": "1cc8ead0",
   "metadata": {
    "id": "1cc8ead0"
   },
   "outputs": [
    {
     "name": "stdout",
     "output_type": "stream",
     "text": [
      "[201, 203]\n"
     ]
    }
   ],
   "source": [
    "transactions = [200, 201, 202, 203, 204]\n",
    "odd_transactions = [t for t in transactions if t % 2 != 0]\n",
    "print(odd_transactions)"
   ]
  },
  {
   "cell_type": "markdown",
   "id": "17405615",
   "metadata": {
    "id": "17405615"
   },
   "source": [
    "**Q17. How can you add a prefix 'EMP-' to all employee IDs `[101,102,103]` using list comprehension??**"
   ]
  },
  {
   "cell_type": "code",
   "execution_count": 29,
   "id": "21cd764a",
   "metadata": {
    "id": "21cd764a"
   },
   "outputs": [
    {
     "name": "stdout",
     "output_type": "stream",
     "text": [
      "['EMP-101', 'EMP-102', 'EMP-103']\n"
     ]
    }
   ],
   "source": [
    "employee_ids = [101, 102, 103]\n",
    "emp_ids = [f'EMP-{eid}' for eid in employee_ids]\n",
    "print(emp_ids)"
   ]
  },
  {
   "cell_type": "markdown",
   "id": "0293fe8c",
   "metadata": {
    "id": "0293fe8c"
   },
   "source": [
    "**Q18. How can you create a list of boolean values checking if sales `[120,200,350]` exceed target 150 using list comprehension??**"
   ]
  },
  {
   "cell_type": "code",
   "execution_count": 30,
   "id": "190c36b3",
   "metadata": {
    "id": "190c36b3"
   },
   "outputs": [
    {
     "name": "stdout",
     "output_type": "stream",
     "text": [
      "[False, True, True]\n"
     ]
    }
   ],
   "source": [
    "sales = [120, 200, 350]\n",
    "above_target = [s > 150 for s in sales]\n",
    "print(above_target)"
   ]
  },
  {
   "cell_type": "markdown",
   "id": "db3b951b",
   "metadata": {
    "id": "db3b951b"
   },
   "source": [
    "**Q19. How can you filter out words longer than 5 characters from `['sales','marketing','hr','operations']` using list comprehension??**"
   ]
  },
  {
   "cell_type": "code",
   "execution_count": 31,
   "id": "2ce8c8f6",
   "metadata": {
    "id": "2ce8c8f6"
   },
   "outputs": [
    {
     "name": "stdout",
     "output_type": "stream",
     "text": [
      "['sales', 'hr']\n"
     ]
    }
   ],
   "source": [
    "words = ['sales', 'marketing', 'hr', 'operations']\n",
    "short_words = [w for w in words if len(w) <= 5]\n",
    "print(short_words)"
   ]
  },
  {
   "cell_type": "markdown",
   "id": "e3549112",
   "metadata": {
    "id": "e3549112"
   },
   "source": [
    "**Q20. How can you generate all possible pairs between `[1,2]` and `[3,4]` using list comprehension??**"
   ]
  },
  {
   "cell_type": "code",
   "execution_count": 32,
   "id": "2f19e37e",
   "metadata": {
    "colab": {
     "base_uri": "https://localhost:8080/"
    },
    "executionInfo": {
     "elapsed": 10,
     "status": "ok",
     "timestamp": 1761399377468,
     "user": {
      "displayName": "Anmol Agarwal",
      "userId": "08013987210768969151"
     },
     "user_tz": -330
    },
    "id": "2f19e37e",
    "outputId": "e8efb3cb-82a5-4795-b5c4-bb9c94398453"
   },
   "outputs": [
    {
     "name": "stdout",
     "output_type": "stream",
     "text": [
      "[(1, 3), (1, 4), (2, 3), (2, 4)]\n"
     ]
    }
   ],
   "source": [
    "list1 = [1, 2]\n",
    "list2 = [3, 4]\n",
    "pairs = [(x, y) for x in list1 for y in list2]\n",
    "print(pairs)"
   ]
  }
 ],
 "metadata": {
  "colab": {
   "provenance": []
  },
  "kernelspec": {
   "display_name": "Python 3 (ipykernel)",
   "language": "python",
   "name": "python3"
  },
  "language_info": {
   "codemirror_mode": {
    "name": "ipython",
    "version": 3
   },
   "file_extension": ".py",
   "mimetype": "text/x-python",
   "name": "python",
   "nbconvert_exporter": "python",
   "pygments_lexer": "ipython3",
   "version": "3.13.5"
  }
 },
 "nbformat": 4,
 "nbformat_minor": 5
}
