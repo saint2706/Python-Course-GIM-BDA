{
 "cells": [
  {
   "cell_type": "code",
   "execution_count": null,
   "id": "de10d640",
   "metadata": {},
   "outputs": [],
   "source": [
    "#feature split first way\n",
    "\n",
    "#importing libraries along with date function also\n",
    "import pandas as pd\n",
    "import numpy as np"
   ]
  },
  {
   "cell_type": "code",
   "execution_count": null,
   "id": "44b84db0",
   "metadata": {},
   "outputs": [],
   "source": [
    "#creating a new data wiht coumn names\n",
    "data = pd.DataFrame({'name':\n",
    "['raja Singh',\n",
    "'sameer Padhi',\n",
    "'ravi Verma',\n",
    "'venkat Reddy',\n",
    "'ramani Priya',\n",
    "]})"
   ]
  },
  {
   "cell_type": "code",
   "execution_count": null,
   "id": "f98811bf",
   "metadata": {},
   "outputs": [],
   "source": []
  },
  {
   "cell_type": "code",
   "execution_count": null,
   "id": "1cacf29a",
   "metadata": {},
   "outputs": [],
   "source": [
    "#Extracting first names\n",
    "data.name.str.split(\" \").map(lambda x: x[0])"
   ]
  },
  {
   "cell_type": "code",
   "execution_count": null,
   "id": "c6a9d0df",
   "metadata": {},
   "outputs": [],
   "source": [
    "#Extracting last names and store in df fn\n",
    "fn=data.name.str.split(\" \").map(lambda x: x[-1])"
   ]
  },
  {
   "cell_type": "code",
   "execution_count": null,
   "id": "ea45c44f",
   "metadata": {},
   "outputs": [],
   "source": [
    "fn"
   ]
  },
  {
   "cell_type": "code",
   "execution_count": null,
   "id": "c6dd0a57",
   "metadata": {},
   "outputs": [],
   "source": [
    "#feature split second way string extraction\n",
    "\n",
    "data1=pd.DataFrame({\"Title\":\n",
    "['Toy Story (1995)',\n",
    "'Jumanji (1995)',\n",
    "'Grumpier Old Men (1995)',\n",
    "'Waiting to Exhale (1995)',\n",
    "'Father of the Bride Part II (1995)',\n",
    "]})"
   ]
  },
  {
   "cell_type": "markdown",
   "id": "a1c11c36",
   "metadata": {},
   "source": [
    "data1"
   ]
  },
  {
   "cell_type": "code",
   "execution_count": null,
   "id": "5de0cd3b",
   "metadata": {},
   "outputs": [],
   "source": [
    "data1"
   ]
  },
  {
   "cell_type": "code",
   "execution_count": null,
   "id": "20f0ec4f",
   "metadata": {},
   "outputs": [],
   "source": [
    "data1.Title.str.split(\"(\", n=1, expand=True)[1].str.split(\")\", n=1, expand=True)[0]"
   ]
  },
  {
   "cell_type": "code",
   "execution_count": null,
   "id": "d743044e",
   "metadata": {},
   "outputs": [],
   "source": [
    "data1"
   ]
  },
  {
   "cell_type": "code",
   "execution_count": null,
   "id": "edeb37e2",
   "metadata": {},
   "outputs": [],
   "source": []
  }
 ],
 "metadata": {
  "kernelspec": {
   "display_name": "Python 3 (ipykernel)",
   "language": "python",
   "name": "python3"
  },
  "language_info": {
   "codemirror_mode": {
    "name": "ipython",
    "version": 3
   },
   "file_extension": ".py",
   "mimetype": "text/x-python",
   "name": "python",
   "nbconvert_exporter": "python",
   "pygments_lexer": "ipython3",
   "version": "3.9.7"
  }
 },
 "nbformat": 4,
 "nbformat_minor": 5
}
