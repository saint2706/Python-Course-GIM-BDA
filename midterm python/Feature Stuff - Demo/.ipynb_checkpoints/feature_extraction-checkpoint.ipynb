{
 "cells": [
  {
   "cell_type": "code",
   "execution_count": null,
   "id": "67c6a610",
   "metadata": {},
   "outputs": [],
   "source": [
    "#importing libraries along with date function also\n",
    "import pandas as pd\n",
    "import numpy as np\n",
    "from datetime import date"
   ]
  },
  {
   "cell_type": "code",
   "execution_count": null,
   "id": "c3978a29",
   "metadata": {},
   "outputs": [],
   "source": [
    "#creating a new data wiht date samples\n",
    "data = pd.DataFrame({'doj':\n",
    "['01-01-2017',\n",
    "'04-12-2008',\n",
    "'23-06-1988',\n",
    "'25-08-1999',\n",
    "'20-02-1993',\n",
    "]})"
   ]
  },
  {
   "cell_type": "code",
   "execution_count": null,
   "id": "86c54ae5",
   "metadata": {},
   "outputs": [],
   "source": [
    "data"
   ]
  },
  {
   "cell_type": "code",
   "execution_count": null,
   "id": "d6487b5c",
   "metadata": {},
   "outputs": [],
   "source": [
    "#since it string, we need to convert that in to date\n",
    "#Transform string to date\n",
    "data['doj'] = pd.to_datetime(data.doj, format=\"%d-%m-%Y\")"
   ]
  },
  {
   "cell_type": "code",
   "execution_count": null,
   "id": "2d3673db",
   "metadata": {},
   "outputs": [],
   "source": [
    "#to check data contents\n",
    "data.head()"
   ]
  },
  {
   "cell_type": "code",
   "execution_count": null,
   "id": "594e6cf2",
   "metadata": {},
   "outputs": [],
   "source": [
    "#Extracting Year\n",
    "data['year'] = data['doj'].dt.year"
   ]
  },
  {
   "cell_type": "code",
   "execution_count": null,
   "id": "5428d7e0",
   "metadata": {},
   "outputs": [],
   "source": [
    "#to check data contents\n",
    "data.head()"
   ]
  },
  {
   "cell_type": "code",
   "execution_count": null,
   "id": "88e67e9a",
   "metadata": {},
   "outputs": [],
   "source": [
    "#Extracting Month\n",
    "data['month'] = data['doj'].dt.month"
   ]
  },
  {
   "cell_type": "code",
   "execution_count": null,
   "id": "e24e5bb7",
   "metadata": {},
   "outputs": [],
   "source": [
    "#to check data contents\n",
    "data.head()"
   ]
  },
  {
   "cell_type": "code",
   "execution_count": null,
   "id": "9524e136",
   "metadata": {},
   "outputs": [],
   "source": [
    "#Extracting passed years since the date\n",
    "data['passed_years'] = date.today().year - data['doj'].dt.year"
   ]
  },
  {
   "cell_type": "code",
   "execution_count": null,
   "id": "34ce0d38",
   "metadata": {},
   "outputs": [],
   "source": [
    "data"
   ]
  },
  {
   "cell_type": "code",
   "execution_count": null,
   "id": "065c3e38",
   "metadata": {},
   "outputs": [],
   "source": [
    "#Extracting passed months since the date\n",
    "data['passed_months'] = (date.today().year - data['doj'].dt.year) * 12 + date.today().month - data['doj'].dt.month"
   ]
  },
  {
   "cell_type": "code",
   "execution_count": null,
   "id": "d95e5ecc",
   "metadata": {},
   "outputs": [],
   "source": [
    "data"
   ]
  },
  {
   "cell_type": "code",
   "execution_count": null,
   "id": "c48906ed",
   "metadata": {},
   "outputs": [],
   "source": [
    "#Extracting the weekday name of the date\n",
    "data['day_name'] = data['doj'].dt.day_name()"
   ]
  },
  {
   "cell_type": "code",
   "execution_count": null,
   "id": "b34b953c",
   "metadata": {},
   "outputs": [],
   "source": [
    "data"
   ]
  },
  {
   "cell_type": "code",
   "execution_count": null,
   "id": "ca4f1a8e",
   "metadata": {},
   "outputs": [],
   "source": []
  }
 ],
 "metadata": {
  "kernelspec": {
   "display_name": "Python 3 (ipykernel)",
   "language": "python",
   "name": "python3"
  },
  "language_info": {
   "codemirror_mode": {
    "name": "ipython",
    "version": 3
   },
   "file_extension": ".py",
   "mimetype": "text/x-python",
   "name": "python",
   "nbconvert_exporter": "python",
   "pygments_lexer": "ipython3",
   "version": "3.9.7"
  }
 },
 "nbformat": 4,
 "nbformat_minor": 5
}
