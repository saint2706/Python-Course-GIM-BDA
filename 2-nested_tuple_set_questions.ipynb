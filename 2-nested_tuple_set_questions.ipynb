{
 "cells": [
  {
   "cell_type": "markdown",
   "id": "21bc5237",
   "metadata": {},
   "source": [
    "# Navigating Nested Structures, Tuples, and Sets\n",
    "\n",
    "This notebook explores how to handle multi-level data containers and membership-based collections used in business analytics workflows."
   ]
  },
  {
   "cell_type": "markdown",
   "id": "213761a9",
   "metadata": {},
   "source": [
    "## How to Use This Notebook\n",
    "\n",
    "- Review the scenario in each markdown cell, then attempt your own solution before expanding ours.\n",
    "- Pay attention to inline comments—they highlight *why* each step is taken.\n",
    "- Use the visual aids to picture set relationships and keep the performance notes handy when deciding between collection types."
   ]
  },
  {
   "cell_type": "markdown",
   "id": "960d88f5",
   "metadata": {},
   "source": [
    "**Q1. Given a nested list of quarterly sales `sales=[[1200,1300],[1400,1500],[1600,1700]]`, how can you access the first quarter of the second year??**"
   ]
  },
  {
   "cell_type": "code",
   "execution_count": null,
   "id": "aa928d13",
   "metadata": {},
   "outputs": [],
   "source": [
    "# Solution for Q1\n",
    "sales = [[1200, 1300], [1400, 1500], [1600, 1700]]\n",
    "first_quarter_first_month = sales[0][0]  # index outer list, then inner list\n",
    "print(f\"January sales for Q1: {first_quarter_first_month}\")"
   ]
  },
  {
   "cell_type": "markdown",
   "id": "13debaa7",
   "metadata": {},
   "source": [
    "**Q2. How can you update the value 1500 to 1550 in the nested list `sales=[[1200,1300],[1400,1500],[1600,1700]]`??**"
   ]
  },
  {
   "cell_type": "code",
   "execution_count": null,
   "id": "136ee21e",
   "metadata": {},
   "outputs": [],
   "source": [
    "# Solution for Q2\n",
    "sales = [[1200, 1300], [1400, 1500], [1600, 1700]]\n",
    "sales[1][1] = 1550  # second quarter, second month\n",
    "print(f\"Updated sales structure: {sales}\")"
   ]
  },
  {
   "cell_type": "markdown",
   "id": "cadf3db3",
   "metadata": {},
   "source": [
    "### Visual Aid: Thinking in Sets\n",
    "\n",
    "```\n",
    "Set A (Retail)       Set B (Online)\n",
    "      ┌───────┐          ┌───────┐\n",
    "      │ Ravi  │          │  Ali  │\n",
    "      │ Meera │          │ Kiran │\n",
    "      │ John  │──────────│ John  │\n",
    "      └───────┘          └───────┘\n",
    "```\n",
    "\n",
    "The ASCII Venn diagram emphasises that intersection captures overlapping members—in this example, John shops through both channels."
   ]
  },
  {
   "cell_type": "markdown",
   "id": "f22603c7",
   "metadata": {},
   "source": [
    "**Q3. How can you flatten the nested list `orders=[[101,102],[103,104],[105]]` into a single list??**"
   ]
  },
  {
   "cell_type": "code",
   "execution_count": null,
   "id": "92d1fb6a",
   "metadata": {},
   "outputs": [],
   "source": [
    "# Solution for Q3\n",
    "orders = [[101, 102], [103, 104], [105]]\n",
    "flat_orders = [order for batch in orders for order in batch]  # nested comprehension to flatten\n",
    "print(f\"Flattened order IDs: {flat_orders}\")"
   ]
  },
  {
   "cell_type": "markdown",
   "id": "72456a04",
   "metadata": {},
   "source": [
    "**Q4. How can you access the 'city' of employee in dictionary `employee={'id':101,'details':{'name':'Anita','city':'Pune'}}`??**"
   ]
  },
  {
   "cell_type": "code",
   "execution_count": null,
   "id": "e0635f16",
   "metadata": {},
   "outputs": [],
   "source": [
    "# Solution for Q4\n",
    "employee = {'id': 101, 'details': {'name': 'Anita', 'city': 'Pune'}}\n",
    "city = employee['details']['city']  # chained key access into nested dict\n",
    "print(f\"Employee city: {city}\")"
   ]
  },
  {
   "cell_type": "markdown",
   "id": "ce40eead",
   "metadata": {},
   "source": [
    "**Q5. How can you add a new key 'department':'HR' under 'details' in dictionary `employee={'id':101,'details':{'name':'Anita','city':'Pune'}}`??**"
   ]
  },
  {
   "cell_type": "code",
   "execution_count": null,
   "id": "e1925a9a",
   "metadata": {},
   "outputs": [],
   "source": [
    "# Solution for Q5\n",
    "employee = {'id': 101, 'details': {'name': 'Anita', 'city': 'Pune'}}\n",
    "employee['details']['department'] = 'HR'  # add nested key-value pair\n",
    "print(f\"Employee with department: {employee}\")"
   ]
  },
  {
   "cell_type": "markdown",
   "id": "bc7e78ae",
   "metadata": {},
   "source": [
    "**Q6. How can you update the 'city' from 'Pune' to 'Mumbai' in nested dictionary `employee={'id':101,'details':{'name':'Anita','city':'Pune'}}`??**"
   ]
  },
  {
   "cell_type": "code",
   "execution_count": null,
   "id": "659be65f",
   "metadata": {},
   "outputs": [],
   "source": [
    "# Solution for Q6\n",
    "employee = {'id': 101, 'details': {'name': 'Anita', 'city': 'Pune'}}\n",
    "employee['details']['city'] = 'Mumbai'  # update nested key directly\n",
    "print(f\"Relocated employee: {employee}\")"
   ]
  },
  {
   "cell_type": "markdown",
   "id": "62afb92e",
   "metadata": {},
   "source": [
    "**Q7. Given a tuple of stock prices `prices=(250,275,290,310)`, how can you access the last price??**"
   ]
  },
  {
   "cell_type": "code",
   "execution_count": null,
   "id": "b848cbc7",
   "metadata": {},
   "outputs": [],
   "source": [
    "# Solution for Q7\n",
    "prices = (250, 275, 290, 310)\n",
    "last_price = prices[-1]  # negative index fetches final entry\n",
    "print(f\"Latest stock price: ₹{last_price}\")"
   ]
  },
  {
   "cell_type": "markdown",
   "id": "f4fb9277",
   "metadata": {},
   "source": [
    "**Q8. How can you unpack the tuple `branch=('Delhi',250000)` into two separate variables??**"
   ]
  },
  {
   "cell_type": "code",
   "execution_count": 1,
   "id": "93e333eb",
   "metadata": {},
   "outputs": [
    {
     "name": "stdout",
     "output_type": "stream",
     "text": [
      "Branch city: Delhi\n",
      "Quarterly revenue: ₹250000\n"
     ]
    }
   ],
   "source": [
    "# Solution for Q8\n",
    "branch = ('Delhi', 250000)\n",
    "city, revenue = branch  # tuple unpacking\n",
    "print(f\"Branch city: {city}\\nQuarterly revenue: ₹{revenue}\")"
   ]
  },
  {
   "cell_type": "markdown",
   "id": "ecdb1ddd",
   "metadata": {},
   "source": [
    "**Q9. Given two sets of customers `setA={'Ravi','Meera','John'}` and `setB={'John','Ali','Kiran'}`, how can you find the common customers??**"
   ]
  },
  {
   "cell_type": "code",
   "execution_count": null,
   "id": "7171abf2",
   "metadata": {},
   "outputs": [],
   "source": [
    "# Solution for Q9\n",
    "setA = {'Ravi', 'Meera', 'John'}\n",
    "setB = {'John', 'Ali', 'Kiran'}\n",
    "common_customers = setA.intersection(setB)  # overlap of both channels\n",
    "print(f\"Shared customers: {common_customers}\")"
   ]
  },
  {
   "cell_type": "markdown",
   "id": "ecbe84b6",
   "metadata": {},
   "source": [
    "**Q10. How can you add a new supplier 'GlobalCorp' to the set `suppliers={'TCS','Infosys','Wipro'}`??**"
   ]
  },
  {
   "cell_type": "code",
   "execution_count": null,
   "id": "8c81d7c4",
   "metadata": {},
   "outputs": [],
   "source": [
    "# Solution for Q10\n",
    "suppliers = {'TCS', 'Infosys', 'Wipro'}\n",
    "suppliers.add('GlobalCorp')  # sets support add for single elements\n",
    "print(f\"Supplier pool: {suppliers}\")"
   ]
  },
  {
   "cell_type": "markdown",
   "id": "06dff9d5",
   "metadata": {},
   "source": [
    "### Performance Notes\n",
    "\n",
    "- **Tuples vs. Lists:** Tuples are immutable and therefore slightly faster to iterate. Use them when structure should not change (e.g., geographical coordinates).\n",
    "- **Sets vs. Lists:** Sets provide constant-time membership checks and automatically discard duplicates, making them ideal for deduplication or tracking unique visitors.\n",
    "- **Nested Collections:** Deeply nested lists may benefit from converting to dictionaries with descriptive keys for readability, especially when data grows complex."
   ]
  },
  {
   "cell_type": "markdown",
   "id": "e1ef1397",
   "metadata": {},
   "source": [
    "#### Section Recap\n",
    "\n",
    "| Concept | Key Takeaway |\n",
    "|---------|--------------|\n",
    "| Nested Lists | Index twice (`outer[inner_index]`) to reach data. |\n",
    "| Tuples | Unpack into named variables for clarity. |\n",
    "| Sets | Use `.intersection`, `.union`, `.difference` to compare groups quickly. |"
   ]
  },
  {
   "cell_type": "markdown",
   "id": "8584ac05",
   "metadata": {},
   "source": [
    "### Common Pitfalls\n",
    "\n",
    "1. Attempting to modify tuple contents—remember to convert to a list first if updates are required.\n",
    "2. Forgetting that sets are unordered; avoid relying on positional access.\n",
    "3. Overwriting nested dictionaries without copying existing keys, which can drop required information."
   ]
  }
 ],
 "metadata": {},
 "nbformat": 4,
 "nbformat_minor": 5
}
