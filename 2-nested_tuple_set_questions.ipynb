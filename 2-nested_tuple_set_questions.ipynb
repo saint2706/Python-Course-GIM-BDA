{
 "cells": [
  {
   "cell_type": "markdown",
   "id": "960d88f5",
   "metadata": {},
   "source": [
    "**Q1. Given a nested list of quarterly sales `sales=[[1200,1300],[1400,1500],[1600,1700]]`, how can you access the first quarter of the second year??**"
   ]
  },
  {
   "cell_type": "code",
   "execution_count": null,
   "id": "aa928d13",
   "metadata": {},
   "outputs": [],
   "source": []
  },
  {
   "cell_type": "markdown",
   "id": "13debaa7",
   "metadata": {},
   "source": [
    "**Q2. How can you update the value 1500 to 1550 in the nested list `sales=[[1200,1300],[1400,1500],[1600,1700]]`??**"
   ]
  },
  {
   "cell_type": "code",
   "execution_count": null,
   "id": "136ee21e",
   "metadata": {},
   "outputs": [],
   "source": []
  },
  {
   "cell_type": "markdown",
   "id": "f22603c7",
   "metadata": {},
   "source": [
    "**Q3. How can you flatten the nested list `orders=[[101,102],[103,104],[105]]` into a single list??**"
   ]
  },
  {
   "cell_type": "code",
   "execution_count": null,
   "id": "92d1fb6a",
   "metadata": {},
   "outputs": [],
   "source": []
  },
  {
   "cell_type": "markdown",
   "id": "72456a04",
   "metadata": {},
   "source": [
    "**Q4. How can you access the 'city' of employee in dictionary `employee={'id':101,'details':{'name':'Anita','city':'Pune'}}`??**"
   ]
  },
  {
   "cell_type": "code",
   "execution_count": null,
   "id": "e0635f16",
   "metadata": {},
   "outputs": [],
   "source": []
  },
  {
   "cell_type": "markdown",
   "id": "ce40eead",
   "metadata": {},
   "source": [
    "**Q5. How can you add a new key 'department':'HR' under 'details' in dictionary `employee={'id':101,'details':{'name':'Anita','city':'Pune'}}`??**"
   ]
  },
  {
   "cell_type": "code",
   "execution_count": null,
   "id": "e1925a9a",
   "metadata": {},
   "outputs": [],
   "source": []
  },
  {
   "cell_type": "markdown",
   "id": "bc7e78ae",
   "metadata": {},
   "source": [
    "**Q6. How can you update the 'city' from 'Pune' to 'Mumbai' in nested dictionary `employee={'id':101,'details':{'name':'Anita','city':'Pune'}}`??**"
   ]
  },
  {
   "cell_type": "code",
   "execution_count": null,
   "id": "659be65f",
   "metadata": {},
   "outputs": [],
   "source": []
  },
  {
   "cell_type": "markdown",
   "id": "62afb92e",
   "metadata": {},
   "source": [
    "**Q7. Given a tuple of stock prices `prices=(250,275,290,310)`, how can you access the last price??**"
   ]
  },
  {
   "cell_type": "code",
   "execution_count": null,
   "id": "b848cbc7",
   "metadata": {},
   "outputs": [],
   "source": []
  },
  {
   "cell_type": "markdown",
   "id": "f4fb9277",
   "metadata": {},
   "source": [
    "**Q8. How can you unpack the tuple `branch=('Delhi',250000)` into two separate variables??**"
   ]
  },
  {
   "cell_type": "code",
   "execution_count": null,
   "id": "93e333eb",
   "metadata": {},
   "outputs": [],
   "source": []
  },
  {
   "cell_type": "markdown",
   "id": "ecdb1ddd",
   "metadata": {},
   "source": [
    "**Q9. Given two sets of customers `setA={'Ravi','Meera','John'}` and `setB={'John','Ali','Kiran'}`, how can you find the common customers??**"
   ]
  },
  {
   "cell_type": "code",
   "execution_count": null,
   "id": "7171abf2",
   "metadata": {},
   "outputs": [],
   "source": []
  },
  {
   "cell_type": "markdown",
   "id": "ecbe84b6",
   "metadata": {},
   "source": [
    "**Q10. How can you add a new supplier 'GlobalCorp' to the set `suppliers={'TCS','Infosys','Wipro'}`??**"
   ]
  },
  {
   "cell_type": "code",
   "execution_count": null,
   "id": "8c81d7c4",
   "metadata": {},
   "outputs": [],
   "source": []
  }
 ],
 "metadata": {},
 "nbformat": 4,
 "nbformat_minor": 5
}