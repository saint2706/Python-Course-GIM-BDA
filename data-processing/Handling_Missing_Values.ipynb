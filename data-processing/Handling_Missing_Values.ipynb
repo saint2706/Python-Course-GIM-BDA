{
 "cells": [
  {
   "cell_type": "markdown",
   "id": "02b24d30",
   "metadata": {},
   "source": [
    "# Handling Missing Values in Data Science\n",
    "This notebook demonstrates realistic handling of missing data using pandas.\n",
    "We'll first create a dummy CSV with 200 rows and then explore:\n",
    "1. dropna() and its variations\n",
    "2. fillna() and its variations"
   ]
  },
  {
   "cell_type": "markdown",
   "id": "d804e1ca",
   "metadata": {},
   "source": [
    "## Step 1. Read the  CSV Dataset\n",
    "We'll read a dataset of 200 customer records with some missing values."
   ]
  },
  {
   "cell_type": "code",
   "execution_count": 2,
   "id": "bc852dbb",
   "metadata": {},
   "outputs": [],
   "source": [
    "# Load data from CSV file\n",
    "df= pd.read_csv('customer_data.csv')"
   ]
  },
  {
   "cell_type": "markdown",
   "id": "e4acb95c",
   "metadata": {},
   "source": [
    "## Step 2. Understanding Missing Values\n",
    "Missing values can occur due to incomplete surveys, sensor failures, or data merging issues. Let's check how many we have."
   ]
  },
  {
   "cell_type": "code",
   "execution_count": 3,
   "id": "6665a4ed",
   "metadata": {},
   "outputs": [
    {
     "data": {
      "text/plain": [
       "Customer_ID         0\n",
       "Age                 6\n",
       "Gender             25\n",
       "Income             17\n",
       "Purchase_Amount     7\n",
       "Region              7\n",
       "dtype: int64"
      ]
     },
     "execution_count": 3,
     "metadata": {},
     "output_type": "execute_result"
    }
   ],
   "source": [
    "# Check for missing values\n",
    "df.isnull().sum()"
   ]
  },
  {
   "cell_type": "markdown",
   "id": "90b01de7",
   "metadata": {},
   "source": [
    "## Step 3. Dropping Missing Values\n",
    "Various ways to drop missing data:\n",
    "- `dropna()` removes any row with at least one NaN.\n",
    "- `dropna(axis=1)` removes columns with NaN.\n",
    "- `dropna(thresh=n)` keeps rows with at least n non-NaN values.\n",
    "- `dropna(subset=[cols])` drops rows only if specific columns have NaN."
   ]
  },
  {
   "cell_type": "code",
   "execution_count": 4,
   "id": "67012f2c",
   "metadata": {},
   "outputs": [
    {
     "name": "stdout",
     "output_type": "stream",
     "text": [
      "Original Shape: (200, 6)\n"
     ]
    }
   ],
   "source": [
    "# Check the dimensions of the dataset\n",
    "print(\"Original Shape:\", df.shape)"
   ]
  },
  {
   "cell_type": "code",
   "execution_count": 5,
   "id": "34333c5a",
   "metadata": {},
   "outputs": [
    {
     "name": "stdout",
     "output_type": "stream",
     "text": [
      "After dropna(): (142, 6)\n"
     ]
    }
   ],
   "source": [
    "# Drop any row with a missing value\n",
    "df_drop_any = df.dropna()\n",
    "# Check the dimensions of the dataset\n",
    "print(\"After dropna():\", df_drop_any.shape)"
   ]
  },
  {
   "cell_type": "code",
   "execution_count": 6,
   "id": "dd090979",
   "metadata": {},
   "outputs": [
    {
     "name": "stdout",
     "output_type": "stream",
     "text": [
      "After axis=1: (200, 1)\n"
     ]
    }
   ],
   "source": [
    "# Drop columns with missing values\n",
    "df_drop_col = df.dropna(axis=1)\n",
    "# Check the dimensions of the dataset\n",
    "print(\"After axis=1:\", df_drop_col.shape)"
   ]
  },
  {
   "cell_type": "code",
   "execution_count": 8,
   "id": "4cb38bf7",
   "metadata": {},
   "outputs": [
    {
     "name": "stdout",
     "output_type": "stream",
     "text": [
      "After thresh=4: (200, 6)\n"
     ]
    }
   ],
   "source": [
    "# Drop rows with less than 4 non-null values\n",
    "df_thresh = df.dropna(thresh=4)\n",
    "# Check the dimensions of the dataset\n",
    "print(\"After thresh=4:\", df_thresh.shape)"
   ]
  },
  {
   "cell_type": "code",
   "execution_count": 9,
   "id": "91e7f29d",
   "metadata": {},
   "outputs": [
    {
     "name": "stdout",
     "output_type": "stream",
     "text": [
      "After subset=['Income','Purchase_Amount']: (177, 6)\n"
     ]
    }
   ],
   "source": [
    "# Drop rows only if 'Income' or 'Purchase_Amount' are missing\n",
    "df_subset = df.dropna(subset=['Income', 'Purchase_Amount'])\n",
    "\n",
    "# Check the dimensions of the dataset\n",
    "print(\"After subset=['Income','Purchase_Amount']:\", df_subset.shape)"
   ]
  },
  {
   "cell_type": "markdown",
   "id": "7b82e4f2",
   "metadata": {},
   "source": [
    "## Step 4. Filling Missing Values\n",
    "Instead of dropping, we can impute missing values.\n",
    "- `fillna(value)` replaces all NaNs with a constant.\n",
    "- `fillna(method='ffill')` forward fills.\n",
    "- `fillna(method='bfill')` backward fills.\n",
    "- Fill numeric columns with mean/median/mode."
   ]
  },
  {
   "cell_type": "code",
   "execution_count": null,
   "id": "cd730701",
   "metadata": {},
   "outputs": [],
   "source": [
    "# Fill with constant\n",
    "df_const = df.fillna({'Gender': 'Unknown', 'Region': 'Unknown'})"
   ]
  },
  {
   "cell_type": "code",
   "execution_count": null,
   "id": "7f6e7948",
   "metadata": {},
   "outputs": [],
   "source": [
    "# Forward fill\n",
    "df_ffill = df.fillna(method='ffill')"
   ]
  },
  {
   "cell_type": "code",
   "execution_count": null,
   "id": "839ac6ae",
   "metadata": {},
   "outputs": [],
   "source": [
    "# Backward fill\n",
    "df_bfill = df.fillna(method='bfill')"
   ]
  },
  {
   "cell_type": "code",
   "execution_count": null,
   "id": "de994f0e",
   "metadata": {},
   "outputs": [],
   "source": [
    "# Fill numeric columns with mean/median\n",
    "df_numfill = df.copy()\n"
   ]
  },
  {
   "cell_type": "code",
   "execution_count": null,
   "id": "cdfdafa4",
   "metadata": {},
   "outputs": [],
   "source": [
    "# Fill missing values\n",
    "df_numfill['Age'] = df['Age'].fillna(df['Age'].mean())\n",
    ""
   ]
  },
  {
   "cell_type": "code",
   "execution_count": null,
   "id": "f96d863b",
   "metadata": {},
   "outputs": [],
   "source": [
    "# Fill missing values\n",
    "df_numfill['Income'] = df['Income'].fillna(df['Income'].median())\n",
    ""
   ]
  },
  {
   "cell_type": "code",
   "execution_count": null,
   "id": "2693cbec",
   "metadata": {},
   "outputs": [],
   "source": [
    "# Display first few rows of data\n",
    "df_numfill.head()"
   ]
  },
  {
   "cell_type": "markdown",
   "id": "ddbc4b93",
   "metadata": {},
   "source": [
    "## Step 5. Context in Data Science\n",
    "Choosing between `dropna` and `fillna` depends on context:\n",
    "- **dropna()**: When missingness is rare or random.\n",
    "- **fillna()**: When data is valuable and imputable (e.g., mean, median, ffill, etc.)."
   ]
  },
  {
   "cell_type": "markdown",
   "id": "4eb4ce32",
   "metadata": {},
   "source": [
    "## Step 6. Summary Table\n",
    "| Method | Description | Best Use Case |\n",
    "|---------|-------------|----------------|\n",
    "| dropna() | Remove rows with missing data | Sparse missingness |\n",
    "| dropna(axis=1) | Remove columns with missing data | Unusable features |\n",
    "| dropna(thresh=n) | Keep rows with at least n valid entries | Flexible cleaning |\n",
    "| fillna(value) | Replace NaN with constant | Categorical/known values |\n",
    "| fillna(method='ffill') | Forward fill | Time series data |\n",
    "| fillna(method='bfill') | Backward fill | Sequential data |\n",
    "| fillna(mean/median) | Statistical imputation | Numeric features |"
   ]
  },
  {
   "cell_type": "markdown",
   "id": "9a7c080e",
   "metadata": {},
   "source": [
    "## Dealing with outliers"
   ]
  },
  {
   "cell_type": "code",
   "execution_count": 11,
   "id": "a5eac006",
   "metadata": {},
   "outputs": [
    {
     "name": "stdout",
     "output_type": "stream",
     "text": [
      "Lower Bound: -1500.0, Upper Bound: 6500.0\n"
     ]
    }
   ],
   "source": [
    "# Calculate IQR\n",
    "Q1 = df['Purchase_Amount'].quantile(0.25)\n",
    "# Calculate quantile values for outlier detection\n",
    "Q3 = df['Purchase_Amount'].quantile(0.75)\n",
    "# Calculate Interquartile Range for outlier detection\n",
    "IQR = Q3 - Q1\n",
    "\n",
    "# Define upper and lower bounds\n",
    "lower_bound = Q1 - 1.5 * IQR\n",
    "# Calculate Interquartile Range for outlier detection\n",
    "upper_bound = Q3 + 1.5 * IQR\n",
    "\n",
    "print(f\"Lower Bound: {lower_bound}, Upper Bound: {upper_bound}\")\n",
    ""
   ]
  },
  {
   "cell_type": "markdown",
   "id": "caace079",
   "metadata": {},
   "source": [
    "## np.where syntax\n",
    "### np.where(condition, value_if_true, value_if_false)"
   ]
  },
  {
   "cell_type": "code",
   "execution_count": 12,
   "id": "742a045f",
   "metadata": {},
   "outputs": [],
   "source": [
    "\n",
    "# (a) Cap to IQR limit\n",
    "df['Capped_IQR'] = np.where(df['Purchase_Amount'] > upper_bound, upper_bound,\n",
    "                            # Filter data based on condition\n",
    "                            np.where(df['Purchase_Amount'] < lower_bound, lower_bound, df['Purchase_Amount']))\n",
    "\n",
    "df"
   ]
  },
  {
   "cell_type": "code",
   "execution_count": 14,
   "id": "45e31e33",
   "metadata": {},
   "outputs": [
    {
     "data": {
      "text/html": [
       "<div>\n",
       "<style scoped>\n",
       "    .dataframe tbody tr th:only-of-type {\n",
       "        vertical-align: middle;\n",
       "    }\n",
       "\n",
       "    .dataframe tbody tr th {\n",
       "        vertical-align: top;\n",
       "    }\n",
       "\n",
       "    .dataframe thead th {\n",
       "        text-align: right;\n",
       "    }\n",
       "</style>\n",
       "<table border=\"1\" class=\"dataframe\">\n",
       "  <thead>\n",
       "    <tr style=\"text-align: right;\">\n",
       "      <th></th>\n",
       "      <th>Customer_ID</th>\n",
       "      <th>Age</th>\n",
       "      <th>Gender</th>\n",
       "      <th>Income</th>\n",
       "      <th>Purchase_Amount</th>\n",
       "      <th>Region</th>\n",
       "      <th>Capped_IQR</th>\n",
       "      <th>Capped_Max</th>\n",
       "    </tr>\n",
       "  </thead>\n",
       "  <tbody>\n",
       "    <tr>\n",
       "      <th>0</th>\n",
       "      <td>1</td>\n",
       "      <td>55.0</td>\n",
       "      <td>Male</td>\n",
       "      <td>70000.0</td>\n",
       "      <td>2400.0</td>\n",
       "      <td>West</td>\n",
       "      <td>2400.0</td>\n",
       "      <td>2400.0</td>\n",
       "    </tr>\n",
       "    <tr>\n",
       "      <th>1</th>\n",
       "      <td>2</td>\n",
       "      <td>45.0</td>\n",
       "      <td>Male</td>\n",
       "      <td>65000.0</td>\n",
       "      <td>1900.0</td>\n",
       "      <td>North</td>\n",
       "      <td>1900.0</td>\n",
       "      <td>1900.0</td>\n",
       "    </tr>\n",
       "    <tr>\n",
       "      <th>2</th>\n",
       "      <td>3</td>\n",
       "      <td>31.0</td>\n",
       "      <td>Male</td>\n",
       "      <td>30000.0</td>\n",
       "      <td>2400.0</td>\n",
       "      <td>East</td>\n",
       "      <td>2400.0</td>\n",
       "      <td>2400.0</td>\n",
       "    </tr>\n",
       "    <tr>\n",
       "      <th>3</th>\n",
       "      <td>4</td>\n",
       "      <td>59.0</td>\n",
       "      <td>Female</td>\n",
       "      <td>50000.0</td>\n",
       "      <td>1400.0</td>\n",
       "      <td>NaN</td>\n",
       "      <td>1400.0</td>\n",
       "      <td>1400.0</td>\n",
       "    </tr>\n",
       "    <tr>\n",
       "      <th>4</th>\n",
       "      <td>5</td>\n",
       "      <td>24.0</td>\n",
       "      <td>Female</td>\n",
       "      <td>70000.0</td>\n",
       "      <td>4000.0</td>\n",
       "      <td>East</td>\n",
       "      <td>4000.0</td>\n",
       "      <td>4000.0</td>\n",
       "    </tr>\n",
       "    <tr>\n",
       "      <th>...</th>\n",
       "      <td>...</td>\n",
       "      <td>...</td>\n",
       "      <td>...</td>\n",
       "      <td>...</td>\n",
       "      <td>...</td>\n",
       "      <td>...</td>\n",
       "      <td>...</td>\n",
       "      <td>...</td>\n",
       "    </tr>\n",
       "    <tr>\n",
       "      <th>195</th>\n",
       "      <td>196</td>\n",
       "      <td>42.0</td>\n",
       "      <td>Female</td>\n",
       "      <td>60000.0</td>\n",
       "      <td>2500.0</td>\n",
       "      <td>West</td>\n",
       "      <td>2500.0</td>\n",
       "      <td>2500.0</td>\n",
       "    </tr>\n",
       "    <tr>\n",
       "      <th>196</th>\n",
       "      <td>197</td>\n",
       "      <td>48.0</td>\n",
       "      <td>Female</td>\n",
       "      <td>70000.0</td>\n",
       "      <td>3300.0</td>\n",
       "      <td>South</td>\n",
       "      <td>3300.0</td>\n",
       "      <td>3300.0</td>\n",
       "    </tr>\n",
       "    <tr>\n",
       "      <th>197</th>\n",
       "      <td>198</td>\n",
       "      <td>22.0</td>\n",
       "      <td>Female</td>\n",
       "      <td>75000.0</td>\n",
       "      <td>4600.0</td>\n",
       "      <td>South</td>\n",
       "      <td>4600.0</td>\n",
       "      <td>4600.0</td>\n",
       "    </tr>\n",
       "    <tr>\n",
       "      <th>198</th>\n",
       "      <td>199</td>\n",
       "      <td>48.0</td>\n",
       "      <td>NaN</td>\n",
       "      <td>75000.0</td>\n",
       "      <td>2000.0</td>\n",
       "      <td>South</td>\n",
       "      <td>2000.0</td>\n",
       "      <td>2000.0</td>\n",
       "    </tr>\n",
       "    <tr>\n",
       "      <th>199</th>\n",
       "      <td>200</td>\n",
       "      <td>20.0</td>\n",
       "      <td>NaN</td>\n",
       "      <td>75000.0</td>\n",
       "      <td>2900.0</td>\n",
       "      <td>East</td>\n",
       "      <td>2900.0</td>\n",
       "      <td>2900.0</td>\n",
       "    </tr>\n",
       "  </tbody>\n",
       "</table>\n",
       "<p>200 rows × 8 columns</p>\n",
       "</div>"
      ],
      "text/plain": [
       "     Customer_ID   Age  Gender   Income  Purchase_Amount Region  Capped_IQR  \\\n",
       "0              1  55.0    Male  70000.0           2400.0   West      2400.0   \n",
       "1              2  45.0    Male  65000.0           1900.0  North      1900.0   \n",
       "2              3  31.0    Male  30000.0           2400.0   East      2400.0   \n",
       "3              4  59.0  Female  50000.0           1400.0    NaN      1400.0   \n",
       "4              5  24.0  Female  70000.0           4000.0   East      4000.0   \n",
       "..           ...   ...     ...      ...              ...    ...         ...   \n",
       "195          196  42.0  Female  60000.0           2500.0   West      2500.0   \n",
       "196          197  48.0  Female  70000.0           3300.0  South      3300.0   \n",
       "197          198  22.0  Female  75000.0           4600.0  South      4600.0   \n",
       "198          199  48.0     NaN  75000.0           2000.0  South      2000.0   \n",
       "199          200  20.0     NaN  75000.0           2900.0   East      2900.0   \n",
       "\n",
       "     Capped_Max  \n",
       "0        2400.0  \n",
       "1        1900.0  \n",
       "2        2400.0  \n",
       "3        1400.0  \n",
       "4        4000.0  \n",
       "..          ...  \n",
       "195      2500.0  \n",
       "196      3300.0  \n",
       "197      4600.0  \n",
       "198      2000.0  \n",
       "199      2900.0  \n",
       "\n",
       "[200 rows x 8 columns]"
      ]
     },
     "execution_count": 14,
     "metadata": {},
     "output_type": "execute_result"
    }
   ],
   "source": [
    "# (b) Cap to highest actual non-outlier value\n",
    "highest_valid = df[df['Purchase_Amount'] <= upper_bound]['Purchase_Amount'].max()\n",
    "# Filter data based on condition\n",
    "df['Capped_Max'] = np.where(df['Purchase_Amount'] > upper_bound, highest_valid, df['Purchase_Amount'])\n",
    "\n",
    ""
   ]
  }
 ],
 "metadata": {
  "kernelspec": {
   "display_name": "Python 3 (ipykernel)",
   "language": "python",
   "name": "python3"
  },
  "language_info": {
   "codemirror_mode": {
    "name": "ipython",
    "version": 3
   },
   "file_extension": ".py",
   "mimetype": "text/x-python",
   "name": "python",
   "nbconvert_exporter": "python",
   "pygments_lexer": "ipython3",
   "version": "3.11.3"
  }
 },
 "nbformat": 4,
 "nbformat_minor": 5
}